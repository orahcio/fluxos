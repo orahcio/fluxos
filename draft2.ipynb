{
 "cells": [
  {
   "cell_type": "code",
   "execution_count": 1,
   "metadata": {
    "collapsed": true
   },
   "outputs": [],
   "source": [
    "from sympy import *\n",
    "from sympy.abc import s, t"
   ]
  },
  {
   "cell_type": "code",
   "execution_count": 2,
   "metadata": {
    "collapsed": true
   },
   "outputs": [],
   "source": [
    "def PI(z,m,n):\n",
    "    a = Symbol('beta',positive=True)\n",
    "    aux = exp(-m*z)*Product((2**(k+1)/(a*z)*sinh(a*z/2**(k+1)))**(2**k), (k, 1, n)).doit()\n",
    "    aux = aux.rewrite(exp).expand()\n",
    "    return aux"
   ]
  },
  {
   "cell_type": "code",
   "execution_count": 3,
   "metadata": {},
   "outputs": [
    {
     "name": "stdout",
     "output_type": "stream",
     "text": [
      "IPython console for SymPy 1.1.1 (Python 2.7.13-64-bit) (ground types: python)\n",
      "\n",
      "These commands were executed:\n",
      ">>> from __future__ import division\n",
      ">>> from sympy import *\n",
      ">>> x, y, z, t = symbols('x y z t')\n",
      ">>> k, m, n = symbols('k m n', integer=True)\n",
      ">>> f, g, h = symbols('f g h', cls=Function)\n",
      ">>> init_printing()\n",
      "\n",
      "Documentation can be found at http://docs.sympy.org/1.1.1/\n",
      "\n"
     ]
    }
   ],
   "source": [
    "init_session()"
   ]
  },
  {
   "cell_type": "code",
   "execution_count": 101,
   "metadata": {},
   "outputs": [
    {
     "data": {
      "image/png": "[encoded data removed]",
      "text/latex": [
       "$$\\frac{4 e^{\\frac{\\beta s}{2}}}{\\beta^{2} s^{2}} e^{- j s} - \\frac{8 e^{- j s}}{\\beta^{2} s^{2}} + \\frac{4 e^{- j s}}{\\beta^{2} s^{2}} e^{- \\frac{\\beta s}{2}}$$"
      ],
      "text/plain": [
       "   β⋅s                      -β⋅s       \n",
       "   ───                      ─────      \n",
       "    2   -j⋅s      -j⋅s        2    -j⋅s\n",
       "4⋅ℯ   ⋅ℯ       8⋅ℯ       4⋅ℯ     ⋅ℯ    \n",
       "──────────── - ─────── + ──────────────\n",
       "    2  2         2  2         2  2     \n",
       "   β ⋅s         β ⋅s         β ⋅s      "
      ]
     },
     "execution_count": 101,
     "metadata": {},
     "output_type": "execute_result"
    }
   ],
   "source": [
    "expr = PI(s,Symbol('j'),1)\n",
    "expr"
   ]
  },
  {
   "cell_type": "code",
   "execution_count": 102,
   "metadata": {},
   "outputs": [
    {
     "data": {
      "image/png": "[encoded data removed]",
      "text/latex": [
       "$$\\frac{2 e^{\\frac{\\beta s}{2}}}{\\beta s^{2}} e^{- j s} - \\frac{2 e^{- j s}}{\\beta s^{2}} e^{- \\frac{\\beta s}{2}} - \\frac{4 j e^{\\frac{\\beta s}{2}}}{\\beta^{2} s^{2}} e^{- j s} + \\frac{8 j}{\\beta^{2} s^{2}} e^{- j s} - \\frac{4 j}{\\beta^{2} s^{2}} e^{- \\frac{\\beta s}{2}} e^{- j s} - \\frac{8 e^{\\frac{\\beta s}{2}}}{\\beta^{2} s^{3}} e^{- j s} + \\frac{16 e^{- j s}}{\\beta^{2} s^{3}} - \\frac{8 e^{- j s}}{\\beta^{2} s^{3}} e^{- \\frac{\\beta s}{2}}$$"
      ],
      "text/plain": [
       "   β⋅s            -β⋅s               β⋅s                          -β⋅s        \n",
       "   ───            ─────              ───                          ─────       \n",
       "    2   -j⋅s        2    -j⋅s         2   -j⋅s        -j⋅s          2    -j⋅s \n",
       "2⋅ℯ   ⋅ℯ       2⋅ℯ     ⋅ℯ       4⋅j⋅ℯ   ⋅ℯ       8⋅j⋅ℯ       4⋅j⋅ℯ     ⋅ℯ     \n",
       "──────────── - ────────────── - ────────────── + ───────── - ──────────────── \n",
       "       2               2             2  2           2  2           2  2       \n",
       "    β⋅s             β⋅s             β ⋅s           β ⋅s           β ⋅s        \n",
       "\n",
       "     β⋅s                       -β⋅s       \n",
       "     ───                       ─────      \n",
       "      2   -j⋅s       -j⋅s        2    -j⋅s\n",
       "  8⋅ℯ   ⋅ℯ       16⋅ℯ       8⋅ℯ     ⋅ℯ    \n",
       "- ──────────── + ──────── - ──────────────\n",
       "      2  3         2  3          2  3     \n",
       "     β ⋅s         β ⋅s          β ⋅s      "
      ]
     },
     "execution_count": 102,
     "metadata": {},
     "output_type": "execute_result"
    }
   ],
   "source": [
    "expr1 = diff(expr,s,1)\n",
    "expr1"
   ]
  },
  {
   "cell_type": "code",
   "execution_count": 103,
   "metadata": {},
   "outputs": [
    {
     "data": {
      "image/png": "[encoded data removed]",
      "text/latex": [
       "$$\\frac{e^{\\frac{\\beta s}{2}}}{s^{2}} e^{- j s} + \\frac{1}{s^{2}} e^{- \\frac{\\beta s}{2}} e^{- j s} - \\frac{4 j e^{\\frac{\\beta s}{2}}}{\\beta s^{2}} e^{- j s} + \\frac{4 j}{\\beta s^{2}} e^{- \\frac{\\beta s}{2}} e^{- j s} - \\frac{8 e^{\\frac{\\beta s}{2}}}{\\beta s^{3}} e^{- j s} + \\frac{8 e^{- j s}}{\\beta s^{3}} e^{- \\frac{\\beta s}{2}} + \\frac{4 j^{2} e^{\\frac{\\beta s}{2}}}{\\beta^{2} s^{2}} e^{- j s} - \\frac{8 j^{2}}{\\beta^{2} s^{2}} e^{- j s} + \\frac{4 j^{2}}{\\beta^{2} s^{2}} e^{- \\frac{\\beta s}{2}} e^{- j s} + \\frac{16 j e^{\\frac{\\beta s}{2}}}{\\beta^{2} s^{3}} e^{- j s} - \\frac{32 j}{\\beta^{2} s^{3}} e^{- j s} + \\frac{16 j}{\\beta^{2} s^{3}} e^{- \\frac{\\beta s}{2}} e^{- j s} + \\frac{24 e^{\\frac{\\beta s}{2}}}{\\beta^{2} s^{4}} e^{- j s} - \\frac{48 e^{- j s}}{\\beta^{2} s^{4}} + \\frac{24 e^{- j s}}{\\beta^{2} s^{4}} e^{- \\frac{\\beta s}{2}}$$"
      ],
      "text/plain": [
       " β⋅s          -β⋅s               β⋅s              -β⋅s             β⋅s        \n",
       " ───          ─────              ───              ─────            ───        \n",
       "  2   -j⋅s      2    -j⋅s         2   -j⋅s          2    -j⋅s       2   -j⋅s  \n",
       "ℯ   ⋅ℯ       ℯ     ⋅ℯ       4⋅j⋅ℯ   ⋅ℯ       4⋅j⋅ℯ     ⋅ℯ       8⋅ℯ   ⋅ℯ      \n",
       "────────── + ──────────── - ────────────── + ──────────────── - ──────────── +\n",
       "     2             2                2                 2                3      \n",
       "    s             s              β⋅s               β⋅s              β⋅s       \n",
       "\n",
       "    -β⋅s                β⋅s                            -β⋅s                β⋅s\n",
       "    ─────               ───                            ─────               ───\n",
       "      2    -j⋅s      2   2   -j⋅s      2  -j⋅s      2    2    -j⋅s          2 \n",
       " 8⋅ℯ     ⋅ℯ       4⋅j ⋅ℯ   ⋅ℯ       8⋅j ⋅ℯ       4⋅j ⋅ℯ     ⋅ℯ       16⋅j⋅ℯ   \n",
       " ────────────── + ─────────────── - ────────── + ───────────────── + ─────────\n",
       "         3              2  2           2  2             2  2               2  \n",
       "      β⋅s              β ⋅s           β ⋅s             β ⋅s               β ⋅s\n",
       "\n",
       "                            -β⋅s              β⋅s                        -β⋅s \n",
       "                            ─────             ───                        ─────\n",
       "  -j⋅s         -j⋅s           2    -j⋅s        2   -j⋅s       -j⋅s         2  \n",
       "⋅ℯ       32⋅j⋅ℯ       16⋅j⋅ℯ     ⋅ℯ       24⋅ℯ   ⋅ℯ       48⋅ℯ       24⋅ℯ     \n",
       "────── - ────────── + ───────────────── + ───────────── - ──────── + ─────────\n",
       "3           2  3             2  3              2  4         2  4           2  \n",
       "           β ⋅s             β ⋅s              β ⋅s         β ⋅s           β ⋅s\n",
       "\n",
       "      \n",
       "      \n",
       "  -j⋅s\n",
       "⋅ℯ    \n",
       "──────\n",
       "4     \n",
       "      "
      ]
     },
     "execution_count": 103,
     "metadata": {},
     "output_type": "execute_result"
    }
   ],
   "source": [
    "expr2 = diff(expr1,s,1)\n",
    "expr2"
   ]
  },
  {
   "cell_type": "code",
   "execution_count": 105,
   "metadata": {},
   "outputs": [
    {
     "data": {
      "image/png": "[encoded data removed]",
      "text/latex": [
       "$$\\frac{\\beta^{2}}{24} + j^{2}$$"
      ],
      "text/plain": [
       " 2     \n",
       "β     2\n",
       "── + j \n",
       "24     "
      ]
     },
     "execution_count": 105,
     "metadata": {},
     "output_type": "execute_result"
    }
   ],
   "source": [
    "expr2.simplify().limit(s,0)"
   ]
  },
  {
   "cell_type": "code",
   "execution_count": 13,
   "metadata": {},
   "outputs": [
    {
     "data": {
      "image/png": "[encoded data removed]",
      "text/latex": [
       "$$\\frac{\\beta^{2}}{24} + j^{2}$$"
      ],
      "text/plain": [
       " 2     \n",
       "β     2\n",
       "── + j \n",
       "24     "
      ]
     },
     "execution_count": 13,
     "metadata": {},
     "output_type": "execute_result"
    }
   ],
   "source": [
    "limit(expr2,s,0)"
   ]
  },
  {
   "cell_type": "code",
   "execution_count": 56,
   "metadata": {},
   "outputs": [
    {
     "data": {
      "image/png": "[encoded data removed]",
      "text/latex": [
       "$$A \\left(\\beta s\\right)^{- n} e^{s \\left(\\beta c - j\\right)}$$"
      ],
      "text/plain": [
       "       -n  s⋅(β⋅c - j)\n",
       "A⋅(β⋅s)  ⋅ℯ           "
      ]
     },
     "execution_count": 56,
     "metadata": {},
     "output_type": "execute_result"
    }
   ],
   "source": [
    "A, c = symbols('A c')\n",
    "j, beta, gamma = symbols('j beta gamma', positive=True)\n",
    "\n",
    "expr = A/(beta*s)**n*exp(s*(c*beta-j))\n",
    "expr"
   ]
  },
  {
   "cell_type": "code",
   "execution_count": 64,
   "metadata": {},
   "outputs": [
    {
     "data": {
      "image/png": "[encoded data removed]",
      "text/latex": [
       "$$\\frac{1}{s^{2}} + \\frac{1}{s} \\left(\\beta c - j\\right) + s \\left(\\frac{\\beta^{3} c^{3}}{6} - \\frac{c^{2} j}{2} \\beta^{2} + \\frac{\\beta c}{2} j^{2} - \\frac{j^{3}}{6}\\right) + \\frac{j^{2}}{2} - \\beta c j + \\frac{\\beta^{2} c^{2}}{2} + \\mathcal{O}\\left(s^{2}\\right)$$"
      ],
      "text/plain": [
       "                 ⎛ 3  3    2  2          2    3⎞    2            2  2        \n",
       "1    β⋅c - j     ⎜β ⋅c    β ⋅c ⋅j   β⋅c⋅j    j ⎟   j            β ⋅c     ⎛ 2⎞\n",
       "── + ─────── + s⋅⎜───── - ─────── + ────── - ──⎟ + ── - β⋅c⋅j + ───── + O⎝s ⎠\n",
       " 2      s        ⎝  6        2        2      6 ⎠   2              2          \n",
       "s                                                                            "
      ]
     },
     "execution_count": 64,
     "metadata": {},
     "output_type": "execute_result"
    }
   ],
   "source": [
    "expr2 = 1/s**2*exp(-j*s+c*beta*s)\n",
    "#expr2 = expr2.subs([[c,0]])\n",
    "expr2.series(s,0,2)"
   ]
  },
  {
   "cell_type": "code",
   "execution_count": 35,
   "metadata": {},
   "outputs": [
    {
     "data": {
      "image/png": "[encoded data removed]",
      "text/latex": [
       "$$\\frac{A \\gamma^{2}}{s^{2}} \\beta^{- \\gamma} s^{- \\gamma} e^{- j s} + \\frac{2 A}{s} \\beta^{- \\gamma} \\gamma j s^{- \\gamma} e^{- j s} + \\frac{A \\gamma}{s^{2}} \\beta^{- \\gamma} s^{- \\gamma} e^{- j s} + A \\beta^{- \\gamma} j^{2} s^{- \\gamma} e^{- j s}$$"
      ],
      "text/plain": [
       "   -γ  2  -γ  -j⋅s        -γ      -γ  -j⋅s      -γ    -γ  -j⋅s                \n",
       "A⋅β  ⋅γ ⋅s  ⋅ℯ       2⋅A⋅β  ⋅γ⋅j⋅s  ⋅ℯ       A⋅β  ⋅γ⋅s  ⋅ℯ          -γ  2  -γ \n",
       "────────────────── + ───────────────────── + ───────────────── + A⋅β  ⋅j ⋅s  ⋅\n",
       "         2                     s                      2                       \n",
       "        s                                            s                        \n",
       "\n",
       "     \n",
       " -j⋅s\n",
       "ℯ    \n",
       "     \n",
       "     "
      ]
     },
     "execution_count": 35,
     "metadata": {},
     "output_type": "execute_result"
    }
   ],
   "source": [
    "expr2 = expr2.subs([[c,0]])\n",
    "expr2"
   ]
  },
  {
   "cell_type": "code",
   "execution_count": 36,
   "metadata": {},
   "outputs": [
    {
     "data": {
      "image/png": "[encoded data removed]",
      "text/latex": [
       "$$\\infty \\operatorname{sign}{\\left (A \\gamma^{2} + A \\gamma \\right )}$$"
      ],
      "text/plain": [
       "      ⎛   2      ⎞\n",
       "∞⋅sign⎝A⋅γ  + A⋅γ⎠"
      ]
     },
     "execution_count": 36,
     "metadata": {},
     "output_type": "execute_result"
    }
   ],
   "source": [
    "limit(expr2,s,0)"
   ]
  },
  {
   "cell_type": "code",
   "execution_count": 38,
   "metadata": {},
   "outputs": [
    {
     "data": {
      "image/png": "[encoded data removed]",
      "text/latex": [
       "$$A \\left(\\beta s\\right)^{- \\gamma} e^{- j s}$$"
      ],
      "text/plain": [
       "       -γ  -j⋅s\n",
       "A⋅(β⋅s)  ⋅ℯ    "
      ]
     },
     "execution_count": 38,
     "metadata": {},
     "output_type": "execute_result"
    }
   ],
   "source": [
    "expr = A/(beta*s)**gamma*exp(-j*s)\n",
    "expr"
   ]
  },
  {
   "cell_type": "code",
   "execution_count": 39,
   "metadata": {},
   "outputs": [
    {
     "data": {
      "image/png": "[encoded data removed]",
      "text/latex": [
       "$$\\infty \\operatorname{sign}{\\left (A \\right )}$$"
      ],
      "text/plain": [
       "∞⋅sign(A)"
      ]
     },
     "execution_count": 39,
     "metadata": {},
     "output_type": "execute_result"
    }
   ],
   "source": [
    "limit(expr,s,0)"
   ]
  },
  {
   "cell_type": "code",
   "execution_count": 115,
   "metadata": {},
   "outputs": [
    {
     "data": {
      "text/latex": [
       "$$\\left\\[0, 0.0416666666666667, 0.0625, 0.0729166666666667, \\ldots\\right\\]$$"
      ],
      "text/plain": [
       "[0, 0.0416666666666667, 0.0625, 0.0729166666666667, …]"
      ]
     },
     "execution_count": 115,
     "metadata": {},
     "output_type": "execute_result"
    }
   ],
   "source": [
    "SeqFormula(factor(1/3*2**(-n - 2)*(-1 + 2**n)),(n,0,5))"
   ]
  },
  {
   "cell_type": "code",
   "execution_count": 141,
   "metadata": {
    "collapsed": true
   },
   "outputs": [],
   "source": [
    "s =SeqFormula(nsimplify(1/3*2**(-n - 2)*(-1 + 2**n)))"
   ]
  },
  {
   "cell_type": "code",
   "execution_count": 118,
   "metadata": {},
   "outputs": [
    {
     "data": {
      "image/png": "[encoded data removed]",
      "text/latex": [
       "$$\\frac{1}{3} 2^{- n - 2} \\left(2^{n} - 1\\right)$$"
      ],
      "text/plain": [
       " -n - 2 ⎛ n    ⎞\n",
       "2      ⋅⎝2  - 1⎠\n",
       "────────────────\n",
       "       3        "
      ]
     },
     "execution_count": 118,
     "metadata": {},
     "output_type": "execute_result"
    }
   ],
   "source": [
    "nsimplify(1/3*2**(-n - 2)*(-1 + 2**n))"
   ]
  },
  {
   "cell_type": "code",
   "execution_count": 150,
   "metadata": {},
   "outputs": [
    {
     "data": {
      "image/png": "[encoded data removed]",
      "text/latex": [
       "$$12.0$$"
      ],
      "text/plain": [
       "12.0000000000000"
      ]
     },
     "execution_count": 150,
     "metadata": {},
     "output_type": "execute_result"
    }
   ],
   "source": [
    "1/nfloat(s.coeff(1000))"
   ]
  },
  {
   "cell_type": "code",
   "execution_count": 124,
   "metadata": {},
   "outputs": [
    {
     "data": {
      "image/png": "[encoded data removed]",
      "text/latex": [
       "$$\\left [ \\frac{3}{2}, \\quad - \\frac{1}{2}\\right ]$$"
      ],
      "text/plain": [
       "[3/2, -1/2]"
      ]
     },
     "execution_count": 124,
     "metadata": {},
     "output_type": "execute_result"
    }
   ],
   "source": [
    "sequence(nsimplify(1/3*2**(-n - 2)*(-1 + 2**n))).find_linear_recurrence(10)"
   ]
  },
  {
   "cell_type": "code",
   "execution_count": 131,
   "metadata": {
    "collapsed": true
   },
   "outputs": [],
   "source": [
    "s = SeqPer((1/24,1/16,7/96),(0,5))"
   ]
  },
  {
   "cell_type": "code",
   "execution_count": 132,
   "metadata": {},
   "outputs": [
    {
     "data": {
      "text/latex": [
       "$$\\left\\[0.0416666666666667, 0.0625, 0.0729166666666667, 0.0416666666666667, \\ldots\\right\\]$$"
      ],
      "text/plain": [
       "[0.0416666666666667, 0.0625, 0.0729166666666667, 0.0416666666666667, …]"
      ]
     },
     "execution_count": 132,
     "metadata": {},
     "output_type": "execute_result"
    }
   ],
   "source": [
    "s"
   ]
  },
  {
   "cell_type": "code",
   "execution_count": 154,
   "metadata": {},
   "outputs": [
    {
     "data": {
      "image/png": "[encoded data removed]",
      "text/latex": [
       "$$\\frac{21}{256}$$"
      ],
      "text/plain": [
       " 21\n",
       "───\n",
       "256"
      ]
     },
     "execution_count": 154,
     "metadata": {},
     "output_type": "execute_result"
    }
   ],
   "source": [
    "nsimplify(s.coeff(6))"
   ]
  },
  {
   "cell_type": "code",
   "execution_count": 140,
   "metadata": {
    "collapsed": true
   },
   "outputs": [],
   "source": [
    "?solve"
   ]
  },
  {
   "cell_type": "code",
   "execution_count": 168,
   "metadata": {},
   "outputs": [],
   "source": [
    "%%capture saida\n",
    "\n",
    "%time a = nsimplify(s.coeff(6))"
   ]
  },
  {
   "cell_type": "code",
   "execution_count": 169,
   "metadata": {},
   "outputs": [
    {
     "name": "stdout",
     "output_type": "stream",
     "text": [
      "CPU times: user 0 ns, sys: 0 ns, total: 0 ns\n",
      "Wall time: 2.23 ms\n"
     ]
    }
   ],
   "source": [
    "saida.show()"
   ]
  },
  {
   "cell_type": "code",
   "execution_count": 167,
   "metadata": {},
   "outputs": [
    {
     "data": {
      "image/png": "[encoded data removed]",
      "text/latex": [
       "$$\\frac{21}{256}$$"
      ],
      "text/plain": [
       " 21\n",
       "───\n",
       "256"
      ]
     },
     "execution_count": 167,
     "metadata": {},
     "output_type": "execute_result"
    }
   ],
   "source": [
    "a"
   ]
  },
  {
   "cell_type": "markdown",
   "metadata": {},
   "source": [
    "# Alguns cálculos para a tranformada em grandes fluxos"
   ]
  },
  {
   "cell_type": "code",
   "execution_count": 25,
   "metadata": {},
   "outputs": [],
   "source": [
    "PI = symbols('Pi', cls=Function)\n",
    "j = Symbol('\\\\left<j\\\\right>')\n",
    "beta = Symbol('\\\\beta')\n",
    "a = Symbol('a', positive=True)"
   ]
  },
  {
   "cell_type": "code",
   "execution_count": 69,
   "metadata": {},
   "outputs": [],
   "source": [
    "PI = SeqFormula(exp(-j*z)*a**(Sum(2**k*(k+1),(k,1,n)))/(beta*z)**(Sum(2**k,(k,1,n)))*Product((sinh(beta*z/a**(k+1)))**(2**k), (k, 1, n)),(n,1,oo))"
   ]
  },
  {
   "cell_type": "code",
   "execution_count": 73,
   "metadata": {},
   "outputs": [
    {
     "data": {
      "image/png": "[encoded data removed]",
      "text/latex": [
       "$$\\sum_{k=1}^{n} 2^{k} \\log{\\left (\\sinh{\\left (\\beta a^{- k - 1} z \\right )} \\right )}$$"
      ],
      "text/plain": [
       "  n                                \n",
       " ___                               \n",
       " ╲                                 \n",
       "  ╲    k    ⎛    ⎛       -k - 1  ⎞⎞\n",
       "  ╱   2 ⋅log⎝sinh⎝\\beta⋅a      ⋅z⎠⎠\n",
       " ╱                                 \n",
       " ‾‾‾                               \n",
       "k = 1                              "
      ]
     },
     "execution_count": 73,
     "metadata": {},
     "output_type": "execute_result"
    }
   ],
   "source": [
    "Sum(2**k*log(sinh(beta*z/a**(k+1))), (k, 1, n)).doit()"
   ]
  },
  {
   "cell_type": "code",
   "execution_count": 76,
   "metadata": {},
   "outputs": [
    {
     "data": {
      "text/plain": [
       "'a**(2*2**n*n - 2*2**n + 2**(n + 1))*(\\\\beta*z)**(-2**(n + 1) + 2)*exp(-\\\\left<j\\\\right>*z)*Product(sinh(\\\\beta*a**(-k - 1)*z)**(2**k), (k, 1, n))'"
      ]
     },
     "execution_count": 76,
     "metadata": {},
     "output_type": "execute_result"
    }
   ],
   "source": [
    "str(PI.formula.doit())"
   ]
  },
  {
   "cell_type": "code",
   "execution_count": 64,
   "metadata": {},
   "outputs": [
    {
     "data": {
      "image/png": "[encoded data removed]",
      "text/latex": [
       "$$\\left(a^{\\sum_{k=1}^{n} 2^{k} \\left(k + 1\\right)}\\right) \\left(\\left(\\beta z\\right)^{- \\sum_{k=1}^{n} 2^{k}}\\right) e^{- \\left<j\\right> z} \\prod_{k=1}^{n} \\left(\\frac{a^{k + 1}}{\\beta z} \\sinh{\\left (\\beta a^{- k - 1} z \\right )}\\right)^{2^{k}}$$"
      ],
      "text/plain": [
       "   n                          n                                               \n",
       "  ___                        ___                                              \n",
       "  ╲                          ╲                                                \n",
       "   ╲    k                     ╲    k                          n               \n",
       "   ╱   2 ⋅(k + 1)          -  ╱   2                     ┬───────────┬         \n",
       "  ╱                          ╱                          │           │         \n",
       "  ‾‾‾                        ‾‾‾                        │           │         \n",
       " k = 1                      k = 1     -\\left<j\\right>⋅z │           │ ⎛ k + 1 \n",
       "a                ⋅(\\beta⋅z)         ⋅ℯ                 ⋅│           │ ⎜a     ⋅\n",
       "                                                        │           │ ⎜───────\n",
       "                                                        │           │ ⎝       \n",
       "                                                        │           │         \n",
       "                                                            k = 1             \n",
       "\n",
       "                          \n",
       "                          \n",
       "                          \n",
       "                          \n",
       "                          \n",
       "                      ⎛ k⎞\n",
       "                      ⎝2 ⎠\n",
       "    ⎛       -k - 1  ⎞⎞    \n",
       "sinh⎝\\beta⋅a      ⋅z⎠⎟    \n",
       "─────────────────────⎟    \n",
       "   \\beta⋅z           ⎠    \n",
       "                          \n",
       "                          "
      ]
     },
     "execution_count": 64,
     "metadata": {},
     "output_type": "execute_result"
    }
   ],
   "source": [
    "a**(2*2**n*n - 2*2**n + 2**(n + 1))*(\\\\beta*z)**(-2**(n + 1) + 2)*exp(-\\\\left<j\\\\right>*z)"
   ]
  },
  {
   "cell_type": "code",
   "execution_count": 55,
   "metadata": {},
   "outputs": [
    {
     "data": {
      "image/png": "[encoded data removed]",
      "text/latex": [
       "$$- \\left<j\\right> z + \\sum_{k=1}^{n} \\left(\\frac{a^{k + 1}}{\\beta z} \\sinh{\\left (\\beta a^{- k - 1} z \\right )}\\right)^{2^{k}}$$"
      ],
      "text/plain": [
       "                      n                                     \n",
       "                    _____                                   \n",
       "                    ╲                                       \n",
       "                     ╲                                  ⎛ k⎞\n",
       "                      ╲                                 ⎝2 ⎠\n",
       "                       ╲  ⎛ k + 1     ⎛       -k - 1  ⎞⎞    \n",
       "-\\left<j\\right>⋅z +    ╱  ⎜a     ⋅sinh⎝\\beta⋅a      ⋅z⎠⎟    \n",
       "                      ╱   ⎜────────────────────────────⎟    \n",
       "                     ╱    ⎝          \\beta⋅z           ⎠    \n",
       "                    ╱                                       \n",
       "                    ‾‾‾‾‾                                   \n",
       "                    k = 1                                   "
      ]
     },
     "execution_count": 55,
     "metadata": {},
     "output_type": "execute_result"
    }
   ],
   "source": []
  },
  {
   "cell_type": "code",
   "execution_count": 36,
   "metadata": {},
   "outputs": [
    {
     "data": {
      "image/png": "[encoded data removed]",
      "text/latex": [
       "$$\\frac{a^{10} e^{- \\left<j\\right> z}}{\\beta^{4} z^{6}} \\left(2 a^{2} \\sinh^{2}{\\left (\\frac{\\beta z}{a^{3}} \\right )} \\sinh^{2}{\\left (\\frac{\\beta z}{a^{2}} \\right )} + 2 a^{2} \\sinh^{2}{\\left (\\frac{\\beta z}{a^{3}} \\right )} \\cosh^{2}{\\left (\\frac{\\beta z}{a^{2}} \\right )} + 16 a \\sinh{\\left (\\frac{\\beta z}{a^{3}} \\right )} \\sinh{\\left (\\frac{\\beta z}{a^{2}} \\right )} \\cosh{\\left (\\frac{\\beta z}{a^{3}} \\right )} \\cosh{\\left (\\frac{\\beta z}{a^{2}} \\right )} + 4 \\sinh^{2}{\\left (\\frac{\\beta z}{a^{3}} \\right )} \\sinh^{2}{\\left (\\frac{\\beta z}{a^{2}} \\right )} + 12 \\sinh^{2}{\\left (\\frac{\\beta z}{a^{2}} \\right )} \\cosh^{2}{\\left (\\frac{\\beta z}{a^{3}} \\right )} - \\frac{4 \\left<j\\right>}{\\beta} a^{4} \\sinh^{2}{\\left (\\frac{\\beta z}{a^{3}} \\right )} \\sinh{\\left (\\frac{\\beta z}{a^{2}} \\right )} \\cosh{\\left (\\frac{\\beta z}{a^{2}} \\right )} - \\frac{8 \\left<j\\right>}{\\beta} a^{3} \\sinh{\\left (\\frac{\\beta z}{a^{3}} \\right )} \\sinh^{2}{\\left (\\frac{\\beta z}{a^{2}} \\right )} \\cosh{\\left (\\frac{\\beta z}{a^{3}} \\right )} - \\frac{24 a^{4}}{\\beta z} \\sinh^{2}{\\left (\\frac{\\beta z}{a^{3}} \\right )} \\sinh{\\left (\\frac{\\beta z}{a^{2}} \\right )} \\cosh{\\left (\\frac{\\beta z}{a^{2}} \\right )} - \\frac{48 a^{3}}{\\beta z} \\sinh{\\left (\\frac{\\beta z}{a^{3}} \\right )} \\sinh^{2}{\\left (\\frac{\\beta z}{a^{2}} \\right )} \\cosh{\\left (\\frac{\\beta z}{a^{3}} \\right )} + \\frac{\\left<j\\right>^{2} a^{6}}{\\beta^{2}} \\sinh^{2}{\\left (\\frac{\\beta z}{a^{3}} \\right )} \\sinh^{2}{\\left (\\frac{\\beta z}{a^{2}} \\right )} + \\frac{12 \\left<j\\right> a^{6}}{\\beta^{2} z} \\sinh^{2}{\\left (\\frac{\\beta z}{a^{3}} \\right )} \\sinh^{2}{\\left (\\frac{\\beta z}{a^{2}} \\right )} + \\frac{42 a^{6}}{\\beta^{2} z^{2}} \\sinh^{2}{\\left (\\frac{\\beta z}{a^{3}} \\right )} \\sinh^{2}{\\left (\\frac{\\beta z}{a^{2}} \\right )}\\right) \\sinh^{2}{\\left (\\frac{\\beta z}{a^{3}} \\right )}$$"
      ],
      "text/plain": [
       "    ⎛                                                                         \n",
       "    ⎜                                                                         \n",
       "    ⎜                                                                         \n",
       " 10 ⎜   2     2⎛\\beta⋅z⎞     2⎛\\beta⋅z⎞      2     2⎛\\beta⋅z⎞     2⎛\\beta⋅z⎞  \n",
       "a  ⋅⎜2⋅a ⋅sinh ⎜───────⎟⋅sinh ⎜───────⎟ + 2⋅a ⋅sinh ⎜───────⎟⋅cosh ⎜───────⎟ +\n",
       "    ⎜          ⎜    3  ⎟      ⎜    2  ⎟             ⎜    3  ⎟      ⎜    2  ⎟  \n",
       "    ⎝          ⎝   a   ⎠      ⎝   a   ⎠             ⎝   a   ⎠      ⎝   a   ⎠  \n",
       "──────────────────────────────────────────────────────────────────────────────\n",
       "                                                                              \n",
       "                                                                              \n",
       "\n",
       "                                                                              \n",
       "                                                                              \n",
       "                                                                              \n",
       "          ⎛\\beta⋅z⎞     ⎛\\beta⋅z⎞     ⎛\\beta⋅z⎞     ⎛\\beta⋅z⎞         2⎛\\beta⋅\n",
       " 16⋅a⋅sinh⎜───────⎟⋅sinh⎜───────⎟⋅cosh⎜───────⎟⋅cosh⎜───────⎟ + 4⋅sinh ⎜──────\n",
       "          ⎜    3  ⎟     ⎜    2  ⎟     ⎜    3  ⎟     ⎜    2  ⎟          ⎜    3 \n",
       "          ⎝   a   ⎠     ⎝   a   ⎠     ⎝   a   ⎠     ⎝   a   ⎠          ⎝   a  \n",
       "──────────────────────────────────────────────────────────────────────────────\n",
       "                                                                              \n",
       "                                                                              \n",
       "\n",
       "                                                                         4    \n",
       "                                                       4⋅\\left<j\\right>⋅a ⋅sin\n",
       "                                                                              \n",
       "z⎞     2⎛\\beta⋅z⎞          2⎛\\beta⋅z⎞     2⎛\\beta⋅z⎞                          \n",
       "─⎟⋅sinh ⎜───────⎟ + 12⋅sinh ⎜───────⎟⋅cosh ⎜───────⎟ - ───────────────────────\n",
       " ⎟      ⎜    2  ⎟           ⎜    2  ⎟      ⎜    3  ⎟                          \n",
       " ⎠      ⎝   a   ⎠           ⎝   a   ⎠      ⎝   a   ⎠                          \n",
       "──────────────────────────────────────────────────────────────────────────────\n",
       "                                                                              \n",
       "                                                                              \n",
       "\n",
       " 2⎛\\beta⋅z⎞     ⎛\\beta⋅z⎞     ⎛\\beta⋅z⎞                     3     ⎛\\beta⋅z⎞   \n",
       "h ⎜───────⎟⋅sinh⎜───────⎟⋅cosh⎜───────⎟   8⋅\\left<j\\right>⋅a ⋅sinh⎜───────⎟⋅si\n",
       "  ⎜    3  ⎟     ⎜    2  ⎟     ⎜    2  ⎟                           ⎜    3  ⎟   \n",
       "  ⎝   a   ⎠     ⎝   a   ⎠     ⎝   a   ⎠                           ⎝   a   ⎠   \n",
       "─────────────────────────────────────── - ────────────────────────────────────\n",
       "     \\beta                                                            \\beta   \n",
       "                                                                              \n",
       "──────────────────────────────────────────────────────────────────────────────\n",
       "                                                                           4  \n",
       "                                                                      \\beta ⋅z\n",
       "\n",
       "  2⎛\\beta⋅z⎞     ⎛\\beta⋅z⎞       4     2⎛\\beta⋅z⎞     ⎛\\beta⋅z⎞     ⎛\\beta⋅z⎞ \n",
       "nh ⎜───────⎟⋅cosh⎜───────⎟   24⋅a ⋅sinh ⎜───────⎟⋅sinh⎜───────⎟⋅cosh⎜───────⎟ \n",
       "   ⎜    2  ⎟     ⎜    3  ⎟              ⎜    3  ⎟     ⎜    2  ⎟     ⎜    2  ⎟ \n",
       "   ⎝   a   ⎠     ⎝   a   ⎠              ⎝   a   ⎠     ⎝   a   ⎠     ⎝   a   ⎠ \n",
       "────────────────────────── - ──────────────────────────────────────────────── \n",
       "                                                 \\beta⋅z                      \n",
       "                                                                              \n",
       "──────────────────────────────────────────────────────────────────────────────\n",
       "6                                                                             \n",
       "                                                                              \n",
       "\n",
       "      3     ⎛\\beta⋅z⎞     2⎛\\beta⋅z⎞     ⎛\\beta⋅z⎞                 2  6     2⎛\n",
       "  48⋅a ⋅sinh⎜───────⎟⋅sinh ⎜───────⎟⋅cosh⎜───────⎟   \\left<j\\right> ⋅a ⋅sinh ⎜\n",
       "            ⎜    3  ⎟      ⎜    2  ⎟     ⎜    3  ⎟                           ⎜\n",
       "            ⎝   a   ⎠      ⎝   a   ⎠     ⎝   a   ⎠                           ⎝\n",
       "- ──────────────────────────────────────────────── + ─────────────────────────\n",
       "                      \\beta⋅z                                                 \n",
       "                                                                          \\bet\n",
       "──────────────────────────────────────────────────────────────────────────────\n",
       "                                                                              \n",
       "                                                                              \n",
       "\n",
       "\\beta⋅z⎞     2⎛\\beta⋅z⎞                      6     2⎛\\beta⋅z⎞     2⎛\\beta⋅z⎞  \n",
       "───────⎟⋅sinh ⎜───────⎟   12⋅\\left<j\\right>⋅a ⋅sinh ⎜───────⎟⋅sinh ⎜───────⎟  \n",
       "    3  ⎟      ⎜    2  ⎟                             ⎜    3  ⎟      ⎜    2  ⎟  \n",
       "   a   ⎠      ⎝   a   ⎠                             ⎝   a   ⎠      ⎝   a   ⎠  \n",
       "─────────────────────── + ────────────────────────────────────────────────── +\n",
       " 2                                                  2                         \n",
       "a                                              \\beta ⋅z                       \n",
       "──────────────────────────────────────────────────────────────────────────────\n",
       "                                                                              \n",
       "                                                                              \n",
       "\n",
       "     6     2⎛\\beta⋅z⎞     2⎛\\beta⋅z⎞⎞                                  \n",
       " 42⋅a ⋅sinh ⎜───────⎟⋅sinh ⎜───────⎟⎟                                  \n",
       "            ⎜    3  ⎟      ⎜    2  ⎟⎟                                  \n",
       "            ⎝   a   ⎠      ⎝   a   ⎠⎟  -\\left<j\\right>⋅z     2⎛\\beta⋅z⎞\n",
       " ───────────────────────────────────⎟⋅ℯ                 ⋅sinh ⎜───────⎟\n",
       "                   2  2             ⎟                         ⎜    3  ⎟\n",
       "              \\beta ⋅z              ⎠                         ⎝   a   ⎠\n",
       "───────────────────────────────────────────────────────────────────────\n",
       "                                                                       \n",
       "                                                                       "
      ]
     },
     "execution_count": 36,
     "metadata": {},
     "output_type": "execute_result"
    }
   ],
   "source": [
    "diff(PI.coeff(2).doit(),z,2)"
   ]
  },
  {
   "cell_type": "code",
   "execution_count": null,
   "metadata": {
    "collapsed": true
   },
   "outputs": [],
   "source": []
  }
 ],
 "metadata": {
  "kernelspec": {
   "display_name": "Python 2",
   "language": "python",
   "name": "python2"
  },
  "language_info": {
   "codemirror_mode": {
    "name": "ipython",
    "version": 2
   },
   "file_extension": ".py",
   "mimetype": "text/x-python",
   "name": "python",
   "nbconvert_exporter": "python",
   "pygments_lexer": "ipython2",
   "version": "2.7.13"
  }
 },
 "nbformat": 4,
 "nbformat_minor": 2
}
