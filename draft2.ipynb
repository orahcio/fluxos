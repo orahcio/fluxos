{
 "cells": [
  {
   "cell_type": "code",
   "execution_count": 1,
   "metadata": {},
   "outputs": [],
   "source": [
    "from sympy import *\n",
    "from sympy.abc import s, t"
   ]
  },
  {
   "cell_type": "code",
   "execution_count": 2,
   "metadata": {},
   "outputs": [],
   "source": [
    "def PI(z,m,n):\n",
    "    a = Symbol('beta',positive=True)\n",
    "    aux = exp(-m*z)*Product((2**(k+1)/(a*z)*sinh(a*z/2**(k+1)))**(2**k), (k, 1, n)).doit()\n",
    "    aux = aux.rewrite(exp).expand()\n",
    "    return aux"
   ]
  },
  {
   "cell_type": "code",
   "execution_count": 3,
   "metadata": {},
   "outputs": [
    {
     "name": "stdout",
     "output_type": "stream",
     "text": [
      "IPython console for SymPy 1.1.2.dev (Python 3.5.2-64-bit) (ground types: gmpy)\n",
      "\n",
      "These commands were executed:\n",
      ">>> from __future__ import division\n",
      ">>> from sympy import *\n",
      ">>> x, y, z, t = symbols('x y z t')\n",
      ">>> k, m, n = symbols('k m n', integer=True)\n",
      ">>> f, g, h = symbols('f g h', cls=Function)\n",
      ">>> init_printing()\n",
      "\n",
      "Documentation can be found at http://docs.sympy.org/dev\n",
      "\n"
     ]
    }
   ],
   "source": [
    "init_session()"
   ]
  },
  {
   "cell_type": "code",
   "execution_count": 101,
   "metadata": {},
   "outputs": [
    {
     "data": {
      "image/png": "[encoded data removed]",
      "text/latex": [
       "$$\\frac{4 e^{\\frac{\\beta s}{2}}}{\\beta^{2} s^{2}} e^{- j s} - \\frac{8 e^{- j s}}{\\beta^{2} s^{2}} + \\frac{4 e^{- j s}}{\\beta^{2} s^{2}} e^{- \\frac{\\beta s}{2}}$$"
      ],
      "text/plain": [
       "   β⋅s                      -β⋅s       \n",
       "   ───                      ─────      \n",
       "    2   -j⋅s      -j⋅s        2    -j⋅s\n",
       "4⋅ℯ   ⋅ℯ       8⋅ℯ       4⋅ℯ     ⋅ℯ    \n",
       "──────────── - ─────── + ──────────────\n",
       "    2  2         2  2         2  2     \n",
       "   β ⋅s         β ⋅s         β ⋅s      "
      ]
     },
     "execution_count": 101,
     "metadata": {},
     "output_type": "execute_result"
    }
   ],
   "source": [
    "expr = PI(s,Symbol('j'),1)\n",
    "expr"
   ]
  },
  {
   "cell_type": "code",
   "execution_count": 102,
   "metadata": {},
   "outputs": [
    {
     "data": {
      "image/png": "[encoded data removed]",
      "text/latex": [
       "$$\\frac{2 e^{\\frac{\\beta s}{2}}}{\\beta s^{2}} e^{- j s} - \\frac{2 e^{- j s}}{\\beta s^{2}} e^{- \\frac{\\beta s}{2}} - \\frac{4 j e^{\\frac{\\beta s}{2}}}{\\beta^{2} s^{2}} e^{- j s} + \\frac{8 j}{\\beta^{2} s^{2}} e^{- j s} - \\frac{4 j}{\\beta^{2} s^{2}} e^{- \\frac{\\beta s}{2}} e^{- j s} - \\frac{8 e^{\\frac{\\beta s}{2}}}{\\beta^{2} s^{3}} e^{- j s} + \\frac{16 e^{- j s}}{\\beta^{2} s^{3}} - \\frac{8 e^{- j s}}{\\beta^{2} s^{3}} e^{- \\frac{\\beta s}{2}}$$"
      ],
      "text/plain": [
       "   β⋅s            -β⋅s               β⋅s                          -β⋅s        \n",
       "   ───            ─────              ───                          ─────       \n",
       "    2   -j⋅s        2    -j⋅s         2   -j⋅s        -j⋅s          2    -j⋅s \n",
       "2⋅ℯ   ⋅ℯ       2⋅ℯ     ⋅ℯ       4⋅j⋅ℯ   ⋅ℯ       8⋅j⋅ℯ       4⋅j⋅ℯ     ⋅ℯ     \n",
       "──────────── - ────────────── - ────────────── + ───────── - ──────────────── \n",
       "       2               2             2  2           2  2           2  2       \n",
       "    β⋅s             β⋅s             β ⋅s           β ⋅s           β ⋅s        \n",
       "\n",
       "     β⋅s                       -β⋅s       \n",
       "     ───                       ─────      \n",
       "      2   -j⋅s       -j⋅s        2    -j⋅s\n",
       "  8⋅ℯ   ⋅ℯ       16⋅ℯ       8⋅ℯ     ⋅ℯ    \n",
       "- ──────────── + ──────── - ──────────────\n",
       "      2  3         2  3          2  3     \n",
       "     β ⋅s         β ⋅s          β ⋅s      "
      ]
     },
     "execution_count": 102,
     "metadata": {},
     "output_type": "execute_result"
    }
   ],
   "source": [
    "expr1 = diff(expr,s,1)\n",
    "expr1"
   ]
  },
  {
   "cell_type": "code",
   "execution_count": 103,
   "metadata": {},
   "outputs": [
    {
     "data": {
      "image/png": "[encoded data removed]",
      "text/latex": [
       "$$\\frac{e^{\\frac{\\beta s}{2}}}{s^{2}} e^{- j s} + \\frac{1}{s^{2}} e^{- \\frac{\\beta s}{2}} e^{- j s} - \\frac{4 j e^{\\frac{\\beta s}{2}}}{\\beta s^{2}} e^{- j s} + \\frac{4 j}{\\beta s^{2}} e^{- \\frac{\\beta s}{2}} e^{- j s} - \\frac{8 e^{\\frac{\\beta s}{2}}}{\\beta s^{3}} e^{- j s} + \\frac{8 e^{- j s}}{\\beta s^{3}} e^{- \\frac{\\beta s}{2}} + \\frac{4 j^{2} e^{\\frac{\\beta s}{2}}}{\\beta^{2} s^{2}} e^{- j s} - \\frac{8 j^{2}}{\\beta^{2} s^{2}} e^{- j s} + \\frac{4 j^{2}}{\\beta^{2} s^{2}} e^{- \\frac{\\beta s}{2}} e^{- j s} + \\frac{16 j e^{\\frac{\\beta s}{2}}}{\\beta^{2} s^{3}} e^{- j s} - \\frac{32 j}{\\beta^{2} s^{3}} e^{- j s} + \\frac{16 j}{\\beta^{2} s^{3}} e^{- \\frac{\\beta s}{2}} e^{- j s} + \\frac{24 e^{\\frac{\\beta s}{2}}}{\\beta^{2} s^{4}} e^{- j s} - \\frac{48 e^{- j s}}{\\beta^{2} s^{4}} + \\frac{24 e^{- j s}}{\\beta^{2} s^{4}} e^{- \\frac{\\beta s}{2}}$$"
      ],
      "text/plain": [
       " β⋅s          -β⋅s               β⋅s              -β⋅s             β⋅s        \n",
       " ───          ─────              ───              ─────            ───        \n",
       "  2   -j⋅s      2    -j⋅s         2   -j⋅s          2    -j⋅s       2   -j⋅s  \n",
       "ℯ   ⋅ℯ       ℯ     ⋅ℯ       4⋅j⋅ℯ   ⋅ℯ       4⋅j⋅ℯ     ⋅ℯ       8⋅ℯ   ⋅ℯ      \n",
       "────────── + ──────────── - ────────────── + ──────────────── - ──────────── +\n",
       "     2             2                2                 2                3      \n",
       "    s             s              β⋅s               β⋅s              β⋅s       \n",
       "\n",
       "    -β⋅s                β⋅s                            -β⋅s                β⋅s\n",
       "    ─────               ───                            ─────               ───\n",
       "      2    -j⋅s      2   2   -j⋅s      2  -j⋅s      2    2    -j⋅s          2 \n",
       " 8⋅ℯ     ⋅ℯ       4⋅j ⋅ℯ   ⋅ℯ       8⋅j ⋅ℯ       4⋅j ⋅ℯ     ⋅ℯ       16⋅j⋅ℯ   \n",
       " ────────────── + ─────────────── - ────────── + ───────────────── + ─────────\n",
       "         3              2  2           2  2             2  2               2  \n",
       "      β⋅s              β ⋅s           β ⋅s             β ⋅s               β ⋅s\n",
       "\n",
       "                            -β⋅s              β⋅s                        -β⋅s \n",
       "                            ─────             ───                        ─────\n",
       "  -j⋅s         -j⋅s           2    -j⋅s        2   -j⋅s       -j⋅s         2  \n",
       "⋅ℯ       32⋅j⋅ℯ       16⋅j⋅ℯ     ⋅ℯ       24⋅ℯ   ⋅ℯ       48⋅ℯ       24⋅ℯ     \n",
       "────── - ────────── + ───────────────── + ───────────── - ──────── + ─────────\n",
       "3           2  3             2  3              2  4         2  4           2  \n",
       "           β ⋅s             β ⋅s              β ⋅s         β ⋅s           β ⋅s\n",
       "\n",
       "      \n",
       "      \n",
       "  -j⋅s\n",
       "⋅ℯ    \n",
       "──────\n",
       "4     \n",
       "      "
      ]
     },
     "execution_count": 103,
     "metadata": {},
     "output_type": "execute_result"
    }
   ],
   "source": [
    "expr2 = diff(expr1,s,1)\n",
    "expr2"
   ]
  },
  {
   "cell_type": "code",
   "execution_count": 105,
   "metadata": {},
   "outputs": [
    {
     "data": {
      "image/png": "[encoded data removed]",
      "text/latex": [
       "$$\\frac{\\beta^{2}}{24} + j^{2}$$"
      ],
      "text/plain": [
       " 2     \n",
       "β     2\n",
       "── + j \n",
       "24     "
      ]
     },
     "execution_count": 105,
     "metadata": {},
     "output_type": "execute_result"
    }
   ],
   "source": [
    "expr2.simplify().limit(s,0)"
   ]
  },
  {
   "cell_type": "code",
   "execution_count": 13,
   "metadata": {},
   "outputs": [
    {
     "data": {
      "image/png": "[encoded data removed]",
      "text/latex": [
       "$$\\frac{\\beta^{2}}{24} + j^{2}$$"
      ],
      "text/plain": [
       " 2     \n",
       "β     2\n",
       "── + j \n",
       "24     "
      ]
     },
     "execution_count": 13,
     "metadata": {},
     "output_type": "execute_result"
    }
   ],
   "source": [
    "limit(expr2,s,0)"
   ]
  },
  {
   "cell_type": "code",
   "execution_count": 56,
   "metadata": {},
   "outputs": [
    {
     "data": {
      "image/png": "[encoded data removed]",
      "text/latex": [
       "$$A \\left(\\beta s\\right)^{- n} e^{s \\left(\\beta c - j\\right)}$$"
      ],
      "text/plain": [
       "       -n  s⋅(β⋅c - j)\n",
       "A⋅(β⋅s)  ⋅ℯ           "
      ]
     },
     "execution_count": 56,
     "metadata": {},
     "output_type": "execute_result"
    }
   ],
   "source": [
    "A, c = symbols('A c')\n",
    "j, beta, gamma = symbols('j beta gamma', positive=True)\n",
    "\n",
    "expr = A/(beta*s)**n*exp(s*(c*beta-j))\n",
    "expr"
   ]
  },
  {
   "cell_type": "code",
   "execution_count": 64,
   "metadata": {},
   "outputs": [
    {
     "data": {
      "image/png": "[encoded data removed]",
      "text/latex": [
       "$$\\frac{1}{s^{2}} + \\frac{1}{s} \\left(\\beta c - j\\right) + s \\left(\\frac{\\beta^{3} c^{3}}{6} - \\frac{c^{2} j}{2} \\beta^{2} + \\frac{\\beta c}{2} j^{2} - \\frac{j^{3}}{6}\\right) + \\frac{j^{2}}{2} - \\beta c j + \\frac{\\beta^{2} c^{2}}{2} + \\mathcal{O}\\left(s^{2}\\right)$$"
      ],
      "text/plain": [
       "                 ⎛ 3  3    2  2          2    3⎞    2            2  2        \n",
       "1    β⋅c - j     ⎜β ⋅c    β ⋅c ⋅j   β⋅c⋅j    j ⎟   j            β ⋅c     ⎛ 2⎞\n",
       "── + ─────── + s⋅⎜───── - ─────── + ────── - ──⎟ + ── - β⋅c⋅j + ───── + O⎝s ⎠\n",
       " 2      s        ⎝  6        2        2      6 ⎠   2              2          \n",
       "s                                                                            "
      ]
     },
     "execution_count": 64,
     "metadata": {},
     "output_type": "execute_result"
    }
   ],
   "source": [
    "expr2 = 1/s**2*exp(-j*s+c*beta*s)\n",
    "#expr2 = expr2.subs([[c,0]])\n",
    "expr2.series(s,0,2)"
   ]
  },
  {
   "cell_type": "code",
   "execution_count": 35,
   "metadata": {},
   "outputs": [
    {
     "data": {
      "image/png": "[encoded data removed]",
      "text/latex": [
       "$$\\frac{A \\gamma^{2}}{s^{2}} \\beta^{- \\gamma} s^{- \\gamma} e^{- j s} + \\frac{2 A}{s} \\beta^{- \\gamma} \\gamma j s^{- \\gamma} e^{- j s} + \\frac{A \\gamma}{s^{2}} \\beta^{- \\gamma} s^{- \\gamma} e^{- j s} + A \\beta^{- \\gamma} j^{2} s^{- \\gamma} e^{- j s}$$"
      ],
      "text/plain": [
       "   -γ  2  -γ  -j⋅s        -γ      -γ  -j⋅s      -γ    -γ  -j⋅s                \n",
       "A⋅β  ⋅γ ⋅s  ⋅ℯ       2⋅A⋅β  ⋅γ⋅j⋅s  ⋅ℯ       A⋅β  ⋅γ⋅s  ⋅ℯ          -γ  2  -γ \n",
       "────────────────── + ───────────────────── + ───────────────── + A⋅β  ⋅j ⋅s  ⋅\n",
       "         2                     s                      2                       \n",
       "        s                                            s                        \n",
       "\n",
       "     \n",
       " -j⋅s\n",
       "ℯ    \n",
       "     \n",
       "     "
      ]
     },
     "execution_count": 35,
     "metadata": {},
     "output_type": "execute_result"
    }
   ],
   "source": [
    "expr2 = expr2.subs([[c,0]])\n",
    "expr2"
   ]
  },
  {
   "cell_type": "code",
   "execution_count": 36,
   "metadata": {},
   "outputs": [
    {
     "data": {
      "image/png": "[encoded data removed]",
      "text/latex": [
       "$$\\infty \\operatorname{sign}{\\left (A \\gamma^{2} + A \\gamma \\right )}$$"
      ],
      "text/plain": [
       "      ⎛   2      ⎞\n",
       "∞⋅sign⎝A⋅γ  + A⋅γ⎠"
      ]
     },
     "execution_count": 36,
     "metadata": {},
     "output_type": "execute_result"
    }
   ],
   "source": [
    "limit(expr2,s,0)"
   ]
  },
  {
   "cell_type": "code",
   "execution_count": 38,
   "metadata": {},
   "outputs": [
    {
     "data": {
      "image/png": "[encoded data removed]",
      "text/latex": [
       "$$A \\left(\\beta s\\right)^{- \\gamma} e^{- j s}$$"
      ],
      "text/plain": [
       "       -γ  -j⋅s\n",
       "A⋅(β⋅s)  ⋅ℯ    "
      ]
     },
     "execution_count": 38,
     "metadata": {},
     "output_type": "execute_result"
    }
   ],
   "source": [
    "expr = A/(beta*s)**gamma*exp(-j*s)\n",
    "expr"
   ]
  },
  {
   "cell_type": "code",
   "execution_count": 39,
   "metadata": {},
   "outputs": [
    {
     "data": {
      "image/png": "[encoded data removed]",
      "text/latex": [
       "$$\\infty \\operatorname{sign}{\\left (A \\right )}$$"
      ],
      "text/plain": [
       "∞⋅sign(A)"
      ]
     },
     "execution_count": 39,
     "metadata": {},
     "output_type": "execute_result"
    }
   ],
   "source": [
    "limit(expr,s,0)"
   ]
  },
  {
   "cell_type": "code",
   "execution_count": 115,
   "metadata": {},
   "outputs": [
    {
     "data": {
      "text/latex": [
       "$$\\left\\[0, 0.0416666666666667, 0.0625, 0.0729166666666667, \\ldots\\right\\]$$"
      ],
      "text/plain": [
       "[0, 0.0416666666666667, 0.0625, 0.0729166666666667, …]"
      ]
     },
     "execution_count": 115,
     "metadata": {},
     "output_type": "execute_result"
    }
   ],
   "source": [
    "SeqFormula(factor(1/3*2**(-n - 2)*(-1 + 2**n)),(n,0,5))"
   ]
  },
  {
   "cell_type": "code",
   "execution_count": 141,
   "metadata": {
    "collapsed": true
   },
   "outputs": [],
   "source": [
    "s =SeqFormula(nsimplify(1/3*2**(-n - 2)*(-1 + 2**n)))"
   ]
  },
  {
   "cell_type": "code",
   "execution_count": 118,
   "metadata": {},
   "outputs": [
    {
     "data": {
      "image/png": "[encoded data removed]",
      "text/latex": [
       "$$\\frac{1}{3} 2^{- n - 2} \\left(2^{n} - 1\\right)$$"
      ],
      "text/plain": [
       " -n - 2 ⎛ n    ⎞\n",
       "2      ⋅⎝2  - 1⎠\n",
       "────────────────\n",
       "       3        "
      ]
     },
     "execution_count": 118,
     "metadata": {},
     "output_type": "execute_result"
    }
   ],
   "source": [
    "nsimplify(1/3*2**(-n - 2)*(-1 + 2**n))"
   ]
  },
  {
   "cell_type": "code",
   "execution_count": 150,
   "metadata": {},
   "outputs": [
    {
     "data": {
      "image/png": "[encoded data removed]",
      "text/latex": [
       "$$12.0$$"
      ],
      "text/plain": [
       "12.0000000000000"
      ]
     },
     "execution_count": 150,
     "metadata": {},
     "output_type": "execute_result"
    }
   ],
   "source": [
    "1/nfloat(s.coeff(1000))"
   ]
  },
  {
   "cell_type": "code",
   "execution_count": 124,
   "metadata": {},
   "outputs": [
    {
     "data": {
      "image/png": "[encoded data removed]",
      "text/latex": [
       "$$\\left [ \\frac{3}{2}, \\quad - \\frac{1}{2}\\right ]$$"
      ],
      "text/plain": [
       "[3/2, -1/2]"
      ]
     },
     "execution_count": 124,
     "metadata": {},
     "output_type": "execute_result"
    }
   ],
   "source": [
    "sequence(nsimplify(1/3*2**(-n - 2)*(-1 + 2**n))).find_linear_recurrence(10)"
   ]
  },
  {
   "cell_type": "code",
   "execution_count": 131,
   "metadata": {
    "collapsed": true
   },
   "outputs": [],
   "source": [
    "s = SeqPer((1/24,1/16,7/96),(0,5))"
   ]
  },
  {
   "cell_type": "code",
   "execution_count": 132,
   "metadata": {},
   "outputs": [
    {
     "data": {
      "text/latex": [
       "$$\\left\\[0.0416666666666667, 0.0625, 0.0729166666666667, 0.0416666666666667, \\ldots\\right\\]$$"
      ],
      "text/plain": [
       "[0.0416666666666667, 0.0625, 0.0729166666666667, 0.0416666666666667, …]"
      ]
     },
     "execution_count": 132,
     "metadata": {},
     "output_type": "execute_result"
    }
   ],
   "source": [
    "s"
   ]
  },
  {
   "cell_type": "code",
   "execution_count": 154,
   "metadata": {},
   "outputs": [
    {
     "data": {
      "image/png": "[encoded data removed]",
      "text/latex": [
       "$$\\frac{21}{256}$$"
      ],
      "text/plain": [
       " 21\n",
       "───\n",
       "256"
      ]
     },
     "execution_count": 154,
     "metadata": {},
     "output_type": "execute_result"
    }
   ],
   "source": [
    "nsimplify(s.coeff(6))"
   ]
  },
  {
   "cell_type": "code",
   "execution_count": 140,
   "metadata": {
    "collapsed": true
   },
   "outputs": [],
   "source": [
    "?solve"
   ]
  },
  {
   "cell_type": "code",
   "execution_count": 168,
   "metadata": {},
   "outputs": [],
   "source": [
    "%%capture saida\n",
    "\n",
    "%time a = nsimplify(s.coeff(6))"
   ]
  },
  {
   "cell_type": "code",
   "execution_count": 169,
   "metadata": {},
   "outputs": [
    {
     "name": "stdout",
     "output_type": "stream",
     "text": [
      "CPU times: user 0 ns, sys: 0 ns, total: 0 ns\n",
      "Wall time: 2.23 ms\n"
     ]
    }
   ],
   "source": [
    "saida.show()"
   ]
  },
  {
   "cell_type": "code",
   "execution_count": 167,
   "metadata": {},
   "outputs": [
    {
     "data": {
      "image/png": "[encoded data removed]",
      "text/latex": [
       "$$\\frac{21}{256}$$"
      ],
      "text/plain": [
       " 21\n",
       "───\n",
       "256"
      ]
     },
     "execution_count": 167,
     "metadata": {},
     "output_type": "execute_result"
    }
   ],
   "source": [
    "a"
   ]
  },
  {
   "cell_type": "markdown",
   "metadata": {},
   "source": [
    "# Alguns cálculos para a tranformada em grandes fluxos, segundo momento para $n\\rightarrow\\infty$"
   ]
  },
  {
   "cell_type": "code",
   "execution_count": 200,
   "metadata": {},
   "outputs": [],
   "source": [
    "PI = symbols('Pi', cls=Function)\n",
    "j = Symbol('\\\\left<j\\\\right>')\n",
    "beta = Symbol('\\\\beta')\n",
    "a = Symbol('a', positive=True)\n",
    "k, l, m, n = symbols('k l m n', integer=True)"
   ]
  },
  {
   "cell_type": "code",
   "execution_count": 95,
   "metadata": {},
   "outputs": [],
   "source": [
    "sinh_k = sinh(beta*z/2**(k+1))\n",
    "invz_k = 2**(k+1)/(beta*z)\n",
    "prod_n = Product((invz_k*sinh_k)**(2**k),(k,1,n))"
   ]
  },
  {
   "cell_type": "code",
   "execution_count": 96,
   "metadata": {},
   "outputs": [
    {
     "data": {
      "image/png": "[encoded data removed]",
      "text/latex": [
       "$$\\Pi{\\left (z \\right )} = e^{- \\left<j\\right> z} \\prod_{k=1}^{n} \\left(\\frac{2^{k + 1}}{\\beta z} \\sinh{\\left (2^{- k - 1} \\beta z \\right )}\\right)^{2^{k}}$$"
      ],
      "text/plain": [
       "                                n                                         \n",
       "                          ┬───────────┬                                   \n",
       "                          │           │                               ⎛ k⎞\n",
       "                          │           │                               ⎝2 ⎠\n",
       "        -\\left<j\\right>⋅z │           │ ⎛ k + 1     ⎛ -k - 1        ⎞⎞    \n",
       "Π(z) = ℯ                 ⋅│           │ ⎜2     ⋅sinh⎝2      ⋅\\beta⋅z⎠⎟    \n",
       "                          │           │ ⎜────────────────────────────⎟    \n",
       "                          │           │ ⎝          \\beta⋅z           ⎠    \n",
       "                          │           │                                   \n",
       "                              k = 1                                       "
      ]
     },
     "execution_count": 96,
     "metadata": {},
     "output_type": "execute_result"
    }
   ],
   "source": [
    "Eq(PI(z),exp(-j*z)*prod_n)"
   ]
  },
  {
   "cell_type": "code",
   "execution_count": 97,
   "metadata": {
    "scrolled": false
   },
   "outputs": [
    {
     "data": {
      "image/png": "[encoded data removed]",
      "text/latex": [
       "$$\\frac{d}{d z} \\Pi{\\left (z \\right )} = - \\left<j\\right> e^{- \\left<j\\right> z} \\prod_{k=1}^{n} \\left(\\frac{2^{k + 1}}{\\beta z} \\sinh{\\left (2^{- k - 1} \\beta z \\right )}\\right)^{2^{k}} + e^{- \\left<j\\right> z} \\frac{\\partial}{\\partial z} \\prod_{k=1}^{n} \\left(\\frac{2^{k + 1}}{\\beta z} \\sinh{\\left (2^{- k - 1} \\beta z \\right )}\\right)^{2^{k}}$$"
      ],
      "text/plain": [
       "                                                     n                        \n",
       "                                               ┬───────────┬                  \n",
       "                                               │           │                  \n",
       "                                               │           │                  \n",
       "d                            -\\left<j\\right>⋅z │           │ ⎛ k + 1     ⎛ -k \n",
       "──(Π(z)) = - \\left<j\\right>⋅ℯ                 ⋅│           │ ⎜2     ⋅sinh⎝2   \n",
       "dz                                             │           │ ⎜────────────────\n",
       "                                               │           │ ⎝          \\beta⋅\n",
       "                                               │           │                  \n",
       "                                                   k = 1                      \n",
       "\n",
       "                                         ⎛      n                             \n",
       "                                         ⎜┬───────────┬                       \n",
       "             ⎛ k⎞                        ⎜│           │                       \n",
       "             ⎝2 ⎠                        ⎜│           │                       \n",
       "- 1        ⎞⎞        -\\left<j\\right>⋅z ∂ ⎜│           │ ⎛ k + 1     ⎛ -k - 1  \n",
       "   ⋅\\beta⋅z⎠⎟     + ℯ                 ⋅──⎜│           │ ⎜2     ⋅sinh⎝2      ⋅\\\n",
       "────────────⎟                          ∂z⎜│           │ ⎜─────────────────────\n",
       "z           ⎠                            ⎜│           │ ⎝          \\beta⋅z    \n",
       "                                         ⎜│           │                       \n",
       "                                         ⎝    k = 1                           \n",
       "\n",
       "            ⎞\n",
       "            ⎟\n",
       "        ⎛ k⎞⎟\n",
       "        ⎝2 ⎠⎟\n",
       "      ⎞⎞    ⎟\n",
       "beta⋅z⎠⎟    ⎟\n",
       "───────⎟    ⎟\n",
       "       ⎠    ⎟\n",
       "            ⎟\n",
       "            ⎠"
      ]
     },
     "execution_count": 97,
     "metadata": {},
     "output_type": "execute_result"
    }
   ],
   "source": [
    "\n",
    "Eq(diff(PI(z),z),-j*exp(-j*z)*prod_n+diff(prod_n,z)*exp(-j*z))"
   ]
  },
  {
   "cell_type": "code",
   "execution_count": 254,
   "metadata": {},
   "outputs": [
    {
     "data": {
      "text/plain": [
       "'\\\\frac{d^{2}}{d z^{2}} \\\\Pi{\\\\left (z \\\\right )} = \\\\left<j\\\\right>^{2} e^{- \\\\left<j\\\\right> z} \\\\prod_{k=1}^{n} \\\\left(\\\\frac{2^{k + 1}}{\\\\beta z} \\\\sinh{\\\\left (2^{- k - 1} \\\\beta z \\\\right )}\\\\right)^{2^{k}} - 2 \\\\left<j\\\\right> e^{- \\\\left<j\\\\right> z} \\\\frac{\\\\partial}{\\\\partial z} \\\\prod_{k=1}^{n} \\\\left(\\\\frac{2^{k + 1}}{\\\\beta z} \\\\sinh{\\\\left (2^{- k - 1} \\\\beta z \\\\right )}\\\\right)^{2^{k}} + e^{- \\\\left<j\\\\right> z} \\\\frac{\\\\partial^{2}}{\\\\partial z^{2}} \\\\prod_{k=1}^{n} \\\\left(\\\\frac{2^{k + 1}}{\\\\beta z} \\\\sinh{\\\\left (2^{- k - 1} \\\\beta z \\\\right )}\\\\right)^{2^{k}}'"
      ]
     },
     "execution_count": 254,
     "metadata": {},
     "output_type": "execute_result"
    }
   ],
   "source": [
    "Eq(diff(PI(z),z,2),\n",
    "   j*j*exp(-j*z)*prod_n-j*exp(-j*z)*diff(prod_n,z)-\n",
    "  j*exp(-j*z)*diff(prod_n,z)+exp(-j*z)*diff(prod_n,z,2))"
   ]
  },
  {
   "cell_type": "markdown",
   "metadata": {},
   "source": [
    "$$\\frac{d^{2}}{d z^{2}} \\Pi{\\left (z \\right )} = \\left<j\\right>^{2} e^{- \\left<j\\right> z} \\prod_{k=1}^{n} \\left(\\frac{2^{k + 1}}{\\beta z} \\sinh{\\left (2^{- k - 1} \\beta z \\right )}\\right)^{2^{k}} - 2 \\left<j\\right> e^{- \\left<j\\right> z} \\frac{\\partial}{\\partial z} \\prod_{k=1}^{n} \\left(\\frac{2^{k + 1}}{\\beta z} \\sinh{\\left (2^{- k - 1} \\beta z \\right )}\\right)^{2^{k}} + e^{- \\left<j\\right> z} \\frac{\\partial^{2}}{\\partial z^{2}} \\prod_{k=1}^{n} \\left(\\frac{2^{k + 1}}{\\beta z} \\sinh{\\left (2^{- k - 1} \\beta z \\right )}\\right)^{2^{k}}$$"
   ]
  },
  {
   "cell_type": "code",
   "execution_count": 173,
   "metadata": {},
   "outputs": [],
   "source": [
    "def invz(z,n):\n",
    "    return 2**(n+1)/(beta*z)\n",
    "def sinhz(z,n):\n",
    "    return sinh(beta*z/2**(n+1))\n",
    "def powis(z,n):\n",
    "    return (invz(z,n)*sinhz(z,n))**(2**n)\n",
    "def prodn(z,ini,fim):\n",
    "    return product(powis(z,k),(k,ini,fim))"
   ]
  },
  {
   "cell_type": "code",
   "execution_count": 178,
   "metadata": {},
   "outputs": [
    {
     "data": {
      "image/png": "[encoded data removed]",
      "text/latex": [
       "$$\\frac{\\partial}{\\partial z} \\prod_{k=1}^{n} \\left(\\frac{2^{k + 1}}{\\beta z} \\sinh{\\left (2^{- k - 1} \\beta z \\right )}\\right)^{2^{k}} = \\sum_{m=1}^{n} \\frac{2^{m} 2^{- m - 1} \\beta z}{\\sinh{\\left (2^{- m - 1} \\beta z \\right )}} \\left(\\frac{2^{m + 1}}{\\beta z} \\sinh{\\left (2^{- m - 1} \\beta z \\right )}\\right)^{2^{m}} \\left(\\frac{1}{z} 2^{- m - 1} \\cdot 2^{m + 1} \\cosh{\\left (2^{- m - 1} \\beta z \\right )} - \\frac{2^{m + 1}}{\\beta z^{2}} \\sinh{\\left (2^{- m - 1} \\beta z \\right )}\\right) \\prod_{k=k \\neq m}^{n} \\left(\\frac{2^{k + 1}}{\\beta z} \\sinh{\\left (2^{- k - 1} \\beta z \\right )}\\right)^{2^{k}}$$"
      ],
      "text/plain": [
       "                                                           n                  \n",
       "                                                       _________              \n",
       "                                                       ╲                      \n",
       "                                                        ╲                     \n",
       "                                                         ╲                    \n",
       "  ⎛      n                                         ⎞      ╲                   \n",
       "  ⎜┬───────────┬                                   ⎟       ╲                  \n",
       "  ⎜│           │                               ⎛ k⎞⎟        ╲     m  -m - 1   \n",
       "  ⎜│           │                               ⎝2 ⎠⎟         ╲   2 ⋅2      ⋅\\b\n",
       "∂ ⎜│           │ ⎛ k + 1     ⎛ -k - 1        ⎞⎞    ⎟          ╲               \n",
       "──⎜│           │ ⎜2     ⋅sinh⎝2      ⋅\\beta⋅z⎠⎟    ⎟ =        ╱               \n",
       "∂z⎜│           │ ⎜────────────────────────────⎟    ⎟         ╱                \n",
       "  ⎜│           │ ⎝          \\beta⋅z           ⎠    ⎟        ╱                 \n",
       "  ⎜│           │                                   ⎟       ╱     ─────────────\n",
       "  ⎝    k = 1                                       ⎠      ╱                   \n",
       "                                                         ╱                    \n",
       "                                                        ╱                     \n",
       "                                                       ╱                      \n",
       "                                                       ‾‾‾‾‾‾‾‾‾              \n",
       "                                                         m = 1                \n",
       "\n",
       "                                                                              \n",
       "                                                                              \n",
       "                                                                              \n",
       "                                                                              \n",
       "                                    ⎛ m⎞                                      \n",
       "                                    ⎝2 ⎠                                      \n",
       "      ⎛ m + 1     ⎛ -m - 1        ⎞⎞     ⎛ -m - 1  m + 1     ⎛ -m - 1        ⎞\n",
       "      ⎜2     ⋅sinh⎝2      ⋅\\beta⋅z⎠⎟     ⎜2      ⋅2     ⋅cosh⎝2      ⋅\\beta⋅z⎠\n",
       "eta⋅z⋅⎜────────────────────────────⎟    ⋅⎜────────────────────────────────────\n",
       "      ⎝          \\beta⋅z           ⎠     ⎜                 z                  \n",
       "                                         ⎝                                    \n",
       "                                                                              \n",
       "                                                                              \n",
       "──────────────────────────────────────────────────────────────────────────────\n",
       "                                                                  ⎛ -m - 1    \n",
       "                                                              sinh⎝2      ⋅\\be\n",
       "                                                                              \n",
       "                                                                              \n",
       "                                                                              \n",
       "                                                                              \n",
       "\n",
       "                                                                              \n",
       "                                                                              \n",
       "                                                                              \n",
       "                                       n                                      \n",
       "                                 ┬───────────┬                                \n",
       "                                 │           │                               ⎛\n",
       "    m + 1     ⎛ -m - 1        ⎞⎞ │           │                               ⎝\n",
       "   2     ⋅sinh⎝2      ⋅\\beta⋅z⎠⎟ │           │ ⎛ k + 1     ⎛ -k - 1        ⎞⎞ \n",
       " - ────────────────────────────⎟⋅│           │ ⎜2     ⋅sinh⎝2      ⋅\\beta⋅z⎠⎟ \n",
       "                    2          ⎟ │           │ ⎜────────────────────────────⎟ \n",
       "             \\beta⋅z           ⎠ │           │ ⎝          \\beta⋅z           ⎠ \n",
       "                                 │           │                                \n",
       "                                   k = k ≠ m                                  \n",
       "──────────────────────────────────────────────────────────────────────────────\n",
       "    ⎞                                                                         \n",
       "ta⋅z⎠                                                                         \n",
       "                                                                              \n",
       "                                                                              \n",
       "                                                                              \n",
       "                                                                              \n",
       "\n",
       "   \n",
       "   \n",
       "   \n",
       "   \n",
       "   \n",
       " k⎞\n",
       "2 ⎠\n",
       "   \n",
       "   \n",
       "   \n",
       "   \n",
       "   \n",
       "   \n",
       "───\n",
       "   \n",
       "   \n",
       "   \n",
       "   \n",
       "   \n",
       "   "
      ]
     },
     "execution_count": 178,
     "metadata": {},
     "output_type": "execute_result"
    }
   ],
   "source": [
    "Eq(diff(prod_n,z), Sum(diff(powis(z,m),z)*prodn(z,Ne(k,m),n),(m,1,n)))"
   ]
  },
  {
   "cell_type": "code",
   "execution_count": 213,
   "metadata": {},
   "outputs": [],
   "source": [
    "dPro = Sum(diff(powis(z,m),z)*prodn(z,Ne(k,m),n),(m,1,n))"
   ]
  },
  {
   "cell_type": "code",
   "execution_count": 214,
   "metadata": {},
   "outputs": [],
   "source": [
    "dPro1 = Sum(diff(powis(z,m),z)*1,(m,1,n))"
   ]
  },
  {
   "cell_type": "code",
   "execution_count": 248,
   "metadata": {},
   "outputs": [
    {
     "data": {
      "image/png": "[encoded data removed]",
      "text/latex": [
       "$$\\frac{\\beta^{2} z}{3} 2^{- m - 2} + \\mathcal{O}\\left(z^{2}\\right)$$"
      ],
      "text/plain": [
       " -m - 2      2          \n",
       "2      ⋅\\beta ⋅z    ⎛ 2⎞\n",
       "──────────────── + O⎝z ⎠\n",
       "       3                "
      ]
     },
     "execution_count": 248,
     "metadata": {},
     "output_type": "execute_result"
    }
   ],
   "source": [
    "diff(powis(z,m),z).series(z,0,2)"
   ]
  },
  {
   "cell_type": "code",
   "execution_count": 250,
   "metadata": {},
   "outputs": [
    {
     "data": {
      "image/png": "[encoded data removed]",
      "text/latex": [
       "$$\\sum_{m=1}^{n} \\frac{\\beta^{2} z}{3} 2^{- m - 2}$$"
      ],
      "text/plain": [
       "  n                   \n",
       " ____                 \n",
       " ╲                    \n",
       "  ╲    -m - 2      2  \n",
       "   ╲  2      ⋅\\beta ⋅z\n",
       "   ╱  ────────────────\n",
       "  ╱          3        \n",
       " ╱                    \n",
       " ‾‾‾‾                 \n",
       "m = 1                 "
      ]
     },
     "execution_count": 250,
     "metadata": {},
     "output_type": "execute_result"
    }
   ],
   "source": [
    "dPro12 = Sum(beta**2*z/3*2**(-m-2)*1,(m,1,n))\n",
    "dPro12"
   ]
  },
  {
   "cell_type": "code",
   "execution_count": 255,
   "metadata": {},
   "outputs": [
    {
     "data": {
      "image/png": "[encoded data removed]",
      "text/latex": [
       "$$\\frac{d^{2}}{d z^{2}} \\Pi{\\left (z \\right )} = \\left<j\\right>^{2} e^{- \\left<j\\right> z} \\prod_{k=1}^{n} \\left(\\frac{2^{k + 1}}{\\beta z} \\sinh{\\left (2^{- k - 1} \\beta z \\right )}\\right)^{2^{k}} - 2 \\left<j\\right> e^{- \\left<j\\right> z} \\sum_{m=1}^{n} \\frac{2^{m} 2^{- m - 1} \\beta z}{\\sinh{\\left (2^{- m - 1} \\beta z \\right )}} \\left(\\frac{2^{m + 1}}{\\beta z} \\sinh{\\left (2^{- m - 1} \\beta z \\right )}\\right)^{2^{m}} \\left(\\frac{1}{z} 2^{- m - 1} \\cdot 2^{m + 1} \\cosh{\\left (2^{- m - 1} \\beta z \\right )} - \\frac{2^{m + 1}}{\\beta z^{2}} \\sinh{\\left (2^{- m - 1} \\beta z \\right )}\\right) \\prod_{k=k \\neq m}^{n} \\left(\\frac{2^{k + 1}}{\\beta z} \\sinh{\\left (2^{- k - 1} \\beta z \\right )}\\right)^{2^{k}} + e^{- \\left<j\\right> z} \\frac{\\partial^{2}}{\\partial z^{2}} \\prod_{k=1}^{n} \\left(\\frac{2^{k + 1}}{\\beta z} \\sinh{\\left (2^{- k - 1} \\beta z \\right )}\\right)^{2^{k}}$$"
      ],
      "text/plain": [
       "                                                                              \n",
       "                                                                              \n",
       "                                                                              \n",
       "                                                                              \n",
       "                                                                              \n",
       "                                                     n                        \n",
       "                                               ┬───────────┬                  \n",
       "                                               │           │                  \n",
       "  2                                            │           │                  \n",
       " d                        2  -\\left<j\\right>⋅z │           │ ⎛ k + 1     ⎛ -k \n",
       "───(Π(z)) = \\left<j\\right> ⋅ℯ                 ⋅│           │ ⎜2     ⋅sinh⎝2   \n",
       "  2                                            │           │ ⎜────────────────\n",
       "dz                                             │           │ ⎝          \\beta⋅\n",
       "                                               │           │                  \n",
       "                                                   k = 1                      \n",
       "                                                                              \n",
       "                                                                              \n",
       "                                                                              \n",
       "                                                                              \n",
       "                                                                              \n",
       "\n",
       "                                                            n                 \n",
       "                                                        _________             \n",
       "                                                        ╲                     \n",
       "                                                         ╲                    \n",
       "                                                          ╲                   \n",
       "                                                           ╲                  \n",
       "                                                            ╲                 \n",
       "             ⎛ k⎞                                            ╲     m  -m - 1  \n",
       "             ⎝2 ⎠                                             ╲   2 ⋅2      ⋅\\\n",
       "- 1        ⎞⎞                         -\\left<j\\right>⋅z        ╲              \n",
       "   ⋅\\beta⋅z⎠⎟     - 2⋅\\left<j\\right>⋅ℯ                 ⋅       ╱              \n",
       "────────────⎟                                                 ╱               \n",
       "z           ⎠                                                ╱                \n",
       "                                                            ╱     ────────────\n",
       "                                                           ╱                  \n",
       "                                                          ╱                   \n",
       "                                                         ╱                    \n",
       "                                                        ╱                     \n",
       "                                                        ‾‾‾‾‾‾‾‾‾             \n",
       "                                                          m = 1               \n",
       "\n",
       "                                                                              \n",
       "                                                                              \n",
       "                                                                              \n",
       "                                                                              \n",
       "                                     ⎛ m⎞                                     \n",
       "                                     ⎝2 ⎠                                     \n",
       "       ⎛ m + 1     ⎛ -m - 1        ⎞⎞     ⎛ -m - 1  m + 1     ⎛ -m - 1        \n",
       "       ⎜2     ⋅sinh⎝2      ⋅\\beta⋅z⎠⎟     ⎜2      ⋅2     ⋅cosh⎝2      ⋅\\beta⋅z\n",
       "beta⋅z⋅⎜────────────────────────────⎟    ⋅⎜───────────────────────────────────\n",
       "       ⎝          \\beta⋅z           ⎠     ⎜                 z                 \n",
       "                                          ⎝                                   \n",
       "                                                                              \n",
       "                                                                              \n",
       "──────────────────────────────────────────────────────────────────────────────\n",
       "                                                                   ⎛ -m - 1   \n",
       "                                                               sinh⎝2      ⋅\\b\n",
       "                                                                              \n",
       "                                                                              \n",
       "                                                                              \n",
       "                                                                              \n",
       "\n",
       "                                                                              \n",
       "                                                                              \n",
       "                                                                              \n",
       "                                        n                                     \n",
       "                                  ┬───────────┬                               \n",
       "                                  │           │                               \n",
       "⎞    m + 1     ⎛ -m - 1        ⎞⎞ │           │                               \n",
       "⎠   2     ⋅sinh⎝2      ⋅\\beta⋅z⎠⎟ │           │ ⎛ k + 1     ⎛ -k - 1        ⎞⎞\n",
       "─ - ────────────────────────────⎟⋅│           │ ⎜2     ⋅sinh⎝2      ⋅\\beta⋅z⎠⎟\n",
       "                     2          ⎟ │           │ ⎜────────────────────────────⎟\n",
       "              \\beta⋅z           ⎠ │           │ ⎝          \\beta⋅z           ⎠\n",
       "                                  │           │                               \n",
       "                                    k = k ≠ m                                 \n",
       "──────────────────────────────────────────────────────────────────────────────\n",
       "     ⎞                                                                        \n",
       "eta⋅z⎠                                                                        \n",
       "                                                                              \n",
       "                                                                              \n",
       "                                                                              \n",
       "                                                                              \n",
       "\n",
       "                                                                              \n",
       "                                                                              \n",
       "                                                                              \n",
       "                                                                              \n",
       "                                                                              \n",
       "⎛ k⎞                         ⎛      n                                         \n",
       "⎝2 ⎠                         ⎜┬───────────┬                                   \n",
       "                             ⎜│           │                               ⎛ k⎞\n",
       "                            2⎜│           │                               ⎝2 ⎠\n",
       "        -\\left<j\\right>⋅z  ∂ ⎜│           │ ⎛ k + 1     ⎛ -k - 1        ⎞⎞    \n",
       "     + ℯ                 ⋅───⎜│           │ ⎜2     ⋅sinh⎝2      ⋅\\beta⋅z⎠⎟    \n",
       "                            2⎜│           │ ⎜────────────────────────────⎟    \n",
       "                          ∂z ⎜│           │ ⎝          \\beta⋅z           ⎠    \n",
       "────                         ⎜│           │                                   \n",
       "                             ⎝    k = 1                                       \n",
       "                                                                              \n",
       "                                                                              \n",
       "                                                                              \n",
       "                                                                              \n",
       "                                                                              \n",
       "\n",
       " \n",
       " \n",
       " \n",
       " \n",
       " \n",
       "⎞\n",
       "⎟\n",
       "⎟\n",
       "⎟\n",
       "⎟\n",
       "⎟\n",
       "⎟\n",
       "⎟\n",
       "⎟\n",
       "⎠\n",
       " \n",
       " \n",
       " \n",
       " \n",
       " "
      ]
     },
     "execution_count": 255,
     "metadata": {},
     "output_type": "execute_result"
    }
   ],
   "source": [
    "Eq(diff(PI(z),z,2),\n",
    "   j*j*exp(-j*z)*prod_n\n",
    "   -2*j*exp(-j*z)*dPro\n",
    "   +exp(-j*z)*diff(prod_n,z,2))"
   ]
  },
  {
   "cell_type": "code",
   "execution_count": 206,
   "metadata": {},
   "outputs": [
    {
     "data": {
      "image/png": "[encoded data removed]",
      "text/latex": [
       "$$\\sum_{l=1}^{n} \\frac{2^{l} 2^{- l - 1} \\beta z}{\\sinh{\\left (2^{- l - 1} \\beta z \\right )}} \\left(\\frac{2^{l + 1}}{\\beta z} \\sinh{\\left (2^{- l - 1} \\beta z \\right )}\\right)^{2^{l}} \\left(\\frac{1}{z} 2^{- l - 1} \\cdot 2^{l + 1} \\cosh{\\left (2^{- l - 1} \\beta z \\right )} - \\frac{2^{l + 1}}{\\beta z^{2}} \\sinh{\\left (2^{- l - 1} \\beta z \\right )}\\right) \\prod_{k=k \\neq l \\neq m}^{n} \\left(\\frac{2^{k + 1}}{\\beta z} \\sinh{\\left (2^{- k - 1} \\beta z \\right )}\\right)^{2^{k}}$$"
      ],
      "text/plain": [
       "    n                                                                         \n",
       "_________                                                                     \n",
       "╲                                                                             \n",
       " ╲                                                                            \n",
       "  ╲                                                        ⎛ l⎞               \n",
       "   ╲                                                       ⎝2 ⎠               \n",
       "    ╲                        ⎛ l + 1     ⎛ -l - 1        ⎞⎞     ⎛ -l - 1  l + \n",
       "     ╲     l  -l - 1         ⎜2     ⋅sinh⎝2      ⋅\\beta⋅z⎠⎟     ⎜2      ⋅2    \n",
       "      ╲   2 ⋅2      ⋅\\beta⋅z⋅⎜────────────────────────────⎟    ⋅⎜─────────────\n",
       "       ╲                     ⎝          \\beta⋅z           ⎠     ⎜             \n",
       "       ╱                                                        ⎝             \n",
       "      ╱                                                                       \n",
       "     ╱                                                                        \n",
       "    ╱     ────────────────────────────────────────────────────────────────────\n",
       "   ╱                                                                          \n",
       "  ╱                                                                           \n",
       " ╱                                                                            \n",
       "╱                                                                             \n",
       "‾‾‾‾‾‾‾‾‾                                                                     \n",
       "  l = 1                                                                       \n",
       "\n",
       "                                                                              \n",
       "                                                                              \n",
       "                                                                              \n",
       "                                                              n               \n",
       "                                                        ┬───────────┬         \n",
       "                                                        │           │         \n",
       "1     ⎛ -l - 1        ⎞    l + 1     ⎛ -l - 1        ⎞⎞ │           │         \n",
       " ⋅cosh⎝2      ⋅\\beta⋅z⎠   2     ⋅sinh⎝2      ⋅\\beta⋅z⎠⎟ │           │ ⎛ k + 1 \n",
       "─────────────────────── - ────────────────────────────⎟⋅│           │ ⎜2     ⋅\n",
       "    z                                      2          ⎟ │           │ ⎜───────\n",
       "                                    \\beta⋅z           ⎠ │           │ ⎝       \n",
       "                                                        │           │         \n",
       "                                                        k = k ≠ l ≠ m         \n",
       "──────────────────────────────────────────────────────────────────────────────\n",
       "           ⎛ -l - 1        ⎞                                                  \n",
       "       sinh⎝2      ⋅\\beta⋅z⎠                                                  \n",
       "                                                                              \n",
       "                                                                              \n",
       "                                                                              \n",
       "                                                                              \n",
       "\n",
       "                          \n",
       "                          \n",
       "                          \n",
       "                          \n",
       "                          \n",
       "                      ⎛ k⎞\n",
       "                      ⎝2 ⎠\n",
       "    ⎛ -k - 1        ⎞⎞    \n",
       "sinh⎝2      ⋅\\beta⋅z⎠⎟    \n",
       "─────────────────────⎟    \n",
       "   \\beta⋅z           ⎠    \n",
       "                          \n",
       "                          \n",
       "──────────────────────────\n",
       "                          \n",
       "                          \n",
       "                          \n",
       "                          \n",
       "                          \n",
       "                          "
      ]
     },
     "execution_count": 206,
     "metadata": {},
     "output_type": "execute_result"
    }
   ],
   "source": [
    "Sum(diff(powis(z,l),z)*prodn(z,Ne(k,Ne(l,m)),n),(l,1,n))"
   ]
  },
  {
   "cell_type": "code",
   "execution_count": 216,
   "metadata": {
    "scrolled": true
   },
   "outputs": [
    {
     "data": {
      "image/png": "[encoded data removed]",
      "text/latex": [
       "$$\\frac{\\partial^{2}}{\\partial z^{2}} \\prod_{k=1}^{n} \\left(\\frac{2^{k + 1}}{\\beta z} \\sinh{\\left (2^{- k - 1} \\beta z \\right )}\\right)^{2^{k}} = \\sum_{m=1}^{n} \\left(\\frac{2^{m} 2^{- m - 1} \\beta z}{\\sinh{\\left (2^{- m - 1} \\beta z \\right )}} \\left(\\frac{2^{m + 1}}{\\beta z} \\sinh{\\left (2^{- m - 1} \\beta z \\right )}\\right)^{2^{m}} \\left(\\frac{1}{z} 2^{- m - 1} \\cdot 2^{m + 1} \\cosh{\\left (2^{- m - 1} \\beta z \\right )} - \\frac{2^{m + 1}}{\\beta z^{2}} \\sinh{\\left (2^{- m - 1} \\beta z \\right )}\\right) \\sum_{l=l \\neq m}^{n} \\frac{2^{l} 2^{- l - 1} \\beta z}{\\sinh{\\left (2^{- l - 1} \\beta z \\right )}} \\left(\\frac{2^{l + 1}}{\\beta z} \\sinh{\\left (2^{- l - 1} \\beta z \\right )}\\right)^{2^{l}} \\left(\\frac{1}{z} 2^{- l - 1} \\cdot 2^{l + 1} \\cosh{\\left (2^{- l - 1} \\beta z \\right )} - \\frac{2^{l + 1}}{\\beta z^{2}} \\sinh{\\left (2^{- l - 1} \\beta z \\right )}\\right) \\prod_{k=k \\neq l \\neq m}^{n} \\left(\\frac{2^{k + 1}}{\\beta z} \\sinh{\\left (2^{- k - 1} \\beta z \\right )}\\right)^{2^{k}} + \\frac{\\beta \\left(\\frac{2 \\cdot 2^{m}}{\\beta z} \\sinh{\\left (\\frac{\\beta z}{2} 2^{- m} \\right )}\\right)^{2^{m}}}{4 \\sinh{\\left (\\frac{\\beta z}{2} 2^{- m} \\right )}} \\left(\\frac{8 \\cdot 2^{m}}{\\beta z^{2}} \\sinh{\\left (\\frac{\\beta z}{2} 2^{- m} \\right )} + \\frac{\\beta}{\\sinh{\\left (\\frac{\\beta z}{2} 2^{- m} \\right )}} \\left(\\frac{2 \\cdot 2^{m}}{\\beta z} \\sinh{\\left (\\frac{\\beta z}{2} 2^{- m} \\right )} - \\cosh{\\left (\\frac{\\beta z}{2} 2^{- m} \\right )}\\right)^{2} - \\frac{2}{z} \\left(\\frac{2 \\cdot 2^{m}}{\\beta z} \\sinh{\\left (\\frac{\\beta z}{2} 2^{- m} \\right )} - \\cosh{\\left (\\frac{\\beta z}{2} 2^{- m} \\right )}\\right) - \\frac{4}{z} \\cosh{\\left (\\frac{\\beta z}{2} 2^{- m} \\right )} + \\frac{2^{- m} \\beta \\cosh{\\left (\\frac{\\beta z}{2} 2^{- m} \\right )}}{\\sinh{\\left (\\frac{\\beta z}{2} 2^{- m} \\right )}} \\left(\\frac{2 \\cdot 2^{m}}{\\beta z} \\sinh{\\left (\\frac{\\beta z}{2} 2^{- m} \\right )} - \\cosh{\\left (\\frac{\\beta z}{2} 2^{- m} \\right )}\\right) + 2^{- m} \\beta \\sinh{\\left (\\frac{\\beta z}{2} 2^{- m} \\right )}\\right) \\prod_{k=k \\neq m}^{n} \\left(\\frac{2^{k + 1}}{\\beta z} \\sinh{\\left (2^{- k - 1} \\beta z \\right )}\\right)^{2^{k}}\\right)$$"
      ],
      "text/plain": [
       "                                                               n              \n",
       "                                                        _______________       \n",
       "                                                        ╲                     \n",
       "                                                         ╲              ⎛     \n",
       "                                                          ╲             ⎜     \n",
       "                                                           ╲            ⎜     \n",
       "                                                            ╲           ⎜     \n",
       "                                                             ╲          ⎜     \n",
       "                                                              ╲         ⎜     \n",
       "                                                               ╲        ⎜     \n",
       "                                                                ╲       ⎜     \n",
       "   ⎛      n                                         ⎞            ╲      ⎜     \n",
       "   ⎜┬───────────┬                                   ⎟             ╲     ⎜ m  -\n",
       "   ⎜│           │                               ⎛ k⎞⎟              ╲    ⎜2 ⋅2 \n",
       "  2⎜│           │                               ⎝2 ⎠⎟               ╲   ⎜     \n",
       " ∂ ⎜│           │ ⎛ k + 1     ⎛ -k - 1        ⎞⎞    ⎟                ╲  ⎜     \n",
       "───⎜│           │ ⎜2     ⋅sinh⎝2      ⋅\\beta⋅z⎠⎟    ⎟ =              ╱  ⎜     \n",
       "  2⎜│           │ ⎜────────────────────────────⎟    ⎟               ╱   ⎜     \n",
       "∂z ⎜│           │ ⎝          \\beta⋅z           ⎠    ⎟              ╱    ⎜     \n",
       "   ⎜│           │                                   ⎟             ╱     ⎜     \n",
       "   ⎝    k = 1                                       ⎠            ╱      ⎜     \n",
       "                                                                ╱       ⎜     \n",
       "                                                               ╱        ⎜     \n",
       "                                                              ╱         ⎜─────\n",
       "                                                             ╱          ⎜     \n",
       "                                                            ╱           ⎜     \n",
       "                                                           ╱            ⎜     \n",
       "                                                          ╱             ⎝     \n",
       "                                                         ╱                    \n",
       "                                                        ╱                     \n",
       "                                                        ‾‾‾‾‾‾‾‾‾‾‾‾‾‾‾       \n",
       "                                                             m = 1            \n",
       "\n",
       "                                                                              \n",
       "                                                                              \n",
       "                                                                              \n",
       "                                                                              \n",
       "                                                                              \n",
       "                                                                              \n",
       "                                                                              \n",
       "                                                                              \n",
       "                                                                              \n",
       "                                            ⎛ m⎞                              \n",
       "                                            ⎝2 ⎠                              \n",
       "              ⎛ m + 1     ⎛ -m - 1        ⎞⎞     ⎛ -m - 1  m + 1     ⎛ -m - 1 \n",
       "m - 1         ⎜2     ⋅sinh⎝2      ⋅\\beta⋅z⎠⎟     ⎜2      ⋅2     ⋅cosh⎝2      ⋅\n",
       "     ⋅\\beta⋅z⋅⎜────────────────────────────⎟    ⋅⎜────────────────────────────\n",
       "              ⎝          \\beta⋅z           ⎠     ⎜                 z          \n",
       "                                                 ⎝                            \n",
       "                                                                              \n",
       "                                                                              \n",
       "                                                                              \n",
       "                                                                              \n",
       "                                                                              \n",
       "                                                                              \n",
       "                                                                              \n",
       "──────────────────────────────────────────────────────────────────────────────\n",
       "                                                                              \n",
       "                                                                              \n",
       "                                                                              \n",
       "                                                                              \n",
       "                                                                              \n",
       "                                                                              \n",
       "                                                                              \n",
       "                                                                              \n",
       "\n",
       "                                                                              \n",
       "                                                                              \n",
       "                                                                              \n",
       "                                             n                                \n",
       "                                         _________                            \n",
       "                                         ╲                                    \n",
       "                                          ╲                                   \n",
       "                                           ╲                                  \n",
       "                                            ╲                                 \n",
       "                                             ╲                        ⎛ l + 1 \n",
       "                                              ╲     l  -l - 1         ⎜2     ⋅\n",
       "       ⎞    m + 1     ⎛ -m - 1        ⎞⎞       ╲   2 ⋅2      ⋅\\beta⋅z⋅⎜───────\n",
       "\\beta⋅z⎠   2     ⋅sinh⎝2      ⋅\\beta⋅z⎠⎟        ╲                     ⎝       \n",
       "──────── - ────────────────────────────⎟⋅       ╱                             \n",
       "                            2          ⎟       ╱                              \n",
       "                     \\beta⋅z           ⎠      ╱                               \n",
       "                                             ╱     ───────────────────────────\n",
       "                                            ╱                                 \n",
       "                                           ╱                                  \n",
       "                                          ╱                                   \n",
       "                                         ╱                                    \n",
       "                                         ‾‾‾‾‾‾‾‾‾                            \n",
       "                                         l = l ≠ m                            \n",
       "──────────────────────────────────────────────────────────────────────────────\n",
       "                                                               ⎛ -m - 1       \n",
       "                                                           sinh⎝2      ⋅\\beta⋅\n",
       "                                                                              \n",
       "                                                                              \n",
       "                                                                              \n",
       "                                                                              \n",
       "                                                                              \n",
       "                                                                              \n",
       "\n",
       "                                                                              \n",
       "                                                                              \n",
       "                                                                              \n",
       "                                                                              \n",
       "                                                                              \n",
       "                                                                              \n",
       "                                                                              \n",
       "                      ⎛ l⎞                                                    \n",
       "                      ⎝2 ⎠                                                    \n",
       "    ⎛ -l - 1        ⎞⎞     ⎛ -l - 1  l + 1     ⎛ -l - 1        ⎞    l + 1     \n",
       "sinh⎝2      ⋅\\beta⋅z⎠⎟     ⎜2      ⋅2     ⋅cosh⎝2      ⋅\\beta⋅z⎠   2     ⋅sinh\n",
       "─────────────────────⎟    ⋅⎜──────────────────────────────────── - ───────────\n",
       "   \\beta⋅z           ⎠     ⎜                 z                                \n",
       "                           ⎝                                                 \\\n",
       "                                                                              \n",
       "                                                                              \n",
       "──────────────────────────────────────────────────────────────────────────────\n",
       "                                                    ⎛ -l - 1        ⎞         \n",
       "                                                sinh⎝2      ⋅\\beta⋅z⎠         \n",
       "                                                                              \n",
       "                                                                              \n",
       "                                                                              \n",
       "                                                                              \n",
       "──────────────────────────────────────────────────────────────────────────────\n",
       " ⎞                                                                            \n",
       "z⎠                                                                            \n",
       "                                                                              \n",
       "                                                                              \n",
       "                                                                              \n",
       "                                                                              \n",
       "                                                                              \n",
       "                                                                              \n",
       "\n",
       "                                                                              \n",
       "                                                                              \n",
       "                                                                              \n",
       "                                                                              \n",
       "                                                                              \n",
       "                                                                              \n",
       "                         n                                                    \n",
       "                   ┬───────────┬                                              \n",
       "                   │           │                               ⎛ k⎞           \n",
       "⎛ -l - 1        ⎞⎞ │           │                               ⎝2 ⎠           \n",
       "⎝2      ⋅\\beta⋅z⎠⎟ │           │ ⎛ k + 1     ⎛ -k - 1        ⎞⎞               \n",
       "─────────────────⎟⋅│           │ ⎜2     ⋅sinh⎝2      ⋅\\beta⋅z⎠⎟               \n",
       "      2          ⎟ │           │ ⎜────────────────────────────⎟               \n",
       "beta⋅z           ⎠ │           │ ⎝          \\beta⋅z           ⎠               \n",
       "                   │           │                                            ⎛ \n",
       "                   k = k ≠ l ≠ m                                            ⎜ \n",
       "───────────────────────────────────────────────────────────────────         ⎜2\n",
       "                                                                            ⎜ \n",
       "                                                                      \\beta⋅⎜─\n",
       "                                                                            ⎝ \n",
       "                                                                              \n",
       "                                                                              \n",
       "                                                                              \n",
       "─────────────────────────────────────────────────────────────────── + ────────\n",
       "                                                                              \n",
       "                                                                              \n",
       "                                                                              \n",
       "                                                                              \n",
       "                                                                              \n",
       "                                                                              \n",
       "                                                                              \n",
       "                                                                              \n",
       "\n",
       "                                                                              \n",
       "                                                                              \n",
       "                                                                              \n",
       "                                                                              \n",
       "                                                                              \n",
       "                                                                              \n",
       "                                                                              \n",
       "                                                                              \n",
       "                                                                              \n",
       "                                                                              \n",
       "                                                                              \n",
       "                           ⎛                                                  \n",
       "                      ⎛ m⎞ ⎜                               ⎛         ⎛ -m     \n",
       "                      ⎝2 ⎠ ⎜                               ⎜   m     ⎜2  ⋅\\bet\n",
       "        ⎛ -m        ⎞⎞     ⎜         ⎛ -m        ⎞         ⎜2⋅2 ⋅sinh⎜────────\n",
       "  m     ⎜2  ⋅\\beta⋅z⎟⎟     ⎜   m     ⎜2  ⋅\\beta⋅z⎟         ⎜         ⎝     2  \n",
       "⋅2 ⋅sinh⎜───────────⎟⎟     ⎜8⋅2 ⋅sinh⎜───────────⎟   \\beta⋅⎜──────────────────\n",
       "        ⎝     2     ⎠⎟     ⎜         ⎝     2     ⎠         ⎝       \\beta⋅z    \n",
       "─────────────────────⎟    ⋅⎜────────────────────── + ─────────────────────────\n",
       "      \\beta⋅z        ⎠     ⎜              2                               ⎛ -m\n",
       "                           ⎜       \\beta⋅z                                ⎜2  \n",
       "                           ⎜                                          sinh⎜───\n",
       "                           ⎝                                              ⎝   \n",
       "──────────────────────────────────────────────────────────────────────────────\n",
       "                                                                              \n",
       "                                                                              \n",
       "                                                                              \n",
       "                                                                              \n",
       "                                                                              \n",
       "                                                                              \n",
       "                                                                              \n",
       "                                                                              \n",
       "\n",
       "                                                                              \n",
       "                                                                              \n",
       "                                                                              \n",
       "                                                                              \n",
       "                                                                              \n",
       "                                                                              \n",
       "                                                                              \n",
       "                                                                              \n",
       "                                                                              \n",
       "                                                                              \n",
       "                                                                              \n",
       "                         2                                                    \n",
       "   ⎞                    ⎞      ⎛         ⎛ -m        ⎞                    ⎞   \n",
       "a⋅z⎟                    ⎟      ⎜   m     ⎜2  ⋅\\beta⋅z⎟                    ⎟   \n",
       "───⎟       ⎛ -m        ⎞⎟      ⎜2⋅2 ⋅sinh⎜───────────⎟       ⎛ -m        ⎞⎟   \n",
       "   ⎠       ⎜2  ⋅\\beta⋅z⎟⎟      ⎜         ⎝     2     ⎠       ⎜2  ⋅\\beta⋅z⎟⎟   \n",
       "──── - cosh⎜───────────⎟⎟    2⋅⎜────────────────────── - cosh⎜───────────⎟⎟   \n",
       "           ⎝     2     ⎠⎠      ⎝       \\beta⋅z               ⎝     2     ⎠⎠   \n",
       "────────────────────────── - ────────────────────────────────────────────── - \n",
       "        ⎞                                          z                          \n",
       "⋅\\beta⋅z⎟                                                                     \n",
       "────────⎟                                                                     \n",
       "  2     ⎠                                                                     \n",
       "──────────────────────────────────────────────────────────────────────────────\n",
       "                                                                              \n",
       "                                                                              \n",
       "                                                                         4⋅sin\n",
       "                                                                              \n",
       "                                                                              \n",
       "                                                                              \n",
       "                                                                              \n",
       "                                                                              \n",
       "\n",
       "                                                                              \n",
       "                                                                              \n",
       "                                                                              \n",
       "                                                                              \n",
       "                                                                              \n",
       "                                                                              \n",
       "                                                                              \n",
       "                                                                              \n",
       "                                                                              \n",
       "                                                                              \n",
       "                                                                              \n",
       "                                                                              \n",
       "                                ⎛         ⎛ -m        ⎞                    ⎞  \n",
       "                                ⎜   m     ⎜2  ⋅\\beta⋅z⎟                    ⎟  \n",
       "      ⎛ -m        ⎞             ⎜2⋅2 ⋅sinh⎜───────────⎟       ⎛ -m        ⎞⎟  \n",
       "      ⎜2  ⋅\\beta⋅z⎟    -m       ⎜         ⎝     2     ⎠       ⎜2  ⋅\\beta⋅z⎟⎟  \n",
       "4⋅cosh⎜───────────⎟   2  ⋅\\beta⋅⎜────────────────────── - cosh⎜───────────⎟⎟⋅c\n",
       "      ⎝     2     ⎠             ⎝       \\beta⋅z               ⎝     2     ⎠⎠  \n",
       "─────────────────── + ────────────────────────────────────────────────────────\n",
       "         z                                           ⎛ -m        ⎞            \n",
       "                                                     ⎜2  ⋅\\beta⋅z⎟            \n",
       "                                                 sinh⎜───────────⎟            \n",
       "                                                     ⎝     2     ⎠            \n",
       "──────────────────────────────────────────────────────────────────────────────\n",
       " ⎛ -m        ⎞                                                                \n",
       " ⎜2  ⋅\\beta⋅z⎟                                                                \n",
       "h⎜───────────⎟                                                                \n",
       " ⎝     2     ⎠                                                                \n",
       "                                                                              \n",
       "                                                                              \n",
       "                                                                              \n",
       "                                                                              \n",
       "\n",
       "                                                                              \n",
       "                                                                              \n",
       "                                                                              \n",
       "                                                                              \n",
       "                                                                              \n",
       "                                                                              \n",
       "                                                                              \n",
       "                                                                              \n",
       "                                                                              \n",
       "                                                                              \n",
       "                                                                              \n",
       "                                              ⎞                               \n",
       "                                              ⎟                               \n",
       "                                              ⎟       n                       \n",
       "   ⎛ -m        ⎞                              ⎟ ┬───────────┬                 \n",
       "   ⎜2  ⋅\\beta⋅z⎟                              ⎟ │           │                 \n",
       "osh⎜───────────⎟                 ⎛ -m        ⎞⎟ │           │                 \n",
       "   ⎝     2     ⎠    -m           ⎜2  ⋅\\beta⋅z⎟⎟ │           │ ⎛ k + 1     ⎛ -k\n",
       "──────────────── + 2  ⋅\\beta⋅sinh⎜───────────⎟⎟⋅│           │ ⎜2     ⋅sinh⎝2  \n",
       "                                 ⎝     2     ⎠⎟ │           │ ⎜───────────────\n",
       "                                              ⎟ │           │ ⎝          \\beta\n",
       "                                              ⎟ │           │                 \n",
       "                                              ⎠   k = k ≠ m                   \n",
       "──────────────────────────────────────────────────────────────────────────────\n",
       "                                                                              \n",
       "                                                                              \n",
       "                                                                              \n",
       "                                                                              \n",
       "                                                                              \n",
       "                                                                              \n",
       "                                                                              \n",
       "                                                                              \n",
       "\n",
       "                   \n",
       "                   \n",
       "                   \n",
       "                  ⎞\n",
       "                  ⎟\n",
       "                  ⎟\n",
       "                  ⎟\n",
       "                  ⎟\n",
       "                  ⎟\n",
       "                  ⎟\n",
       "                  ⎟\n",
       "                  ⎟\n",
       "                  ⎟\n",
       "                  ⎟\n",
       "                  ⎟\n",
       "              ⎛ k⎞⎟\n",
       "              ⎝2 ⎠⎟\n",
       " - 1        ⎞⎞    ⎟\n",
       "    ⋅\\beta⋅z⎠⎟    ⎟\n",
       "─────────────⎟    ⎟\n",
       "⋅z           ⎠    ⎟\n",
       "                  ⎟\n",
       "                  ⎟\n",
       "──────────────────⎟\n",
       "                  ⎟\n",
       "                  ⎟\n",
       "                  ⎟\n",
       "                  ⎠\n",
       "                   \n",
       "                   \n",
       "                   \n",
       "                   "
      ]
     },
     "execution_count": 216,
     "metadata": {},
     "output_type": "execute_result"
    }
   ],
   "source": [
    "Eq(diff(prod_n,z,2), Sum(diff(powis(z,m),z,2)*prodn(z,Ne(k,m),n)+\n",
    "                         diff(powis(z,m),z)*Sum(diff(powis(z,l),z)*prodn(z,Ne(k,Ne(l,m)),n),(l,Ne(l,m),n)),(m,1,n)))"
   ]
  },
  {
   "cell_type": "code",
   "execution_count": null,
   "metadata": {},
   "outputs": [],
   "source": [
    "Sum(diff(powis(z,m),z,2)*prodn(z,Ne(k,m),n)+\n",
    "                         diff(powis(z,m),z)*Sum(diff(powis(z,l),z)*prodn(z,Ne(k,Ne(l,m)),n),(l,Ne(l,m),n)),(m,1,n)))"
   ]
  },
  {
   "cell_type": "code",
   "execution_count": 238,
   "metadata": {},
   "outputs": [
    {
     "data": {
      "image/png": "[encoded data removed]",
      "text/latex": [
       "$$\\frac{\\beta^{2}}{3} 2^{- m - 2} + \\mathcal{O}\\left(z^{2}\\right)$$"
      ],
      "text/plain": [
       " -m - 2      2        \n",
       "2      ⋅\\beta     ⎛ 2⎞\n",
       "────────────── + O⎝z ⎠\n",
       "      3               "
      ]
     },
     "execution_count": 238,
     "metadata": {},
     "output_type": "execute_result"
    }
   ],
   "source": [
    "diff(powis(z,m),z,2).series(z,0,2)"
   ]
  },
  {
   "cell_type": "code",
   "execution_count": 247,
   "metadata": {},
   "outputs": [
    {
     "data": {
      "image/png": "[encoded data removed]",
      "text/latex": [
       "$$\\frac{\\beta^{2} z}{3} 2^{- m - 2} + \\mathcal{O}\\left(z^{2}\\right)$$"
      ],
      "text/plain": [
       " -m - 2      2          \n",
       "2      ⋅\\beta ⋅z    ⎛ 2⎞\n",
       "──────────────── + O⎝z ⎠\n",
       "       3                "
      ]
     },
     "execution_count": 247,
     "metadata": {},
     "output_type": "execute_result"
    }
   ],
   "source": [
    "diff(powis(z,m),z).series(z,0,2)"
   ]
  },
  {
   "cell_type": "code",
   "execution_count": 245,
   "metadata": {},
   "outputs": [
    {
     "data": {
      "image/png": "[encoded data removed]",
      "text/latex": [
       "$$\\sum_{m=1}^{n} \\left(\\frac{\\beta^{2} z}{3} 2^{- m - 2} \\sum_{l=l \\neq m}^{n} \\frac{\\beta^{2} z}{3} 2^{- l - 2} + \\frac{\\beta^{2}}{3} 2^{- m - 2}\\right)$$"
      ],
      "text/plain": [
       "   n                                                                   \n",
       "________                                                               \n",
       "╲                                                                      \n",
       " ╲       ⎛                     n                                      ⎞\n",
       "  ╲      ⎜                    ____                                    ⎟\n",
       "   ╲     ⎜                    ╲                                       ⎟\n",
       "    ╲    ⎜                     ╲      -l - 2      2                   ⎟\n",
       "     ╲   ⎜ -m - 2      2        ╲    2      ⋅\\beta ⋅z                 ⎟\n",
       "      ╲  ⎜2      ⋅\\beta ⋅z⋅     ╱    ────────────────                 ⎟\n",
       "      ╱  ⎜                     ╱            3                         ⎟\n",
       "     ╱   ⎜                    ╱                                       ⎟\n",
       "    ╱    ⎜                    ‾‾‾‾                       -m - 2      2⎟\n",
       "   ╱     ⎜                 l = l ≠ m                    2      ⋅\\beta ⎟\n",
       "  ╱      ⎜─────────────────────────────────────────── + ──────────────⎟\n",
       " ╱       ⎝                     3                              3       ⎠\n",
       "╱                                                                      \n",
       "‾‾‾‾‾‾‾‾                                                               \n",
       " m = 1                                                                 "
      ]
     },
     "execution_count": 245,
     "metadata": {},
     "output_type": "execute_result"
    }
   ],
   "source": [
    "# observando a expanão do que está o somatório\n",
    "d2Pro12 = Sum(beta**2/3*2**(-m-2)+\n",
    "    (2**(-m - 2)*beta**2*z/3)*Sum((2**(-l - 2)*beta**2*z/3)*1,(l,Ne(l,m),n)),(m,1,n))\n",
    "d2Pro12"
   ]
  },
  {
   "cell_type": "code",
   "execution_count": 260,
   "metadata": {},
   "outputs": [],
   "source": [
    "d2Pro1 = Sum(diff(powis(z,m),z,2)*1+\n",
    "             diff(powis(z,m),z)*Sum(diff(powis(z,l),z)*1,(l,Ne(l,m),n)),(m,1,n))"
   ]
  },
  {
   "cell_type": "code",
   "execution_count": 219,
   "metadata": {},
   "outputs": [
    {
     "data": {
      "image/png": "[encoded data removed]",
      "text/latex": [
       "$$\\frac{d^{2}}{d z^{2}} \\Pi{\\left (z \\right )} = \\left<j\\right>^{2} e^{- \\left<j\\right> z} \\prod_{k=1}^{n} \\left(\\frac{2^{k + 1}}{\\beta z} \\sinh{\\left (2^{- k - 1} \\beta z \\right )}\\right)^{2^{k}} - \\left<j\\right> e^{- \\left<j\\right> z} \\prod_{k=1}^{n} \\left(\\frac{2^{k + 1}}{\\beta z} \\sinh{\\left (2^{- k - 1} \\beta z \\right )}\\right)^{2^{k}} - \\left<j\\right> e^{- \\left<j\\right> z} \\sum_{m=1}^{n} \\frac{2^{m} 2^{- m - 1} \\beta z}{\\sinh{\\left (2^{- m - 1} \\beta z \\right )}} \\left(\\frac{2^{m + 1}}{\\beta z} \\sinh{\\left (2^{- m - 1} \\beta z \\right )}\\right)^{2^{m}} \\left(\\frac{1}{z} 2^{- m - 1} \\cdot 2^{m + 1} \\cosh{\\left (2^{- m - 1} \\beta z \\right )} - \\frac{2^{m + 1}}{\\beta z^{2}} \\sinh{\\left (2^{- m - 1} \\beta z \\right )}\\right) \\prod_{k=k \\neq m}^{n} \\left(\\frac{2^{k + 1}}{\\beta z} \\sinh{\\left (2^{- k - 1} \\beta z \\right )}\\right)^{2^{k}} + e^{- \\left<j\\right> z} \\sum_{m=1}^{n} \\left(\\frac{2^{m} 2^{- m - 1} \\beta z}{\\sinh{\\left (2^{- m - 1} \\beta z \\right )}} \\left(\\frac{2^{m + 1}}{\\beta z} \\sinh{\\left (2^{- m - 1} \\beta z \\right )}\\right)^{2^{m}} \\left(\\frac{1}{z} 2^{- m - 1} \\cdot 2^{m + 1} \\cosh{\\left (2^{- m - 1} \\beta z \\right )} - \\frac{2^{m + 1}}{\\beta z^{2}} \\sinh{\\left (2^{- m - 1} \\beta z \\right )}\\right) \\sum_{l=l \\neq m}^{n} \\frac{2^{l} 2^{- l - 1} \\beta z}{\\sinh{\\left (2^{- l - 1} \\beta z \\right )}} \\left(\\frac{2^{l + 1}}{\\beta z} \\sinh{\\left (2^{- l - 1} \\beta z \\right )}\\right)^{2^{l}} \\left(\\frac{1}{z} 2^{- l - 1} \\cdot 2^{l + 1} \\cosh{\\left (2^{- l - 1} \\beta z \\right )} - \\frac{2^{l + 1}}{\\beta z^{2}} \\sinh{\\left (2^{- l - 1} \\beta z \\right )}\\right) \\prod_{k=k \\neq l \\neq m}^{n} \\left(\\frac{2^{k + 1}}{\\beta z} \\sinh{\\left (2^{- k - 1} \\beta z \\right )}\\right)^{2^{k}} + \\frac{\\beta \\left(\\frac{2 \\cdot 2^{m}}{\\beta z} \\sinh{\\left (\\frac{\\beta z}{2} 2^{- m} \\right )}\\right)^{2^{m}}}{4 \\sinh{\\left (\\frac{\\beta z}{2} 2^{- m} \\right )}} \\left(\\frac{8 \\cdot 2^{m}}{\\beta z^{2}} \\sinh{\\left (\\frac{\\beta z}{2} 2^{- m} \\right )} + \\frac{\\beta}{\\sinh{\\left (\\frac{\\beta z}{2} 2^{- m} \\right )}} \\left(\\frac{2 \\cdot 2^{m}}{\\beta z} \\sinh{\\left (\\frac{\\beta z}{2} 2^{- m} \\right )} - \\cosh{\\left (\\frac{\\beta z}{2} 2^{- m} \\right )}\\right)^{2} - \\frac{2}{z} \\left(\\frac{2 \\cdot 2^{m}}{\\beta z} \\sinh{\\left (\\frac{\\beta z}{2} 2^{- m} \\right )} - \\cosh{\\left (\\frac{\\beta z}{2} 2^{- m} \\right )}\\right) - \\frac{4}{z} \\cosh{\\left (\\frac{\\beta z}{2} 2^{- m} \\right )} + \\frac{2^{- m} \\beta \\cosh{\\left (\\frac{\\beta z}{2} 2^{- m} \\right )}}{\\sinh{\\left (\\frac{\\beta z}{2} 2^{- m} \\right )}} \\left(\\frac{2 \\cdot 2^{m}}{\\beta z} \\sinh{\\left (\\frac{\\beta z}{2} 2^{- m} \\right )} - \\cosh{\\left (\\frac{\\beta z}{2} 2^{- m} \\right )}\\right) + 2^{- m} \\beta \\sinh{\\left (\\frac{\\beta z}{2} 2^{- m} \\right )}\\right) \\prod_{k=k \\neq m}^{n} \\left(\\frac{2^{k + 1}}{\\beta z} \\sinh{\\left (2^{- k - 1} \\beta z \\right )}\\right)^{2^{k}}\\right)$$"
      ],
      "text/plain": [
       "                                                                              \n",
       "                                                                              \n",
       "                                                                              \n",
       "                                                                              \n",
       "                                                                              \n",
       "                                                                              \n",
       "                                                                              \n",
       "                                                                              \n",
       "                                                                              \n",
       "                                                                              \n",
       "                                                                              \n",
       "                                                     n                        \n",
       "                                               ┬───────────┬                  \n",
       "                                               │           │                  \n",
       "  2                                            │           │                  \n",
       " d                        2  -\\left<j\\right>⋅z │           │ ⎛ k + 1     ⎛ -k \n",
       "───(Π(z)) = \\left<j\\right> ⋅ℯ                 ⋅│           │ ⎜2     ⋅sinh⎝2   \n",
       "  2                                            │           │ ⎜────────────────\n",
       "dz                                             │           │ ⎝          \\beta⋅\n",
       "                                               │           │                  \n",
       "                                                   k = 1                      \n",
       "                                                                              \n",
       "                                                                              \n",
       "                                                                              \n",
       "                                                                              \n",
       "                                                                              \n",
       "                                                                              \n",
       "                                                                              \n",
       "                                                                              \n",
       "                                                                              \n",
       "                                                                              \n",
       "                                                                              \n",
       "\n",
       "                                                                              \n",
       "                                                                              \n",
       "                                                                              \n",
       "                                                                              \n",
       "                                                                              \n",
       "                                                                              \n",
       "                                                                              \n",
       "                                                                              \n",
       "                                                                              \n",
       "                                                                              \n",
       "                                                                              \n",
       "                                                            n                 \n",
       "                                                      ┬───────────┬           \n",
       "             ⎛ k⎞                                     │           │           \n",
       "             ⎝2 ⎠                                     │           │           \n",
       "- 1        ⎞⎞                       -\\left<j\\right>⋅z │           │ ⎛ k + 1   \n",
       "   ⋅\\beta⋅z⎠⎟     - \\left<j\\right>⋅ℯ                 ⋅│           │ ⎜2     ⋅si\n",
       "────────────⎟                                         │           │ ⎜─────────\n",
       "z           ⎠                                         │           │ ⎝         \n",
       "                                                      │           │           \n",
       "                                                          k = 1               \n",
       "                                                                              \n",
       "                                                                              \n",
       "                                                                              \n",
       "                                                                              \n",
       "                                                                              \n",
       "                                                                              \n",
       "                                                                              \n",
       "                                                                              \n",
       "                                                                              \n",
       "                                                                              \n",
       "                                                                              \n",
       "\n",
       "                                                                              \n",
       "                                                                              \n",
       "                                                                              \n",
       "                                                                              \n",
       "                                                                              \n",
       "                                                                              \n",
       "                                                                 n            \n",
       "                                                             _________        \n",
       "                                                             ╲                \n",
       "                                                              ╲               \n",
       "                                                               ╲              \n",
       "                                                                ╲             \n",
       "                                                                 ╲            \n",
       "                    ⎛ k⎞                                          ╲     m  -m \n",
       "                    ⎝2 ⎠                                           ╲   2 ⋅2   \n",
       "  ⎛ -k - 1        ⎞⎞                       -\\left<j\\right>⋅z        ╲         \n",
       "nh⎝2      ⋅\\beta⋅z⎠⎟     - \\left<j\\right>⋅ℯ                 ⋅       ╱         \n",
       "───────────────────⎟                                               ╱          \n",
       " \\beta⋅z           ⎠                                              ╱           \n",
       "                                                                 ╱     ───────\n",
       "                                                                ╱             \n",
       "                                                               ╱              \n",
       "                                                              ╱               \n",
       "                                                             ╱                \n",
       "                                                             ‾‾‾‾‾‾‾‾‾        \n",
       "                                                               m = 1          \n",
       "                                                                              \n",
       "                                                                              \n",
       "                                                                              \n",
       "                                                                              \n",
       "                                                                              \n",
       "                                                                              \n",
       "\n",
       "                                                                              \n",
       "                                                                              \n",
       "                                                                              \n",
       "                                                                              \n",
       "                                                                              \n",
       "                                                                              \n",
       "                                                                              \n",
       "                                                                              \n",
       "                                                                              \n",
       "                                                                              \n",
       "                                          ⎛ m⎞                                \n",
       "                                          ⎝2 ⎠                                \n",
       "            ⎛ m + 1     ⎛ -m - 1        ⎞⎞     ⎛ -m - 1  m + 1     ⎛ -m - 1   \n",
       "- 1         ⎜2     ⋅sinh⎝2      ⋅\\beta⋅z⎠⎟     ⎜2      ⋅2     ⋅cosh⎝2      ⋅\\b\n",
       "   ⋅\\beta⋅z⋅⎜────────────────────────────⎟    ⋅⎜──────────────────────────────\n",
       "            ⎝          \\beta⋅z           ⎠     ⎜                 z            \n",
       "                                               ⎝                              \n",
       "                                                                              \n",
       "                                                                              \n",
       "──────────────────────────────────────────────────────────────────────────────\n",
       "                                                                        ⎛ -m -\n",
       "                                                                    sinh⎝2    \n",
       "                                                                              \n",
       "                                                                              \n",
       "                                                                              \n",
       "                                                                              \n",
       "                                                                              \n",
       "                                                                              \n",
       "                                                                              \n",
       "                                                                              \n",
       "                                                                              \n",
       "                                                                              \n",
       "\n",
       "                                                                              \n",
       "                                                                              \n",
       "                                                                              \n",
       "                                                                              \n",
       "                                                                              \n",
       "                                                                              \n",
       "                                                                              \n",
       "                                                                              \n",
       "                                                                              \n",
       "                                             n                                \n",
       "                                       ┬───────────┬                          \n",
       "                                       │           │                          \n",
       "     ⎞    m + 1     ⎛ -m - 1        ⎞⎞ │           │                          \n",
       "eta⋅z⎠   2     ⋅sinh⎝2      ⋅\\beta⋅z⎠⎟ │           │ ⎛ k + 1     ⎛ -k - 1     \n",
       "────── - ────────────────────────────⎟⋅│           │ ⎜2     ⋅sinh⎝2      ⋅\\bet\n",
       "                          2          ⎟ │           │ ⎜────────────────────────\n",
       "                   \\beta⋅z           ⎠ │           │ ⎝          \\beta⋅z       \n",
       "                                       │           │                          \n",
       "                                         k = k ≠ m                            \n",
       "──────────────────────────────────────────────────────────────────────────────\n",
       " 1        ⎞                                                                   \n",
       "  ⋅\\beta⋅z⎠                                                                   \n",
       "                                                                              \n",
       "                                                                              \n",
       "                                                                              \n",
       "                                                                              \n",
       "                                                                              \n",
       "                                                                              \n",
       "                                                                              \n",
       "                                                                              \n",
       "                                                                              \n",
       "                                                                              \n",
       "\n",
       "                                      n                                       \n",
       "                               _______________                                \n",
       "                               ╲                                              \n",
       "                                ╲              ⎛                              \n",
       "                                 ╲             ⎜                              \n",
       "                                  ╲            ⎜                              \n",
       "                                   ╲           ⎜                              \n",
       "                                    ╲          ⎜                              \n",
       "                                     ╲         ⎜                              \n",
       "                                      ╲        ⎜                              \n",
       "                                       ╲       ⎜                              \n",
       "     ⎛ k⎞                               ╲      ⎜                   ⎛ m + 1    \n",
       "     ⎝2 ⎠                                ╲     ⎜ m  -m - 1         ⎜2     ⋅sin\n",
       "   ⎞⎞                                     ╲    ⎜2 ⋅2      ⋅\\beta⋅z⋅⎜──────────\n",
       "a⋅z⎠⎟                                      ╲   ⎜                   ⎝          \n",
       "────⎟        -\\left<j\\right>⋅z              ╲  ⎜                              \n",
       "    ⎠     + ℯ                 ⋅             ╱  ⎜                              \n",
       "                                           ╱   ⎜                              \n",
       "                                          ╱    ⎜                              \n",
       "─────────                                ╱     ⎜                              \n",
       "                                        ╱      ⎜                              \n",
       "                                       ╱       ⎜                              \n",
       "                                      ╱        ⎜                              \n",
       "                                     ╱         ⎜──────────────────────────────\n",
       "                                    ╱          ⎜                              \n",
       "                                   ╱           ⎜                              \n",
       "                                  ╱            ⎜                              \n",
       "                                 ╱             ⎝                              \n",
       "                                ╱                                             \n",
       "                               ╱                                              \n",
       "                               ‾‾‾‾‾‾‾‾‾‾‾‾‾‾‾                                \n",
       "                                    m = 1                                     \n",
       "\n",
       "                                                                              \n",
       "                                                                              \n",
       "                                                                              \n",
       "                                                                              \n",
       "                                                                              \n",
       "                                                                              \n",
       "                                                                              \n",
       "                                                                              \n",
       "                                                                              \n",
       "                   ⎛ m⎞                                                       \n",
       "                   ⎝2 ⎠                                                       \n",
       " ⎛ -m - 1        ⎞⎞     ⎛ -m - 1  m + 1     ⎛ -m - 1        ⎞    m + 1     ⎛ -\n",
       "h⎝2      ⋅\\beta⋅z⎠⎟     ⎜2      ⋅2     ⋅cosh⎝2      ⋅\\beta⋅z⎠   2     ⋅sinh⎝2 \n",
       "──────────────────⎟    ⋅⎜──────────────────────────────────── - ──────────────\n",
       "\\beta⋅z           ⎠     ⎜                 z                                   \n",
       "                        ⎝                                                 \\bet\n",
       "                                                                              \n",
       "                                                                              \n",
       "                                                                              \n",
       "                                                                              \n",
       "                                                                              \n",
       "                                                                              \n",
       "                                                                              \n",
       "──────────────────────────────────────────────────────────────────────────────\n",
       "                                                                              \n",
       "                                                                              \n",
       "                                                                              \n",
       "                                                                              \n",
       "                                                                              \n",
       "                                                                              \n",
       "                                                                              \n",
       "                                                                              \n",
       "\n",
       "                                                                              \n",
       "                                                                              \n",
       "                                                                              \n",
       "                    n                                                         \n",
       "                _________                                                     \n",
       "                ╲                                                             \n",
       "                 ╲                                                            \n",
       "                  ╲                                                        ⎛ l\n",
       "                   ╲                                                       ⎝2 \n",
       "                    ╲                        ⎛ l + 1     ⎛ -l - 1        ⎞⎞   \n",
       "                     ╲     l  -l - 1         ⎜2     ⋅sinh⎝2      ⋅\\beta⋅z⎠⎟   \n",
       "m - 1        ⎞⎞       ╲   2 ⋅2      ⋅\\beta⋅z⋅⎜────────────────────────────⎟   \n",
       "     ⋅\\beta⋅z⎠⎟        ╲                     ⎝          \\beta⋅z           ⎠   \n",
       "──────────────⎟⋅       ╱                                                      \n",
       "   2          ⎟       ╱                                                       \n",
       "a⋅z           ⎠      ╱                                                        \n",
       "                    ╱     ────────────────────────────────────────────────────\n",
       "                   ╱                                                          \n",
       "                  ╱                                                           \n",
       "                 ╱                                                            \n",
       "                ╱                                                             \n",
       "                ‾‾‾‾‾‾‾‾‾                                                     \n",
       "                l = l ≠ m                                                     \n",
       "──────────────────────────────────────────────────────────────────────────────\n",
       "                                      ⎛ -m - 1        ⎞                       \n",
       "                                  sinh⎝2      ⋅\\beta⋅z⎠                       \n",
       "                                                                              \n",
       "                                                                              \n",
       "                                                                              \n",
       "                                                                              \n",
       "                                                                              \n",
       "                                                                              \n",
       "\n",
       "                                                                              \n",
       "                                                                              \n",
       "                                                                              \n",
       "                                                                              \n",
       "                                                                              \n",
       "                                                                              \n",
       "                                                                              \n",
       "⎞                                                                       ┬─────\n",
       "⎠                                                                       │     \n",
       "  ⎛ -l - 1  l + 1     ⎛ -l - 1        ⎞    l + 1     ⎛ -l - 1        ⎞⎞ │     \n",
       "  ⎜2      ⋅2     ⋅cosh⎝2      ⋅\\beta⋅z⎠   2     ⋅sinh⎝2      ⋅\\beta⋅z⎠⎟ │     \n",
       " ⋅⎜──────────────────────────────────── - ────────────────────────────⎟⋅│     \n",
       "  ⎜                 z                                      2          ⎟ │     \n",
       "  ⎝                                                 \\beta⋅z           ⎠ │     \n",
       "                                                                        │     \n",
       "                                                                        k = k \n",
       "──────────────────────────────────────────────────────────────────────────────\n",
       "                           ⎛ -l - 1        ⎞                                  \n",
       "                       sinh⎝2      ⋅\\beta⋅z⎠                                  \n",
       "                                                                              \n",
       "                                                                              \n",
       "                                                                              \n",
       "                                                                              \n",
       "──────────────────────────────────────────────────────────────────────────────\n",
       "                                                                              \n",
       "                                                                              \n",
       "                                                                              \n",
       "                                                                              \n",
       "                                                                              \n",
       "                                                                              \n",
       "                                                                              \n",
       "                                                                              \n",
       "\n",
       "                                                                              \n",
       "                                                                              \n",
       "                                                                              \n",
       "                                                                              \n",
       "                                                                              \n",
       "                                                                              \n",
       "n                                                                             \n",
       "──────┬                                                                       \n",
       "      │                               ⎛ k⎞                                    \n",
       "      │                               ⎝2 ⎠                                    \n",
       "      │ ⎛ k + 1     ⎛ -k - 1        ⎞⎞                                        \n",
       "      │ ⎜2     ⋅sinh⎝2      ⋅\\beta⋅z⎠⎟                                        \n",
       "      │ ⎜────────────────────────────⎟                                     ⎛ m\n",
       "      │ ⎝          \\beta⋅z           ⎠                                     ⎝2 \n",
       "      │                                            ⎛         ⎛ -m        ⎞⎞   \n",
       "≠ l ≠ m                                            ⎜   m     ⎜2  ⋅\\beta⋅z⎟⎟   \n",
       "──────────────────────────────────────────         ⎜2⋅2 ⋅sinh⎜───────────⎟⎟   \n",
       "                                                   ⎜         ⎝     2     ⎠⎟   \n",
       "                                             \\beta⋅⎜──────────────────────⎟   \n",
       "                                                   ⎝       \\beta⋅z        ⎠   \n",
       "                                                                              \n",
       "                                                                              \n",
       "                                                                              \n",
       "────────────────────────────────────────── + ─────────────────────────────────\n",
       "                                                                              \n",
       "                                                                              \n",
       "                                                                              \n",
       "                                                                              \n",
       "                                                                              \n",
       "                                                                              \n",
       "                                                                              \n",
       "                                                                              \n",
       "\n",
       "                                                                              \n",
       "                                                                              \n",
       "                                                                              \n",
       "                                                                              \n",
       "                                                                              \n",
       "                                                                              \n",
       "                                                                              \n",
       "                                                                              \n",
       "                                                                              \n",
       "                                                                              \n",
       "                                                                              \n",
       "  ⎛                                                                           \n",
       "⎞ ⎜                               ⎛         ⎛ -m        ⎞                    ⎞\n",
       "⎠ ⎜                               ⎜   m     ⎜2  ⋅\\beta⋅z⎟                    ⎟\n",
       "  ⎜         ⎛ -m        ⎞         ⎜2⋅2 ⋅sinh⎜───────────⎟       ⎛ -m        ⎞⎟\n",
       "  ⎜   m     ⎜2  ⋅\\beta⋅z⎟         ⎜         ⎝     2     ⎠       ⎜2  ⋅\\beta⋅z⎟⎟\n",
       "  ⎜8⋅2 ⋅sinh⎜───────────⎟   \\beta⋅⎜────────────────────── - cosh⎜───────────⎟⎟\n",
       "  ⎜         ⎝     2     ⎠         ⎝       \\beta⋅z               ⎝     2     ⎠⎠\n",
       " ⋅⎜────────────────────── + ──────────────────────────────────────────────────\n",
       "  ⎜              2                               ⎛ -m        ⎞                \n",
       "  ⎜       \\beta⋅z                                ⎜2  ⋅\\beta⋅z⎟                \n",
       "  ⎜                                          sinh⎜───────────⎟                \n",
       "  ⎝                                              ⎝     2     ⎠                \n",
       "──────────────────────────────────────────────────────────────────────────────\n",
       "                                                                              \n",
       "                                                                              \n",
       "                                                                              \n",
       "                                                                              \n",
       "                                                                              \n",
       "                                                                              \n",
       "                                                                              \n",
       "                                                                              \n",
       "\n",
       "                                                                              \n",
       "                                                                              \n",
       "                                                                              \n",
       "                                                                              \n",
       "                                                                              \n",
       "                                                                              \n",
       "                                                                              \n",
       "                                                                              \n",
       "                                                                              \n",
       "                                                                              \n",
       "                                                                              \n",
       "2                                                                             \n",
       "      ⎛         ⎛ -m        ⎞                    ⎞                            \n",
       "      ⎜   m     ⎜2  ⋅\\beta⋅z⎟                    ⎟                            \n",
       "      ⎜2⋅2 ⋅sinh⎜───────────⎟       ⎛ -m        ⎞⎟         ⎛ -m        ⎞      \n",
       "      ⎜         ⎝     2     ⎠       ⎜2  ⋅\\beta⋅z⎟⎟         ⎜2  ⋅\\beta⋅z⎟    -m\n",
       "    2⋅⎜────────────────────── - cosh⎜───────────⎟⎟   4⋅cosh⎜───────────⎟   2  \n",
       "      ⎝       \\beta⋅z               ⎝     2     ⎠⎠         ⎝     2     ⎠      \n",
       "─ - ────────────────────────────────────────────── - ─────────────────── + ───\n",
       "                          z                                   z               \n",
       "                                                                              \n",
       "                                                                              \n",
       "                                                                              \n",
       "──────────────────────────────────────────────────────────────────────────────\n",
       "                                                      ⎛ -m        ⎞           \n",
       "                                                      ⎜2  ⋅\\beta⋅z⎟           \n",
       "                                                4⋅sinh⎜───────────⎟           \n",
       "                                                      ⎝     2     ⎠           \n",
       "                                                                              \n",
       "                                                                              \n",
       "                                                                              \n",
       "                                                                              \n",
       "\n",
       "                                                                              \n",
       "                                                                              \n",
       "                                                                              \n",
       "                                                                              \n",
       "                                                                              \n",
       "                                                                              \n",
       "                                                                              \n",
       "                                                                              \n",
       "                                                                              \n",
       "                                                                              \n",
       "                                                                              \n",
       "                                                                              \n",
       "       ⎛         ⎛ -m        ⎞                    ⎞                           \n",
       "       ⎜   m     ⎜2  ⋅\\beta⋅z⎟                    ⎟                           \n",
       "       ⎜2⋅2 ⋅sinh⎜───────────⎟       ⎛ -m        ⎞⎟     ⎛ -m        ⎞         \n",
       "       ⎜         ⎝     2     ⎠       ⎜2  ⋅\\beta⋅z⎟⎟     ⎜2  ⋅\\beta⋅z⎟         \n",
       "⋅\\beta⋅⎜────────────────────── - cosh⎜───────────⎟⎟⋅cosh⎜───────────⎟         \n",
       "       ⎝       \\beta⋅z               ⎝     2     ⎠⎠     ⎝     2     ⎠    -m   \n",
       "───────────────────────────────────────────────────────────────────── + 2  ⋅\\b\n",
       "                            ⎛ -m        ⎞                                     \n",
       "                            ⎜2  ⋅\\beta⋅z⎟                                     \n",
       "                        sinh⎜───────────⎟                                     \n",
       "                            ⎝     2     ⎠                                     \n",
       "──────────────────────────────────────────────────────────────────────────────\n",
       "                                                                              \n",
       "                                                                              \n",
       "                                                                              \n",
       "                                                                              \n",
       "                                                                              \n",
       "                                                                              \n",
       "                                                                              \n",
       "                                                                              \n",
       "\n",
       "                                                                        \n",
       "                                                                        \n",
       "                                                                        \n",
       "                                                                       ⎞\n",
       "                                                                       ⎟\n",
       "                                                                       ⎟\n",
       "                                                                       ⎟\n",
       "                                                                       ⎟\n",
       "                                                                       ⎟\n",
       "                                                                       ⎟\n",
       "                                                                       ⎟\n",
       "                     ⎞                                                 ⎟\n",
       "                     ⎟                                                 ⎟\n",
       "                     ⎟       n                                         ⎟\n",
       "                     ⎟ ┬───────────┬                                   ⎟\n",
       "                     ⎟ │           │                               ⎛ k⎞⎟\n",
       "        ⎛ -m        ⎞⎟ │           │                               ⎝2 ⎠⎟\n",
       "        ⎜2  ⋅\\beta⋅z⎟⎟ │           │ ⎛ k + 1     ⎛ -k - 1        ⎞⎞    ⎟\n",
       "eta⋅sinh⎜───────────⎟⎟⋅│           │ ⎜2     ⋅sinh⎝2      ⋅\\beta⋅z⎠⎟    ⎟\n",
       "        ⎝     2     ⎠⎟ │           │ ⎜────────────────────────────⎟    ⎟\n",
       "                     ⎟ │           │ ⎝          \\beta⋅z           ⎠    ⎟\n",
       "                     ⎟ │           │                                   ⎟\n",
       "                     ⎠   k = k ≠ m                                     ⎟\n",
       "───────────────────────────────────────────────────────────────────────⎟\n",
       "                                                                       ⎟\n",
       "                                                                       ⎟\n",
       "                                                                       ⎟\n",
       "                                                                       ⎠\n",
       "                                                                        \n",
       "                                                                        \n",
       "                                                                        \n",
       "                                                                        "
      ]
     },
     "execution_count": 219,
     "metadata": {},
     "output_type": "execute_result"
    }
   ],
   "source": [
    "Eq(diff(PI(z),z,2),\n",
    "   j*j*exp(-j*z)*prodn(z,1,n)\n",
    "   -j*exp(-j*z)*dPro\n",
    "   -j*exp(-j*z)*prodn(z,1,n)\n",
    "   +exp(-j*z)*d2Pro)"
   ]
  },
  {
   "cell_type": "code",
   "execution_count": 256,
   "metadata": {},
   "outputs": [
    {
     "data": {
      "image/png": "[encoded data removed]",
      "text/latex": [
       "$$\\frac{d^{2}}{d z^{2}} \\Pi{\\left (z \\right )} = \\left<j\\right>^{2} e^{- \\left<j\\right> z} - 2 \\left<j\\right> e^{- \\left<j\\right> z} \\sum_{m=1}^{n} \\frac{\\beta^{2} z}{3} 2^{- m - 2} + e^{- \\left<j\\right> z} \\sum_{m=1}^{n} \\left(\\frac{\\beta^{2} z}{3} 2^{- m - 2} \\sum_{l=l \\neq m}^{n} \\frac{\\beta^{2} z}{3} 2^{- l - 2} + \\frac{\\beta^{2}}{3} 2^{- m - 2}\\right)$$"
      ],
      "text/plain": [
       "                                                                              \n",
       "                                                                              \n",
       "                                                                              \n",
       "                                                                              \n",
       "                                                                              \n",
       "                                                                              \n",
       "                                                                              \n",
       "  2                                                                           \n",
       " d                        2  -\\left<j\\right>⋅z                     -\\left<j\\ri\n",
       "───(Π(z)) = \\left<j\\right> ⋅ℯ                  - 2⋅\\left<j\\right>⋅ℯ           \n",
       "  2                                                                           \n",
       "dz                                                                            \n",
       "                                                                              \n",
       "                                                                              \n",
       "                                                                              \n",
       "                                                                              \n",
       "                                                                              \n",
       "                                                                              \n",
       "\n",
       "                                                      n                       \n",
       "                                                   ________                   \n",
       "                                                   ╲                          \n",
       "                                                    ╲       ⎛                 \n",
       "         n                                           ╲      ⎜                 \n",
       "        ____                                          ╲     ⎜                 \n",
       "        ╲                                              ╲    ⎜                 \n",
       "         ╲    -m - 2      2                             ╲   ⎜ -m - 2      2   \n",
       "ght>⋅z    ╲  2      ⋅\\beta ⋅z    -\\left<j\\right>⋅z       ╲  ⎜2      ⋅\\beta ⋅z⋅\n",
       "      ⋅   ╱  ──────────────── + ℯ                 ⋅      ╱  ⎜                 \n",
       "         ╱          3                                   ╱   ⎜                 \n",
       "        ╱                                              ╱    ⎜                 \n",
       "        ‾‾‾‾                                          ╱     ⎜                 \n",
       "       m = 1                                         ╱      ⎜─────────────────\n",
       "                                                    ╱       ⎝                 \n",
       "                                                   ╱                          \n",
       "                                                   ‾‾‾‾‾‾‾‾                   \n",
       "                                                    m = 1                     \n",
       "\n",
       "                                            \n",
       "                                            \n",
       "                                            \n",
       "    n                                      ⎞\n",
       "   ____                                    ⎟\n",
       "   ╲                                       ⎟\n",
       "    ╲      -l - 2      2                   ⎟\n",
       "     ╲    2      ⋅\\beta ⋅z                 ⎟\n",
       "     ╱    ────────────────                 ⎟\n",
       "    ╱            3                         ⎟\n",
       "   ╱                                       ⎟\n",
       "   ‾‾‾‾                       -m - 2      2⎟\n",
       "l = l ≠ m                    2      ⋅\\beta ⎟\n",
       "────────────────────────── + ──────────────⎟\n",
       "    3                              3       ⎠\n",
       "                                            \n",
       "                                            \n",
       "                                            "
      ]
     },
     "execution_count": 256,
     "metadata": {},
     "output_type": "execute_result"
    }
   ],
   "source": [
    "Eq(diff(PI(z),z,2),\n",
    "   j*j*exp(-j*z)*1\n",
    "   -2*j*exp(-j*z)*dPro12\n",
    "   +exp(-j*z)*d2Pro12)"
   ]
  },
  {
   "cell_type": "code",
   "execution_count": 259,
   "metadata": {},
   "outputs": [
    {
     "data": {
      "text/latex": [
       "$$\\left. \\frac{d^{2}}{d z^{2}} \\Pi{\\left (z \\right )} \\right|_{\\substack{ z=0 }} = \\frac{\\beta^{2}}{12} \\sum_{m=1}^{n} 2^{- m} + \\left<j\\right>^{2}$$"
      ],
      "text/plain": [
       "                           n                        \n",
       "                          ___                       \n",
       "                          ╲                         \n",
       "                       2   ╲    -m                  \n",
       "                  \\beta ⋅  ╱   2                    \n",
       "                          ╱                         \n",
       "⎛  2      ⎞│              ‾‾‾                       \n",
       "⎜ d       ⎟│             m = 1                     2\n",
       "⎜───(Π(z))⎟│    = ──────────────── + \\left<j\\right> \n",
       "⎜  2      ⎟│             12                         \n",
       "⎝dz       ⎠│z=0                                     "
      ]
     },
     "execution_count": 259,
     "metadata": {},
     "output_type": "execute_result"
    }
   ],
   "source": [
    "Eq(Subs(diff(PI(z),z,2),z,0),\n",
    "   j*j+beta**2/12*Sum(1/2**m,(m,1,n)))"
   ]
  }
 ],
 "metadata": {
  "kernelspec": {
   "display_name": "Python 3",
   "language": "python",
   "name": "python3"
  },
  "language_info": {
   "codemirror_mode": {
    "name": "ipython",
    "version": 3
   },
   "file_extension": ".py",
   "mimetype": "text/x-python",
   "name": "python",
   "nbconvert_exporter": "python",
   "pygments_lexer": "ipython3",
   "version": "3.5.2"
  }
 },
 "nbformat": 4,
 "nbformat_minor": 2
}
