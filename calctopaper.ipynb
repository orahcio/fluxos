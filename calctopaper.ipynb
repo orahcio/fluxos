{
 "cells": [
  {
   "cell_type": "markdown",
   "metadata": {},
   "source": [
    "# Cálculo para transpor para o artigo\n",
    "Beseado no arquivo draft2.ipynb"
   ]
  },
  {
   "cell_type": "code",
   "execution_count": 1,
   "metadata": {},
   "outputs": [],
   "source": [
    "from sympy import *\n",
    "from sympy.abc import s, t"
   ]
  },
  {
   "cell_type": "code",
   "execution_count": 2,
   "metadata": {},
   "outputs": [
    {
     "name": "stdout",
     "output_type": "stream",
     "text": [
      "IPython console for SymPy 1.2 (Python 3.6.5-64-bit) (ground types: python)\n",
      "\n",
      "These commands were executed:\n",
      ">>> from __future__ import division\n",
      ">>> from sympy import *\n",
      ">>> x, y, z, t = symbols('x y z t')\n",
      ">>> k, m, n = symbols('k m n', integer=True)\n",
      ">>> f, g, h = symbols('f g h', cls=Function)\n",
      ">>> init_printing()\n",
      "\n",
      "Documentation can be found at http://docs.sympy.org/1.2/\n",
      "\n"
     ]
    }
   ],
   "source": [
    "init_session()"
   ]
  },
  {
   "cell_type": "code",
   "execution_count": 63,
   "metadata": {},
   "outputs": [],
   "source": [
    "j = Symbol('\\\\left\\\\langle{j}\\\\right\\\\rangle')\n",
    "z = Symbol('z',complex=True)\n",
    "b = Symbol('beta',positive=True)\n",
    "Pin, Pi = symbols('P_\\\\infty \\\\Pi',cls=Function)"
   ]
  },
  {
   "cell_type": "code",
   "execution_count": 62,
   "metadata": {},
   "outputs": [],
   "source": [
    "def f(z,k):\n",
    "    return 2**(k+1)/(b*z)*sinh(b*z/2**(k+1))\n",
    "\n",
    "def PI(z,m,n):\n",
    "    a = Symbol('beta',positive=True)\n",
    "    aux = exp(-m*z)*Product((f(z,k))**(2**k), (k, 1, n)).doit()\n",
    "    #aux = aux.rewrite(exp).expand()\n",
    "    return aux"
   ]
  },
  {
   "cell_type": "code",
   "execution_count": 96,
   "metadata": {},
   "outputs": [
    {
     "data": {
      "image/png": "[encoded data removed]",
      "text/latex": [
       "$$\\Pi{\\left (z \\right )} = e^{- \\left\\langle{j}\\right\\rangle z} \\prod_{k=1}^{\\infty} \\left(\\frac{2^{k + 1} \\sinh{\\left (2^{- k - 1} \\beta z \\right )}}{\\beta z}\\right)^{2^{k}}$$"
      ],
      "text/plain": [
       "                                                ∞                             \n",
       "                                          ┬───────────┬                       \n",
       "                                          │           │                       \n",
       "                                          │           │                       \n",
       "          -\\left\\langle{j}\\right\\rangle⋅z │           │ ⎛ k + 1     ⎛ -k - 1  \n",
       "\\Pi(z) = ℯ                               ⋅│           │ ⎜2     ⋅sinh⎝2      ⋅β\n",
       "                                          │           │ ⎜─────────────────────\n",
       "                                          │           │ ⎝          β⋅z        \n",
       "                                          │           │                       \n",
       "                                              k = 1                           \n",
       "\n",
       "        \n",
       "        \n",
       "    ⎛ k⎞\n",
       "    ⎝2 ⎠\n",
       "  ⎞⎞    \n",
       "⋅z⎠⎟    \n",
       "───⎟    \n",
       "   ⎠    \n",
       "        \n",
       "        "
      ]
     },
     "execution_count": 96,
     "metadata": {},
     "output_type": "execute_result"
    }
   ],
   "source": [
    "Eq(Pi(z),PI(z,j,oo))"
   ]
  },
  {
   "cell_type": "markdown",
   "metadata": {},
   "source": [
    "Aplicando o $\\ln$ para a transformada de Laplace"
   ]
  },
  {
   "cell_type": "code",
   "execution_count": 94,
   "metadata": {},
   "outputs": [
    {
     "data": {
      "image/png": "[encoded data removed]",
      "text/latex": [
       "$$\\log{\\left (\\Pi{\\left (z \\right )} \\right )} = - \\left\\langle{j}\\right\\rangle z + \\sum_{k=1}^{n} 2^{k} \\log{\\left (\\frac{2^{k + 1} \\sinh{\\left (2^{- k - 1} \\beta z \\right )}}{\\beta z} \\right )}$$"
      ],
      "text/plain": [
       "                                                  n                           \n",
       "                                                 ____                         \n",
       "                                                 ╲                            \n",
       "                                                  ╲         ⎛ k + 1     ⎛ -k -\n",
       "                                                   ╲   k    ⎜2     ⋅sinh⎝2    \n",
       "log(\\Pi(z)) = -\\left\\langle{j}\\right\\rangle⋅z +    ╱  2 ⋅log⎜─────────────────\n",
       "                                                  ╱         ⎝          β⋅z    \n",
       "                                                 ╱                            \n",
       "                                                 ‾‾‾‾                         \n",
       "                                                k = 1                         \n",
       "\n",
       "        \n",
       "        \n",
       "        \n",
       " 1    ⎞⎞\n",
       "  ⋅β⋅z⎠⎟\n",
       "───────⎟\n",
       "       ⎠\n",
       "        \n",
       "        \n",
       "        "
      ]
     },
     "execution_count": 94,
     "metadata": {},
     "output_type": "execute_result"
    }
   ],
   "source": [
    "Eq(log(Pi(z)),-j*z+Sum((2**k)*log(f(z,k)),(k,1,n)))"
   ]
  },
  {
   "cell_type": "code",
   "execution_count": 97,
   "metadata": {},
   "outputs": [
    {
     "data": {
      "image/png": "[encoded data removed]",
      "text/latex": [
       "$$\\log{\\left (\\Pi{\\left (z \\right )} \\right )} = - \\left\\langle{j}\\right\\rangle z + \\sum_{k=1}^{n} 2^{k} \\left(\\log{\\left (\\frac{2^{k + 1}}{\\beta z} \\right )} + \\log{\\left (\\sinh{\\left (2^{- k - 1} \\beta z \\right )} \\right )}\\right)$$"
      ],
      "text/plain": [
       "                                                  n                           \n",
       "                                                 ____                         \n",
       "                                                 ╲                            \n",
       "                                                  ╲      ⎛   ⎛ k + 1⎞         \n",
       "                                                   ╲   k ⎜   ⎜2     ⎟      ⎛  \n",
       "log(\\Pi(z)) = -\\left\\langle{j}\\right\\rangle⋅z +    ╱  2 ⋅⎜log⎜──────⎟ + log⎝si\n",
       "                                                  ╱      ⎝   ⎝ β⋅z  ⎠         \n",
       "                                                 ╱                            \n",
       "                                                 ‾‾‾‾                         \n",
       "                                                k = 1                         \n",
       "\n",
       "                 \n",
       "                 \n",
       "                 \n",
       "                ⎞\n",
       "  ⎛ -k - 1    ⎞⎞⎟\n",
       "nh⎝2      ⋅β⋅z⎠⎠⎟\n",
       "                ⎠\n",
       "                 \n",
       "                 \n",
       "                 "
      ]
     },
     "execution_count": 97,
     "metadata": {},
     "output_type": "execute_result"
    }
   ],
   "source": [
    "Eq(log(Pi(z)),-j*z+Sum((2**k)*(log(2**(k+1)/(b*z))+\n",
    "                          log(sinh(b*z/(2**(k+1))))),(k,1,n)))"
   ]
  },
  {
   "cell_type": "code",
   "execution_count": 99,
   "metadata": {},
   "outputs": [
    {
     "data": {
      "image/png": "[encoded data removed]",
      "text/latex": [
       "$$\\log{\\left (\\Pi{\\left (z \\right )} \\right )} = - \\left\\langle{j}\\right\\rangle z + \\sum_{k=1}^{n} 2^{k} \\left(\\log{\\left (2^{k + 1} \\right )} - \\log{\\left (\\beta z \\right )} + \\log{\\left (\\sinh{\\left (2^{- k - 1} \\beta z \\right )} \\right )}\\right)$$"
      ],
      "text/plain": [
       "                                                  n                           \n",
       "                                                 ___                          \n",
       "                                                 ╲                            \n",
       "                                                  ╲    k ⎛   ⎛ k + 1⎞         \n",
       "log(\\Pi(z)) = -\\left\\langle{j}\\right\\rangle⋅z +   ╱   2 ⋅⎝log⎝2     ⎠ - log(β⋅\n",
       "                                                 ╱                            \n",
       "                                                 ‾‾‾                          \n",
       "                                                k = 1                         \n",
       "\n",
       "                            \n",
       "                            \n",
       "                            \n",
       "        ⎛    ⎛ -k - 1    ⎞⎞⎞\n",
       "z) + log⎝sinh⎝2      ⋅β⋅z⎠⎠⎠\n",
       "                            \n",
       "                            \n",
       "                            "
      ]
     },
     "execution_count": 99,
     "metadata": {},
     "output_type": "execute_result"
    }
   ],
   "source": [
    "Eq(log(Pi(z)),-j*z+Sum((2**k)*(log(2**(k+1))-log(b*z)+\n",
    "                          log(sinh(b*z/(2**(k+1))))),(k,1,n)))"
   ]
  },
  {
   "cell_type": "code",
   "execution_count": 100,
   "metadata": {},
   "outputs": [
    {
     "data": {
      "image/png": "[encoded data removed]",
      "text/latex": [
       "$$\\log{\\left (\\Pi{\\left (z \\right )} \\right )} = - \\left\\langle{j}\\right\\rangle z - \\log{\\left (\\beta z \\right )} \\sum_{k=1}^{n} 2^{k} + \\sum_{k=1}^{n} 2^{k} \\log{\\left (2^{k + 1} \\right )} + \\sum_{k=1}^{n} 2^{k} \\log{\\left (\\sinh{\\left (2^{- k - 1} \\beta z \\right )} \\right )}$$"
      ],
      "text/plain": [
       "                                                           n          n       \n",
       "                                                          ___        ___      \n",
       "                                                          ╲          ╲        \n",
       "                                                           ╲    k     ╲    k  \n",
       "log(\\Pi(z)) = -\\left\\langle{j}\\right\\rangle⋅z - log(β⋅z)⋅  ╱   2  +   ╱   2 ⋅l\n",
       "                                                          ╱          ╱        \n",
       "                                                          ‾‾‾        ‾‾‾      \n",
       "                                                         k = 1      k = 1     \n",
       "\n",
       "               n                            \n",
       "              ___                           \n",
       "              ╲                             \n",
       "  ⎛ k + 1⎞     ╲    k    ⎛    ⎛ -k - 1    ⎞⎞\n",
       "og⎝2     ⎠ +   ╱   2 ⋅log⎝sinh⎝2      ⋅β⋅z⎠⎠\n",
       "              ╱                             \n",
       "              ‾‾‾                           \n",
       "             k = 1                          "
      ]
     },
     "execution_count": 100,
     "metadata": {},
     "output_type": "execute_result"
    }
   ],
   "source": [
    "Eq(log(Pi(z)),-j*z+Sum((2**k)*log(2**(k+1)),(k,1,n))-\n",
    "   log(b*z)*Sum(2**k,(k,1,n))+\n",
    "   Sum((2**k)*log(sinh(b*z/(2**(k+1)))),(k,1,n))) "
   ]
  },
  {
   "cell_type": "markdown",
   "metadata": {},
   "source": [
    "## Calculando a primeira derivada"
   ]
  },
  {
   "cell_type": "code",
   "execution_count": 101,
   "metadata": {},
   "outputs": [
    {
     "data": {
      "image/png": "[encoded data removed]",
      "text/latex": [
       "$$\\frac{\\frac{d}{d z} \\Pi{\\left (z \\right )}}{\\Pi{\\left (z \\right )}} = - \\left\\langle{j}\\right\\rangle + \\sum_{k=1}^{n} \\frac{2^{k} 2^{- k - 1} \\beta \\cosh{\\left (2^{- k - 1} \\beta z \\right )}}{\\sinh{\\left (2^{- k - 1} \\beta z \\right )}} - \\frac{\\sum_{k=1}^{n} 2^{k}}{z}$$"
      ],
      "text/plain": [
       "                                                                              \n",
       "                                                                              \n",
       "                                               n                              \n",
       "                                             _____                            \n",
       "                                             ╲                                \n",
       "d                                             ╲     k  -k - 1       ⎛ -k - 1  \n",
       "──(\\Pi(z))                                     ╲   2 ⋅2      ⋅β⋅cosh⎝2      ⋅β\n",
       "dz                                              ╲  ───────────────────────────\n",
       "────────── = -\\left\\langle{j}\\right\\rangle +    ╱            ⎛ -k - 1    ⎞    \n",
       "  \\Pi(z)                                       ╱         sinh⎝2      ⋅β⋅z⎠    \n",
       "                                              ╱                               \n",
       "                                             ╱                                \n",
       "                                             ‾‾‾‾‾                            \n",
       "                                             k = 1                            \n",
       "\n",
       "        n     \n",
       "       ___    \n",
       "       ╲      \n",
       "        ╲    k\n",
       "        ╱   2 \n",
       "  ⎞    ╱      \n",
       "⋅z⎠    ‾‾‾    \n",
       "───   k = 1   \n",
       "    - ────────\n",
       "         z    \n",
       "              \n",
       "              \n",
       "              \n",
       "              "
      ]
     },
     "execution_count": 101,
     "metadata": {},
     "output_type": "execute_result"
    }
   ],
   "source": [
    "Eq(1/Pi(z)*diff(Pi(z),z),diff(-j*z+Sum((2**k)*log(2**(k+1)),(k,1,n))-\n",
    "                              log(b*z)*Sum(2**k,(k,1,n))+\n",
    "                              Sum((2**k)*log(sinh(b*z/(2**(k+1)))),(k,1,n)),z))"
   ]
  },
  {
   "cell_type": "code",
   "execution_count": 160,
   "metadata": {},
   "outputs": [
    {
     "data": {
      "image/png": "[encoded data removed]",
      "text/latex": [
       "$$\\frac{\\frac{d}{d z} \\Pi{\\left (z \\right )}}{\\Pi{\\left (z \\right )}} = - \\left\\langle{j}\\right\\rangle + \\frac{\\beta \\sum_{k=1}^{n} \\coth{\\left (2^{- k - 1} \\beta z \\right )}}{2} - \\frac{\\sum_{k=1}^{n} 2^{k}}{z}$$"
      ],
      "text/plain": [
       "                                                 n                         n  \n",
       "                                                ___                       ___ \n",
       "                                                ╲                         ╲   \n",
       "                                                 ╲       ⎛ -k - 1    ⎞     ╲  \n",
       "                                             β⋅  ╱   coth⎝2      ⋅β⋅z⎠     ╱  \n",
       "d                                               ╱                         ╱   \n",
       "──(\\Pi(z))                                      ‾‾‾                       ‾‾‾ \n",
       "dz                                             k = 1                     k = 1\n",
       "────────── = -\\left\\langle{j}\\right\\rangle + ───────────────────────── - ─────\n",
       "  \\Pi(z)                                                 2                  z \n",
       "\n",
       "   \n",
       "   \n",
       "   \n",
       "  k\n",
       " 2 \n",
       "   \n",
       "   \n",
       "   \n",
       "───\n",
       "   "
      ]
     },
     "execution_count": 160,
     "metadata": {},
     "output_type": "execute_result"
    }
   ],
   "source": [
    "Eq(1/Pi(z)*diff(Pi(z),z),-j+b/2*Sum(coth(b*z/(2**(k+1))),(k,1,n))-\n",
    "  Sum(2**k,(k,1,n))/z)"
   ]
  },
  {
   "cell_type": "markdown",
   "metadata": {},
   "source": [
    "### Expandindo em série a parte real e imaginária"
   ]
  },
  {
   "cell_type": "code",
   "execution_count": 178,
   "metadata": {},
   "outputs": [],
   "source": [
    "t1 = b/2*coth(b*z/(2**(k+1)))\n",
    "t2 = -2**k/z"
   ]
  },
  {
   "cell_type": "code",
   "execution_count": 179,
   "metadata": {},
   "outputs": [
    {
     "data": {
      "image/png": "[encoded data removed]",
      "text/latex": [
       "$$\\left ( \\frac{2^{- k - 2} \\beta^{2} x}{3} + \\frac{2^{- 3 k - 4} \\beta^{4} x^{3}}{45} - \\frac{2^{k}}{x} + O\\left(x^{4}\\right), \\quad \\frac{2^{k}}{x}\\right )$$"
      ],
      "text/plain": [
       "⎛ -k - 2  2      -3⋅k - 4  4  3    k           k⎞\n",
       "⎜2      ⋅β ⋅x   2        ⋅β ⋅x    2     ⎛ 4⎞  2 ⎟\n",
       "⎜──────────── + ─────────────── - ── + O⎝x ⎠, ──⎟\n",
       "⎝     3                45         x           x ⎠"
      ]
     },
     "execution_count": 179,
     "metadata": {},
     "output_type": "execute_result"
    }
   ],
   "source": [
    "im(t1).subs([[im(z),x],[re(z),0]]).series(x,0,4),im(t2).subs([[im(z),x],[re(z),0]])"
   ]
  },
  {
   "cell_type": "markdown",
   "metadata": {},
   "source": [
    "Claramente vemos que a parte imaginária é nula quando $x=\\Im(z)$ tende a zero, já a parte real pode ser expandida"
   ]
  },
  {
   "cell_type": "code",
   "execution_count": 186,
   "metadata": {},
   "outputs": [
    {
     "data": {
      "image/png": "[encoded data removed]",
      "text/latex": [
       "$$\\left ( \\frac{2^{- k - 2} \\beta^{2} y}{3} - \\frac{2^{- 3 k - 4} \\beta^{4} y^{3}}{45} + \\frac{2^{k}}{y} + O\\left(y^{4}\\right), \\quad - \\frac{2^{k}}{y}\\right )$$"
      ],
      "text/plain": [
       "⎛ -k - 2  2      -3⋅k - 4  4  3    k            k ⎞\n",
       "⎜2      ⋅β ⋅y   2        ⋅β ⋅y    2     ⎛ 4⎞  -2  ⎟\n",
       "⎜──────────── - ─────────────── + ── + O⎝y ⎠, ────⎟\n",
       "⎝     3                45         y            y  ⎠"
      ]
     },
     "execution_count": 186,
     "metadata": {},
     "output_type": "execute_result"
    }
   ],
   "source": [
    "re(t1).subs([[re(z),y],[im(z),0]]).series(y,0,4),re(t2).subs([[re(z),y],[im(z),0]])"
   ]
  },
  {
   "cell_type": "markdown",
   "metadata": {},
   "source": [
    "Vemos aqui também que quando $y=\\Re(z)$ tende a zero, os termos também são nulos"
   ]
  },
  {
   "cell_type": "markdown",
   "metadata": {},
   "source": [
    "## Segunda derivada"
   ]
  },
  {
   "cell_type": "code",
   "execution_count": 187,
   "metadata": {},
   "outputs": [
    {
     "data": {
      "image/png": "[encoded data removed]",
      "text/latex": [
       "$$\\frac{\\frac{d^{2}}{d z^{2}} \\Pi{\\left (z \\right )}}{\\Pi{\\left (z \\right )}} - \\frac{\\frac{d}{d z} \\Pi{\\left (z \\right )}}{\\Pi^{2}{\\left (z \\right )}} = \\frac{\\beta \\sum_{k=1}^{n} - \\frac{2^{- k - 1} \\beta}{\\sinh^{2}{\\left (2^{- k - 1} \\beta z \\right )}}}{2} + \\frac{\\sum_{k=1}^{n} 2^{k}}{z^{2}}$$"
      ],
      "text/plain": [
       "                               n                                \n",
       "                             _____                              \n",
       "                             ╲                                  \n",
       "                              ╲         -k - 1                  \n",
       "                               ╲      -2      ⋅β          n     \n",
       "                                ╲  ──────────────────    ___    \n",
       "                           β⋅   ╱      2⎛ -k - 1    ⎞    ╲      \n",
       "  2                            ╱   sinh ⎝2      ⋅β⋅z⎠     ╲    k\n",
       " d                            ╱                           ╱   2 \n",
       "───(\\Pi(z))   d              ╱                           ╱      \n",
       "  2           ──(\\Pi(z))     ‾‾‾‾‾                       ‾‾‾    \n",
       "dz            dz             k = 1                      k = 1   \n",
       "─────────── - ────────── = ────────────────────────── + ────────\n",
       "   \\Pi(z)         2                    2                    2   \n",
       "               \\Pi (z)                                     z    "
      ]
     },
     "execution_count": 187,
     "metadata": {},
     "output_type": "execute_result"
    }
   ],
   "source": [
    "Eq(-1/Pi(z)**2*diff(Pi(z),z)+1/Pi(z)*diff(Pi(z),z,2),\n",
    "  diff(-j+b/2*Sum(coth(b*z/(2**(k+1))),(k,1,n))-\n",
    "  Sum(2**k,(k,1,n))/z,z))"
   ]
  },
  {
   "cell_type": "code",
   "execution_count": 211,
   "metadata": {},
   "outputs": [
    {
     "data": {
      "image/png": "[encoded data removed]",
      "text/latex": [
       "$$\\frac{\\frac{d^{2}}{d z^{2}} \\Pi{\\left (z \\right )}}{\\Pi{\\left (z \\right )}} - \\frac{\\left(\\frac{d}{d z} \\Pi{\\left (z \\right )}\\right)^{2}}{\\Pi^{2}{\\left (z \\right )}} = - \\frac{\\beta^{2} \\sum_{k=1}^{n} 2^{- k} \\operatorname{csch}^{2}{\\left (2^{- k - 1} \\beta z \\right )}}{4} + \\frac{\\sum_{k=1}^{n} 2^{k}}{z^{2}}$$"
      ],
      "text/plain": [
       "                                     n                              n     \n",
       "                                    ___                            ___    \n",
       "                                    ╲                              ╲      \n",
       "  2                              2   ╲    -k     2⎛ -k - 1    ⎞     ╲    k\n",
       " d                        2     β ⋅  ╱   2  ⋅csch ⎝2      ⋅β⋅z⎠     ╱   2 \n",
       "───(\\Pi(z))   ⎛d         ⎞          ╱                              ╱      \n",
       "  2           ⎜──(\\Pi(z))⎟          ‾‾‾                            ‾‾‾    \n",
       "dz            ⎝dz        ⎠         k = 1                          k = 1   \n",
       "─────────── - ───────────── = - ─────────────────────────────── + ────────\n",
       "   \\Pi(z)           2                          4                      2   \n",
       "                 \\Pi (z)                                             z    "
      ]
     },
     "execution_count": 211,
     "metadata": {},
     "output_type": "execute_result"
    }
   ],
   "source": [
    "Eq(-1/Pi(z)**2*diff(Pi(z),z)**2+1/Pi(z)*diff(Pi(z),z,2),\n",
    "  -b**2/2**2*Sum(csch(b*z/2**(k+1))**2/(2**k),(k,1,n))\n",
    "  +Sum(2**k,(k,1,n))/z**2)"
   ]
  },
  {
   "cell_type": "code",
   "execution_count": 209,
   "metadata": {},
   "outputs": [],
   "source": [
    "t1 = -b**2/4*csch(b*z/2**(k+1))**2/(2**k)\n",
    "t2 = 2**k/z**2"
   ]
  },
  {
   "cell_type": "code",
   "execution_count": 210,
   "metadata": {},
   "outputs": [
    {
     "data": {
      "image/png": "[encoded data removed]",
      "text/latex": [
       "$$\\frac{2^{- k - 2} \\beta^{2}}{3} - \\frac{2^{- 3 k - 4} \\beta^{4} y^{2}}{15} - \\frac{2^{k}}{y^{2}} + O\\left(y^{4}\\right)$$"
      ],
      "text/plain": [
       " -k - 2  2    -3⋅k - 4  4  2    k        \n",
       "2      ⋅β    2        ⋅β ⋅y    2     ⎛ 4⎞\n",
       "────────── - ─────────────── - ── + O⎝y ⎠\n",
       "    3               15          2        \n",
       "                               y         "
      ]
     },
     "execution_count": 210,
     "metadata": {},
     "output_type": "execute_result"
    }
   ],
   "source": [
    "re(t1).subs([[im(z),0],[re(z),y]]).series(y,0,4)"
   ]
  },
  {
   "cell_type": "code",
   "execution_count": 208,
   "metadata": {},
   "outputs": [
    {
     "data": {
      "image/png": "[encoded data removed]",
      "text/latex": [
       "$$\\frac{2^{k}}{y^{2}}$$"
      ],
      "text/plain": [
       " k\n",
       "2 \n",
       "──\n",
       " 2\n",
       "y "
      ]
     },
     "execution_count": 208,
     "metadata": {},
     "output_type": "execute_result"
    }
   ],
   "source": [
    "re(t2).subs([[im(z),0],[re(z),y]])"
   ]
  },
  {
   "cell_type": "code",
   "execution_count": null,
   "metadata": {},
   "outputs": [],
   "source": []
  }
 ],
 "metadata": {
  "kernelspec": {
   "display_name": "Python 3",
   "language": "python",
   "name": "python3"
  },
  "language_info": {
   "codemirror_mode": {
    "name": "ipython",
    "version": 3
   },
   "file_extension": ".py",
   "mimetype": "text/x-python",
   "name": "python",
   "nbconvert_exporter": "python",
   "pygments_lexer": "ipython3",
   "version": "3.6.5"
  }
 },
 "nbformat": 4,
 "nbformat_minor": 2
}
