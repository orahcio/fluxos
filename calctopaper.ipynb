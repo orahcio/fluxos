{
 "cells": [
  {
   "cell_type": "markdown",
   "metadata": {},
   "source": [
    "# Cálculo para transpor para o artigo\n",
    "Beseado no arquivo draft2.ipynb"
   ]
  },
  {
   "cell_type": "code",
   "execution_count": 272,
   "metadata": {},
   "outputs": [],
   "source": [
    "from sympy import *\n",
    "from sympy.abc import s, t\n",
    "from sympy.stats import E"
   ]
  },
  {
   "cell_type": "code",
   "execution_count": 2,
   "metadata": {},
   "outputs": [
    {
     "name": "stdout",
     "output_type": "stream",
     "text": [
      "IPython console for SymPy 1.2 (Python 3.6.5-64-bit) (ground types: python)\n",
      "\n",
      "These commands were executed:\n",
      ">>> from __future__ import division\n",
      ">>> from sympy import *\n",
      ">>> x, y, z, t = symbols('x y z t')\n",
      ">>> k, m, n = symbols('k m n', integer=True)\n",
      ">>> f, g, h = symbols('f g h', cls=Function)\n",
      ">>> init_printing()\n",
      "\n",
      "Documentation can be found at http://docs.sympy.org/1.2/\n",
      "\n"
     ]
    }
   ],
   "source": [
    "init_session()"
   ]
  },
  {
   "cell_type": "code",
   "execution_count": 377,
   "metadata": {},
   "outputs": [],
   "source": [
    "j = Symbol('\\\\left\\\\langle{j}\\\\right\\\\rangle')\n",
    "z = Symbol('z',complex=True)\n",
    "x,y = symbols('x y', real=True)\n",
    "b = Symbol('beta',positive=True)\n",
    "a = Symbol('a',positive=True)\n",
    "Pin, Pi = symbols('P_\\\\infty \\\\Pi',cls=Function)\n",
    "mu = IndexedBase('\\\\mu')"
   ]
  },
  {
   "cell_type": "code",
   "execution_count": 431,
   "metadata": {},
   "outputs": [],
   "source": [
    "def f(z,k):\n",
    "    return sinh(a*z)/(a*z)\n",
    "\n",
    "def PI(z,m,n):\n",
    "    a = Symbol('beta',positive=True)\n",
    "    aux = exp(-m*z)*Product((f(z,k))**(2**k), (k, 1, n)).doit()\n",
    "    #aux = aux.rewrite(exp).expand()\n",
    "    return aux"
   ]
  },
  {
   "cell_type": "code",
   "execution_count": 96,
   "metadata": {},
   "outputs": [
    {
     "data": {
      "image/png": "[encoded data removed]",
      "text/latex": [
       "$$\\Pi{\\left (z \\right )} = e^{- \\left\\langle{j}\\right\\rangle z} \\prod_{k=1}^{\\infty} \\left(\\frac{2^{k + 1} \\sinh{\\left (2^{- k - 1} \\beta z \\right )}}{\\beta z}\\right)^{2^{k}}$$"
      ],
      "text/plain": [
       "                                                ∞                             \n",
       "                                          ┬───────────┬                       \n",
       "                                          │           │                       \n",
       "                                          │           │                       \n",
       "          -\\left\\langle{j}\\right\\rangle⋅z │           │ ⎛ k + 1     ⎛ -k - 1  \n",
       "\\Pi(z) = ℯ                               ⋅│           │ ⎜2     ⋅sinh⎝2      ⋅β\n",
       "                                          │           │ ⎜─────────────────────\n",
       "                                          │           │ ⎝          β⋅z        \n",
       "                                          │           │                       \n",
       "                                              k = 1                           \n",
       "\n",
       "        \n",
       "        \n",
       "    ⎛ k⎞\n",
       "    ⎝2 ⎠\n",
       "  ⎞⎞    \n",
       "⋅z⎠⎟    \n",
       "───⎟    \n",
       "   ⎠    \n",
       "        \n",
       "        "
      ]
     },
     "execution_count": 96,
     "metadata": {},
     "output_type": "execute_result"
    }
   ],
   "source": [
    "Eq(Pi(z),PI(z,j,oo))"
   ]
  },
  {
   "cell_type": "markdown",
   "metadata": {},
   "source": [
    "Aplicando o $\\ln$ para a transformada de Laplace"
   ]
  },
  {
   "cell_type": "code",
   "execution_count": 94,
   "metadata": {},
   "outputs": [
    {
     "data": {
      "image/png": "[encoded data removed]",
      "text/latex": [
       "$$\\log{\\left (\\Pi{\\left (z \\right )} \\right )} = - \\left\\langle{j}\\right\\rangle z + \\sum_{k=1}^{n} 2^{k} \\log{\\left (\\frac{2^{k + 1} \\sinh{\\left (2^{- k - 1} \\beta z \\right )}}{\\beta z} \\right )}$$"
      ],
      "text/plain": [
       "                                                  n                           \n",
       "                                                 ____                         \n",
       "                                                 ╲                            \n",
       "                                                  ╲         ⎛ k + 1     ⎛ -k -\n",
       "                                                   ╲   k    ⎜2     ⋅sinh⎝2    \n",
       "log(\\Pi(z)) = -\\left\\langle{j}\\right\\rangle⋅z +    ╱  2 ⋅log⎜─────────────────\n",
       "                                                  ╱         ⎝          β⋅z    \n",
       "                                                 ╱                            \n",
       "                                                 ‾‾‾‾                         \n",
       "                                                k = 1                         \n",
       "\n",
       "        \n",
       "        \n",
       "        \n",
       " 1    ⎞⎞\n",
       "  ⋅β⋅z⎠⎟\n",
       "───────⎟\n",
       "       ⎠\n",
       "        \n",
       "        \n",
       "        "
      ]
     },
     "execution_count": 94,
     "metadata": {},
     "output_type": "execute_result"
    }
   ],
   "source": [
    "Eq(log(Pi(z)),-j*z+Sum((2**k)*log(f(z,k)),(k,1,n)))"
   ]
  },
  {
   "cell_type": "code",
   "execution_count": 97,
   "metadata": {},
   "outputs": [
    {
     "data": {
      "image/png": "[encoded data removed]",
      "text/latex": [
       "$$\\log{\\left (\\Pi{\\left (z \\right )} \\right )} = - \\left\\langle{j}\\right\\rangle z + \\sum_{k=1}^{n} 2^{k} \\left(\\log{\\left (\\frac{2^{k + 1}}{\\beta z} \\right )} + \\log{\\left (\\sinh{\\left (2^{- k - 1} \\beta z \\right )} \\right )}\\right)$$"
      ],
      "text/plain": [
       "                                                  n                           \n",
       "                                                 ____                         \n",
       "                                                 ╲                            \n",
       "                                                  ╲      ⎛   ⎛ k + 1⎞         \n",
       "                                                   ╲   k ⎜   ⎜2     ⎟      ⎛  \n",
       "log(\\Pi(z)) = -\\left\\langle{j}\\right\\rangle⋅z +    ╱  2 ⋅⎜log⎜──────⎟ + log⎝si\n",
       "                                                  ╱      ⎝   ⎝ β⋅z  ⎠         \n",
       "                                                 ╱                            \n",
       "                                                 ‾‾‾‾                         \n",
       "                                                k = 1                         \n",
       "\n",
       "                 \n",
       "                 \n",
       "                 \n",
       "                ⎞\n",
       "  ⎛ -k - 1    ⎞⎞⎟\n",
       "nh⎝2      ⋅β⋅z⎠⎠⎟\n",
       "                ⎠\n",
       "                 \n",
       "                 \n",
       "                 "
      ]
     },
     "execution_count": 97,
     "metadata": {},
     "output_type": "execute_result"
    }
   ],
   "source": [
    "Eq(log(Pi(z)),-j*z+Sum((2**k)*(log(2**(k+1)/(b*z))+\n",
    "                          log(sinh(b*z/(2**(k+1))))),(k,1,n)))"
   ]
  },
  {
   "cell_type": "code",
   "execution_count": 99,
   "metadata": {},
   "outputs": [
    {
     "data": {
      "image/png": "[encoded data removed]",
      "text/latex": [
       "$$\\log{\\left (\\Pi{\\left (z \\right )} \\right )} = - \\left\\langle{j}\\right\\rangle z + \\sum_{k=1}^{n} 2^{k} \\left(\\log{\\left (2^{k + 1} \\right )} - \\log{\\left (\\beta z \\right )} + \\log{\\left (\\sinh{\\left (2^{- k - 1} \\beta z \\right )} \\right )}\\right)$$"
      ],
      "text/plain": [
       "                                                  n                           \n",
       "                                                 ___                          \n",
       "                                                 ╲                            \n",
       "                                                  ╲    k ⎛   ⎛ k + 1⎞         \n",
       "log(\\Pi(z)) = -\\left\\langle{j}\\right\\rangle⋅z +   ╱   2 ⋅⎝log⎝2     ⎠ - log(β⋅\n",
       "                                                 ╱                            \n",
       "                                                 ‾‾‾                          \n",
       "                                                k = 1                         \n",
       "\n",
       "                            \n",
       "                            \n",
       "                            \n",
       "        ⎛    ⎛ -k - 1    ⎞⎞⎞\n",
       "z) + log⎝sinh⎝2      ⋅β⋅z⎠⎠⎠\n",
       "                            \n",
       "                            \n",
       "                            "
      ]
     },
     "execution_count": 99,
     "metadata": {},
     "output_type": "execute_result"
    }
   ],
   "source": [
    "Eq(log(Pi(z)),-j*z+Sum((2**k)*(log(2**(k+1))-log(b*z)+\n",
    "                          log(sinh(b*z/(2**(k+1))))),(k,1,n)))"
   ]
  },
  {
   "cell_type": "code",
   "execution_count": 100,
   "metadata": {},
   "outputs": [
    {
     "data": {
      "image/png": "[encoded data removed]",
      "text/latex": [
       "$$\\log{\\left (\\Pi{\\left (z \\right )} \\right )} = - \\left\\langle{j}\\right\\rangle z - \\log{\\left (\\beta z \\right )} \\sum_{k=1}^{n} 2^{k} + \\sum_{k=1}^{n} 2^{k} \\log{\\left (2^{k + 1} \\right )} + \\sum_{k=1}^{n} 2^{k} \\log{\\left (\\sinh{\\left (2^{- k - 1} \\beta z \\right )} \\right )}$$"
      ],
      "text/plain": [
       "                                                           n          n       \n",
       "                                                          ___        ___      \n",
       "                                                          ╲          ╲        \n",
       "                                                           ╲    k     ╲    k  \n",
       "log(\\Pi(z)) = -\\left\\langle{j}\\right\\rangle⋅z - log(β⋅z)⋅  ╱   2  +   ╱   2 ⋅l\n",
       "                                                          ╱          ╱        \n",
       "                                                          ‾‾‾        ‾‾‾      \n",
       "                                                         k = 1      k = 1     \n",
       "\n",
       "               n                            \n",
       "              ___                           \n",
       "              ╲                             \n",
       "  ⎛ k + 1⎞     ╲    k    ⎛    ⎛ -k - 1    ⎞⎞\n",
       "og⎝2     ⎠ +   ╱   2 ⋅log⎝sinh⎝2      ⋅β⋅z⎠⎠\n",
       "              ╱                             \n",
       "              ‾‾‾                           \n",
       "             k = 1                          "
      ]
     },
     "execution_count": 100,
     "metadata": {},
     "output_type": "execute_result"
    }
   ],
   "source": [
    "Eq(log(Pi(z)),-j*z+Sum((2**k)*log(2**(k+1)),(k,1,n))-\n",
    "   log(b*z)*Sum(2**k,(k,1,n))+\n",
    "   Sum((2**k)*log(sinh(b*z/(2**(k+1)))),(k,1,n))) "
   ]
  },
  {
   "cell_type": "markdown",
   "metadata": {},
   "source": [
    "## Calculando a primeira derivada"
   ]
  },
  {
   "cell_type": "code",
   "execution_count": 101,
   "metadata": {},
   "outputs": [
    {
     "data": {
      "image/png": "[encoded data removed]",
      "text/latex": [
       "$$\\frac{\\frac{d}{d z} \\Pi{\\left (z \\right )}}{\\Pi{\\left (z \\right )}} = - \\left\\langle{j}\\right\\rangle + \\sum_{k=1}^{n} \\frac{2^{k} 2^{- k - 1} \\beta \\cosh{\\left (2^{- k - 1} \\beta z \\right )}}{\\sinh{\\left (2^{- k - 1} \\beta z \\right )}} - \\frac{\\sum_{k=1}^{n} 2^{k}}{z}$$"
      ],
      "text/plain": [
       "                                                                              \n",
       "                                                                              \n",
       "                                               n                              \n",
       "                                             _____                            \n",
       "                                             ╲                                \n",
       "d                                             ╲     k  -k - 1       ⎛ -k - 1  \n",
       "──(\\Pi(z))                                     ╲   2 ⋅2      ⋅β⋅cosh⎝2      ⋅β\n",
       "dz                                              ╲  ───────────────────────────\n",
       "────────── = -\\left\\langle{j}\\right\\rangle +    ╱            ⎛ -k - 1    ⎞    \n",
       "  \\Pi(z)                                       ╱         sinh⎝2      ⋅β⋅z⎠    \n",
       "                                              ╱                               \n",
       "                                             ╱                                \n",
       "                                             ‾‾‾‾‾                            \n",
       "                                             k = 1                            \n",
       "\n",
       "        n     \n",
       "       ___    \n",
       "       ╲      \n",
       "        ╲    k\n",
       "        ╱   2 \n",
       "  ⎞    ╱      \n",
       "⋅z⎠    ‾‾‾    \n",
       "───   k = 1   \n",
       "    - ────────\n",
       "         z    \n",
       "              \n",
       "              \n",
       "              \n",
       "              "
      ]
     },
     "execution_count": 101,
     "metadata": {},
     "output_type": "execute_result"
    }
   ],
   "source": [
    "Eq(1/Pi(z)*diff(Pi(z),z),diff(-j*z+Sum((2**k)*log(2**(k+1)),(k,1,n))-\n",
    "                              log(b*z)*Sum(2**k,(k,1,n))+\n",
    "                              Sum((2**k)*log(sinh(b*z/(2**(k+1)))),(k,1,n)),z))"
   ]
  },
  {
   "cell_type": "code",
   "execution_count": 160,
   "metadata": {},
   "outputs": [
    {
     "data": {
      "image/png": "[encoded data removed]",
      "text/latex": [
       "$$\\frac{\\frac{d}{d z} \\Pi{\\left (z \\right )}}{\\Pi{\\left (z \\right )}} = - \\left\\langle{j}\\right\\rangle + \\frac{\\beta \\sum_{k=1}^{n} \\coth{\\left (2^{- k - 1} \\beta z \\right )}}{2} - \\frac{\\sum_{k=1}^{n} 2^{k}}{z}$$"
      ],
      "text/plain": [
       "                                                 n                         n  \n",
       "                                                ___                       ___ \n",
       "                                                ╲                         ╲   \n",
       "                                                 ╲       ⎛ -k - 1    ⎞     ╲  \n",
       "                                             β⋅  ╱   coth⎝2      ⋅β⋅z⎠     ╱  \n",
       "d                                               ╱                         ╱   \n",
       "──(\\Pi(z))                                      ‾‾‾                       ‾‾‾ \n",
       "dz                                             k = 1                     k = 1\n",
       "────────── = -\\left\\langle{j}\\right\\rangle + ───────────────────────── - ─────\n",
       "  \\Pi(z)                                                 2                  z \n",
       "\n",
       "   \n",
       "   \n",
       "   \n",
       "  k\n",
       " 2 \n",
       "   \n",
       "   \n",
       "   \n",
       "───\n",
       "   "
      ]
     },
     "execution_count": 160,
     "metadata": {},
     "output_type": "execute_result"
    }
   ],
   "source": [
    "Eq(1/Pi(z)*diff(Pi(z),z),-j+b/2*Sum(coth(b*z/(2**(k+1))),(k,1,n))-\n",
    "  Sum(2**k,(k,1,n))/z)"
   ]
  },
  {
   "cell_type": "markdown",
   "metadata": {},
   "source": [
    "### Expandindo em série a parte real e imaginária"
   ]
  },
  {
   "cell_type": "code",
   "execution_count": 178,
   "metadata": {},
   "outputs": [],
   "source": [
    "t1 = b/2*coth(b*z/(2**(k+1)))\n",
    "t2 = -2**k/z"
   ]
  },
  {
   "cell_type": "code",
   "execution_count": 179,
   "metadata": {},
   "outputs": [
    {
     "data": {
      "image/png": "[encoded data removed]",
      "text/latex": [
       "$$\\left ( \\frac{2^{- k - 2} \\beta^{2} x}{3} + \\frac{2^{- 3 k - 4} \\beta^{4} x^{3}}{45} - \\frac{2^{k}}{x} + O\\left(x^{4}\\right), \\quad \\frac{2^{k}}{x}\\right )$$"
      ],
      "text/plain": [
       "⎛ -k - 2  2      -3⋅k - 4  4  3    k           k⎞\n",
       "⎜2      ⋅β ⋅x   2        ⋅β ⋅x    2     ⎛ 4⎞  2 ⎟\n",
       "⎜──────────── + ─────────────── - ── + O⎝x ⎠, ──⎟\n",
       "⎝     3                45         x           x ⎠"
      ]
     },
     "execution_count": 179,
     "metadata": {},
     "output_type": "execute_result"
    }
   ],
   "source": [
    "im(t1).subs([[im(z),x],[re(z),0]]).series(x,0,4),im(t2).subs([[im(z),x],[re(z),0]])"
   ]
  },
  {
   "cell_type": "markdown",
   "metadata": {},
   "source": [
    "Claramente vemos que a parte imaginária é nula quando $x=\\Im(z)$ tende a zero, já a parte real pode ser expandida"
   ]
  },
  {
   "cell_type": "code",
   "execution_count": 186,
   "metadata": {},
   "outputs": [
    {
     "data": {
      "image/png": "[encoded data removed]",
      "text/latex": [
       "$$\\left ( \\frac{2^{- k - 2} \\beta^{2} y}{3} - \\frac{2^{- 3 k - 4} \\beta^{4} y^{3}}{45} + \\frac{2^{k}}{y} + O\\left(y^{4}\\right), \\quad - \\frac{2^{k}}{y}\\right )$$"
      ],
      "text/plain": [
       "⎛ -k - 2  2      -3⋅k - 4  4  3    k            k ⎞\n",
       "⎜2      ⋅β ⋅y   2        ⋅β ⋅y    2     ⎛ 4⎞  -2  ⎟\n",
       "⎜──────────── - ─────────────── + ── + O⎝y ⎠, ────⎟\n",
       "⎝     3                45         y            y  ⎠"
      ]
     },
     "execution_count": 186,
     "metadata": {},
     "output_type": "execute_result"
    }
   ],
   "source": [
    "re(t1).subs([[re(z),y],[im(z),0]]).series(y,0,4),re(t2).subs([[re(z),y],[im(z),0]])"
   ]
  },
  {
   "cell_type": "markdown",
   "metadata": {},
   "source": [
    "Vemos aqui também que quando $y=\\Re(z)$ tende a zero, os termos também são nulos"
   ]
  },
  {
   "cell_type": "markdown",
   "metadata": {},
   "source": [
    "## Segunda derivada"
   ]
  },
  {
   "cell_type": "code",
   "execution_count": 212,
   "metadata": {},
   "outputs": [
    {
     "data": {
      "image/png": "[encoded data removed]",
      "text/latex": [
       "$$\\frac{\\frac{d^{2}}{d z^{2}} \\Pi{\\left (z \\right )}}{\\Pi{\\left (z \\right )}} - \\frac{\\left(\\frac{d}{d z} \\Pi{\\left (z \\right )}\\right)^{2}}{\\Pi^{2}{\\left (z \\right )}} = \\frac{\\beta \\sum_{k=1}^{n} - \\frac{2^{- k - 1} \\beta}{\\sinh^{2}{\\left (2^{- k - 1} \\beta z \\right )}}}{2} + \\frac{\\sum_{k=1}^{n} 2^{k}}{z^{2}}$$"
      ],
      "text/plain": [
       "                                  n                                \n",
       "                                _____                              \n",
       "                                ╲                                  \n",
       "                                 ╲         -k - 1                  \n",
       "                                  ╲      -2      ⋅β          n     \n",
       "                                   ╲  ──────────────────    ___    \n",
       "                              β⋅   ╱      2⎛ -k - 1    ⎞    ╲      \n",
       "  2                               ╱   sinh ⎝2      ⋅β⋅z⎠     ╲    k\n",
       " d                        2      ╱                           ╱   2 \n",
       "───(\\Pi(z))   ⎛d         ⎞      ╱                           ╱      \n",
       "  2           ⎜──(\\Pi(z))⎟      ‾‾‾‾‾                       ‾‾‾    \n",
       "dz            ⎝dz        ⎠      k = 1                      k = 1   \n",
       "─────────── - ───────────── = ────────────────────────── + ────────\n",
       "   \\Pi(z)           2                     2                    2   \n",
       "                 \\Pi (z)                                      z    "
      ]
     },
     "execution_count": 212,
     "metadata": {},
     "output_type": "execute_result"
    }
   ],
   "source": [
    "Eq(-1/Pi(z)**2*diff(Pi(z),z)**2+1/Pi(z)*diff(Pi(z),z,2),\n",
    "  diff(-j+b/2*Sum(coth(b*z/(2**(k+1))),(k,1,n))-\n",
    "  Sum(2**k,(k,1,n))/z,z))"
   ]
  },
  {
   "cell_type": "code",
   "execution_count": 211,
   "metadata": {},
   "outputs": [
    {
     "data": {
      "image/png": "[encoded data removed]",
      "text/latex": [
       "$$\\frac{\\frac{d^{2}}{d z^{2}} \\Pi{\\left (z \\right )}}{\\Pi{\\left (z \\right )}} - \\frac{\\left(\\frac{d}{d z} \\Pi{\\left (z \\right )}\\right)^{2}}{\\Pi^{2}{\\left (z \\right )}} = - \\frac{\\beta^{2} \\sum_{k=1}^{n} 2^{- k} \\operatorname{csch}^{2}{\\left (2^{- k - 1} \\beta z \\right )}}{4} + \\frac{\\sum_{k=1}^{n} 2^{k}}{z^{2}}$$"
      ],
      "text/plain": [
       "                                     n                              n     \n",
       "                                    ___                            ___    \n",
       "                                    ╲                              ╲      \n",
       "  2                              2   ╲    -k     2⎛ -k - 1    ⎞     ╲    k\n",
       " d                        2     β ⋅  ╱   2  ⋅csch ⎝2      ⋅β⋅z⎠     ╱   2 \n",
       "───(\\Pi(z))   ⎛d         ⎞          ╱                              ╱      \n",
       "  2           ⎜──(\\Pi(z))⎟          ‾‾‾                            ‾‾‾    \n",
       "dz            ⎝dz        ⎠         k = 1                          k = 1   \n",
       "─────────── - ───────────── = - ─────────────────────────────── + ────────\n",
       "   \\Pi(z)           2                          4                      2   \n",
       "                 \\Pi (z)                                             z    "
      ]
     },
     "execution_count": 211,
     "metadata": {},
     "output_type": "execute_result"
    }
   ],
   "source": [
    "Eq(-1/Pi(z)**2*diff(Pi(z),z)**2+1/Pi(z)*diff(Pi(z),z,2),\n",
    "  -b**2/2**2*Sum(csch(b*z/2**(k+1))**2/(2**k),(k,1,n))\n",
    "  +Sum(2**k,(k,1,n))/z**2)"
   ]
  },
  {
   "cell_type": "code",
   "execution_count": 209,
   "metadata": {},
   "outputs": [],
   "source": [
    "t1 = -b**2/4*csch(b*z/2**(k+1))**2/(2**k)\n",
    "t2 = 2**k/z**2"
   ]
  },
  {
   "cell_type": "code",
   "execution_count": 210,
   "metadata": {},
   "outputs": [
    {
     "data": {
      "image/png": "[encoded data removed]",
      "text/latex": [
       "$$\\frac{2^{- k - 2} \\beta^{2}}{3} - \\frac{2^{- 3 k - 4} \\beta^{4} y^{2}}{15} - \\frac{2^{k}}{y^{2}} + O\\left(y^{4}\\right)$$"
      ],
      "text/plain": [
       " -k - 2  2    -3⋅k - 4  4  2    k        \n",
       "2      ⋅β    2        ⋅β ⋅y    2     ⎛ 4⎞\n",
       "────────── - ─────────────── - ── + O⎝y ⎠\n",
       "    3               15          2        \n",
       "                               y         "
      ]
     },
     "execution_count": 210,
     "metadata": {},
     "output_type": "execute_result"
    }
   ],
   "source": [
    "re(t1).subs([[im(z),0],[re(z),y]]).series(y,0,4)"
   ]
  },
  {
   "cell_type": "markdown",
   "metadata": {},
   "source": [
    "Aqui é que observamos o fator $1/12$ que achamos nos primeiros cálculos"
   ]
  },
  {
   "cell_type": "code",
   "execution_count": 106,
   "metadata": {},
   "outputs": [
    {
     "data": {
      "image/png": "[encoded data removed]",
      "text/latex": [
       "$$\\frac{1}{\\frac{e^{z}}{2} - \\frac{e^{- z}}{2}}$$"
      ],
      "text/plain": [
       "   1    \n",
       "────────\n",
       " z    -z\n",
       "ℯ    ℯ  \n",
       "── - ───\n",
       "2     2 "
      ]
     },
     "execution_count": 106,
     "metadata": {},
     "output_type": "execute_result"
    }
   ],
   "source": [
    "(1/sinh(z)).rewrite(exp)"
   ]
  },
  {
   "cell_type": "code",
   "execution_count": 208,
   "metadata": {},
   "outputs": [
    {
     "data": {
      "image/png": "[encoded data removed]",
      "text/latex": [
       "$$\\frac{2^{k}}{y^{2}}$$"
      ],
      "text/plain": [
       " k\n",
       "2 \n",
       "──\n",
       " 2\n",
       "y "
      ]
     },
     "execution_count": 208,
     "metadata": {},
     "output_type": "execute_result"
    }
   ],
   "source": [
    "re(t2).subs([[im(z),0],[re(z),y]])"
   ]
  },
  {
   "cell_type": "markdown",
   "metadata": {},
   "source": [
    "## Terceira derivada"
   ]
  },
  {
   "cell_type": "code",
   "execution_count": 227,
   "metadata": {},
   "outputs": [
    {
     "data": {
      "image/png": "[encoded data removed]",
      "text/latex": [
       "$$\\left ( - \\frac{\\frac{d}{d z} \\Pi{\\left (z \\right )} \\frac{d^{2}}{d z^{2}} \\Pi{\\left (z \\right )}}{\\Pi^{2}{\\left (z \\right )}}, \\quad \\frac{\\frac{d^{3}}{d z^{3}} \\Pi{\\left (z \\right )}}{\\Pi{\\left (z \\right )}}, \\quad \\frac{2 \\left(\\frac{d}{d z} \\Pi{\\left (z \\right )}\\right)^{3}}{\\Pi^{3}{\\left (z \\right )}}, \\quad - \\frac{2 \\frac{d}{d z} \\Pi{\\left (z \\right )} \\frac{d^{2}}{d z^{2}} \\Pi{\\left (z \\right )}}{\\Pi^{2}{\\left (z \\right )}}\\right )$$"
      ],
      "text/plain": [
       "⎛              2             3                                           2    \n",
       "⎜ d           d             d                         3     d           d     \n",
       "⎜-──(\\Pi(z))⋅───(\\Pi(z))   ───(\\Pi(z))    ⎛d         ⎞   -2⋅──(\\Pi(z))⋅───(\\Pi\n",
       "⎜ dz           2             3          2⋅⎜──(\\Pi(z))⎟      dz           2    \n",
       "⎜            dz            dz             ⎝dz        ⎠                 dz     \n",
       "⎜────────────────────────, ───────────, ───────────────, ─────────────────────\n",
       "⎜           2                 \\Pi(z)           3                     2        \n",
       "⎝        \\Pi (z)                            \\Pi (z)               \\Pi (z)     \n",
       "\n",
       "     ⎞\n",
       "     ⎟\n",
       "(z)) ⎟\n",
       "     ⎟\n",
       "     ⎟\n",
       "─────⎟\n",
       "     ⎟\n",
       "     ⎠"
      ]
     },
     "execution_count": 227,
     "metadata": {},
     "output_type": "execute_result"
    }
   ],
   "source": [
    "(-1/Pi(z)**2*diff(Pi(z),z,2)*diff(Pi(z),z),\n",
    " +1/Pi(z)*diff(Pi(z),z,3),\n",
    " +2/Pi(z)**3*diff(Pi(z),z)**3,\n",
    " -2/Pi(z)**2*diff(Pi(z),z)*diff(Pi(z),z,2))"
   ]
  },
  {
   "cell_type": "code",
   "execution_count": 235,
   "metadata": {},
   "outputs": [
    {
     "data": {
      "image/png": "[encoded data removed]",
      "text/latex": [
       "$$\\sum_{k=1}^{n} \\left(- \\frac{2 \\cdot 2^{k}}{z^{3}} + \\frac{2^{- 2 k} \\beta^{3} \\coth{\\left (\\frac{2^{- k} \\beta z}{2} \\right )} \\operatorname{csch}^{2}{\\left (\\frac{2^{- k} \\beta z}{2} \\right )}}{4}\\right)$$"
      ],
      "text/plain": [
       "  n                                                    \n",
       "______                                                 \n",
       "╲                                                      \n",
       " ╲     ⎛                      ⎛ -k    ⎞      ⎛ -k    ⎞⎞\n",
       "  ╲    ⎜          -2⋅k  3     ⎜2  ⋅β⋅z⎟     2⎜2  ⋅β⋅z⎟⎟\n",
       "   ╲   ⎜     k   2    ⋅β ⋅coth⎜───────⎟⋅csch ⎜───────⎟⎟\n",
       "    ╲  ⎜  2⋅2                 ⎝   2   ⎠      ⎝   2   ⎠⎟\n",
       "    ╱  ⎜- ──── + ─────────────────────────────────────⎟\n",
       "   ╱   ⎜    3                      4                  ⎟\n",
       "  ╱    ⎝   z                                          ⎠\n",
       " ╱                                                     \n",
       "╱                                                      \n",
       "‾‾‾‾‾‾                                                 \n",
       "k = 1                                                  "
      ]
     },
     "execution_count": 235,
     "metadata": {},
     "output_type": "execute_result"
    }
   ],
   "source": [
    "diff(-b**2/2**2*Sum(csch(b*z/2**(k+1))**2/(2**k),(k,1,n))\n",
    "  +Sum(2**k,(k,1,n))/z**2,z).simplify()"
   ]
  },
  {
   "cell_type": "code",
   "execution_count": 263,
   "metadata": {},
   "outputs": [],
   "source": [
    "t1 = b**3/2**(2*k)*coth(b*z/2**(k+1))*csch(b*z/2**(k+1))**2/4\n",
    "t2 = -2*2**k/z**3"
   ]
  },
  {
   "cell_type": "code",
   "execution_count": 261,
   "metadata": {},
   "outputs": [
    {
     "data": {
      "image/png": "[encoded data removed]",
      "text/latex": [
       "$$\\frac{2^{k + 1} i}{x^{3}} - \\frac{2^{- 3 k - 3} i \\beta^{4} x}{15} - \\frac{2^{- 5 k - 3} i \\beta^{6} x^{3}}{189} + O\\left(x^{4}\\right)$$"
      ],
      "text/plain": [
       " k + 1      -3⋅k - 3    4      -5⋅k - 3    6  3        \n",
       "2     ⋅ⅈ   2        ⋅ⅈ⋅β ⋅x   2        ⋅ⅈ⋅β ⋅x     ⎛ 4⎞\n",
       "──────── - ──────────────── - ───────────────── + O⎝x ⎠\n",
       "    3             15                 189               \n",
       "   x                                                   "
      ]
     },
     "execution_count": 261,
     "metadata": {},
     "output_type": "execute_result"
    }
   ],
   "source": [
    "t1.subs([[z,y+I*x],[y,0]]).series(x,0,4)"
   ]
  },
  {
   "cell_type": "code",
   "execution_count": 262,
   "metadata": {},
   "outputs": [
    {
     "data": {
      "image/png": "[encoded data removed]",
      "text/latex": [
       "$$\\frac{2^{k + 1}}{y^{3}} - \\frac{2^{- 3 k - 3} \\beta^{4} y}{15} + \\frac{2^{- 5 k - 3} \\beta^{6} y^{3}}{189} + O\\left(y^{4}\\right)$$"
      ],
      "text/plain": [
       " k + 1    -3⋅k - 3  4      -5⋅k - 3  6  3        \n",
       "2        2        ⋅β ⋅y   2        ⋅β ⋅y     ⎛ 4⎞\n",
       "────── - ────────────── + ─────────────── + O⎝y ⎠\n",
       "   3           15               189              \n",
       "  y                                              "
      ]
     },
     "execution_count": 262,
     "metadata": {},
     "output_type": "execute_result"
    }
   ],
   "source": [
    "t1.subs([[z,y+I*x],[x,0]]).series(y,0,4)"
   ]
  },
  {
   "cell_type": "code",
   "execution_count": 266,
   "metadata": {},
   "outputs": [
    {
     "data": {
      "image/png": "[encoded data removed]",
      "text/latex": [
       "$$- \\frac{2^{k + 1} i}{x^{3}}$$"
      ],
      "text/plain": [
       "  k + 1   \n",
       "-2     ⋅ⅈ \n",
       "──────────\n",
       "     3    \n",
       "    x     "
      ]
     },
     "execution_count": 266,
     "metadata": {},
     "output_type": "execute_result"
    }
   ],
   "source": [
    "t2.subs([[z,y+I*x],[y,0]]).series(x,0,4)"
   ]
  },
  {
   "cell_type": "code",
   "execution_count": 267,
   "metadata": {},
   "outputs": [
    {
     "data": {
      "image/png": "[encoded data removed]",
      "text/latex": [
       "$$- \\frac{2^{k + 1}}{y^{3}}$$"
      ],
      "text/plain": [
       "  k + 1 \n",
       "-2      \n",
       "────────\n",
       "    3   \n",
       "   y    "
      ]
     },
     "execution_count": 267,
     "metadata": {},
     "output_type": "execute_result"
    }
   ],
   "source": [
    "t2.subs([[z,y+I*x],[x,0]]).series(y,0,4)"
   ]
  },
  {
   "cell_type": "code",
   "execution_count": 321,
   "metadata": {},
   "outputs": [
    {
     "data": {
      "image/png": "[encoded data removed]",
      "text/latex": [
       "$$2 \\mu_{1}^{3} - 3 \\mu_{1} \\mu_{2} + \\mu_{3}$$"
      ],
      "text/plain": [
       "        3                           \n",
       "2⋅\\mu[1]  - 3⋅\\mu[1]⋅\\mu[2] + \\mu[3]"
      ]
     },
     "execution_count": 321,
     "metadata": {},
     "output_type": "execute_result"
    }
   ],
   "source": [
    "diff(log(Pi(z)),z,3).subs([[diff(Pi(z),z,3),mu[3]],[diff(Pi(z),z,2),mu[2]],[diff(Pi(z),z),mu[1]],[Pi(z),1]])"
   ]
  },
  {
   "cell_type": "code",
   "execution_count": 322,
   "metadata": {},
   "outputs": [],
   "source": [
    "f = -j*z+Sum((2**k)*log(f(z,k)),(k,1,n))"
   ]
  },
  {
   "cell_type": "code",
   "execution_count": 415,
   "metadata": {},
   "outputs": [
    {
     "data": {
      "image/png": "[encoded data removed]",
      "text/latex": [
       "$$\\sum_{k=1}^{n} \\left(\\frac{5040 \\cdot 2^{k}}{z^{8}} - \\frac{17 \\cdot 2^{- 7 k} \\beta^{8}}{16} + \\frac{31 \\cdot 2^{- 7 k} \\beta^{8}}{2 \\tanh^{2}{\\left (\\frac{2^{- k} \\beta z}{2} \\right )}} - \\frac{189 \\cdot 2^{- 7 k} \\beta^{8}}{4 \\tanh^{4}{\\left (\\frac{2^{- k} \\beta z}{2} \\right )}} + \\frac{105 \\cdot 2^{- 7 k} \\beta^{8}}{2 \\tanh^{6}{\\left (\\frac{2^{- k} \\beta z}{2} \\right )}} - \\frac{315 \\cdot 2^{- 7 k} \\beta^{8}}{16 \\tanh^{8}{\\left (\\frac{2^{- k} \\beta z}{2} \\right )}}\\right)$$"
      ],
      "text/plain": [
       "  n                                                                           \n",
       "______                                                                        \n",
       "╲                                                                             \n",
       " ╲     ⎛      k       -7⋅k  8         -7⋅k  8             -7⋅k  8            -\n",
       "  ╲    ⎜5040⋅2    17⋅2    ⋅β      31⋅2    ⋅β         189⋅2    ⋅β        105⋅2 \n",
       "   ╲   ⎜─────── - ─────────── + ──────────────── - ──────────────── + ────────\n",
       "    ╲  ⎜    8          16              ⎛ -k    ⎞          ⎛ -k    ⎞          ⎛\n",
       "    ╱  ⎜   z                          2⎜2  ⋅β⋅z⎟         4⎜2  ⋅β⋅z⎟         6⎜\n",
       "   ╱   ⎜                        2⋅tanh ⎜───────⎟   4⋅tanh ⎜───────⎟   2⋅tanh ⎜\n",
       "  ╱    ⎝                               ⎝   2   ⎠          ⎝   2   ⎠          ⎝\n",
       " ╱                                                                            \n",
       "╱                                                                             \n",
       "‾‾‾‾‾‾                                                                        \n",
       "k = 1                                                                         \n",
       "\n",
       "                             \n",
       "                             \n",
       "                             \n",
       "7⋅k  8             -7⋅k  8  ⎞\n",
       "   ⋅β         315⋅2    ⋅β   ⎟\n",
       "──────── - ─────────────────⎟\n",
       " -k    ⎞           ⎛ -k    ⎞⎟\n",
       "2  ⋅β⋅z⎟          8⎜2  ⋅β⋅z⎟⎟\n",
       "───────⎟   16⋅tanh ⎜───────⎟⎟\n",
       "   2   ⎠           ⎝   2   ⎠⎠\n",
       "                             \n",
       "                             \n",
       "                             \n",
       "                             "
      ]
     },
     "execution_count": 415,
     "metadata": {},
     "output_type": "execute_result"
    }
   ],
   "source": [
    "f1 = f.expand(log).diff(z,8).simplify()\n",
    "f1"
   ]
  },
  {
   "cell_type": "code",
   "execution_count": 420,
   "metadata": {},
   "outputs": [
    {
     "data": {
      "image/png": "[encoded data removed]",
      "text/latex": [
       "$$\\frac{5040 \\cdot 2^{k}}{z^{8}} + \\frac{2^{- 7 k} \\beta^{8} \\left(- \\frac{315 \\coth^{8}{\\left (a z \\right )}}{8} + 105 \\coth^{6}{\\left (a z \\right )} - \\frac{189 \\coth^{4}{\\left (a z \\right )}}{2} + 31 \\coth^{2}{\\left (a z \\right )}\\right)}{2} - \\frac{17 \\cdot 2^{- 7 k} \\beta^{8}}{16}$$"
      ],
      "text/plain": [
       "                   ⎛          8                                 4             \n",
       "           -7⋅k  8 ⎜  315⋅coth (a⋅z)           6        189⋅coth (a⋅z)        \n",
       "      k   2    ⋅β ⋅⎜- ────────────── + 105⋅coth (a⋅z) - ────────────── + 31⋅co\n",
       "5040⋅2             ⎝        8                                 2               \n",
       "─────── + ────────────────────────────────────────────────────────────────────\n",
       "    8                                           2                             \n",
       "   z                                                                          \n",
       "\n",
       "        ⎞              \n",
       "  2     ⎟              \n",
       "th (a⋅z)⎟       -7⋅k  8\n",
       "        ⎠   17⋅2    ⋅β \n",
       "───────── - ───────────\n",
       "                 16    \n",
       "                       "
      ]
     },
     "execution_count": 420,
     "metadata": {},
     "output_type": "execute_result"
    }
   ],
   "source": [
    "cotgh = coth(a*z)\n",
    "\n",
    "g = 5040*2**k/z**8 -17*2**(-7*k)*b**8/16 +2**(-7*k)*b**8/2*(31*cotgh**2-189*cotgh**4/2+105*cotgh**6-315*cotgh**8/8)\n",
    "g"
   ]
  },
  {
   "cell_type": "code",
   "execution_count": 421,
   "metadata": {},
   "outputs": [
    {
     "data": {
      "image/png": "[encoded data removed]",
      "text/latex": [
       "$$- \\frac{2^{- 7 k} \\beta^{8}}{240} + \\frac{2^{- 9 k - 3} \\beta^{10} z^{2}}{33} + O\\left(z^{4}\\right)$$"
      ],
      "text/plain": [
       "   -7⋅k  8    -9⋅k - 3  10  2        \n",
       "  2    ⋅β    2        ⋅β  ⋅z     ⎛ 4⎞\n",
       "- ──────── + ──────────────── + O⎝z ⎠\n",
       "    240             33               "
      ]
     },
     "execution_count": 421,
     "metadata": {},
     "output_type": "execute_result"
    }
   ],
   "source": [
    "g.subs([[a,b/2**(k+1)]]).series(z,0,4)"
   ]
  },
  {
   "cell_type": "code",
   "execution_count": 422,
   "metadata": {},
   "outputs": [
    {
     "data": {
      "image/png": "[encoded data removed]",
      "text/latex": [
       "$$\\frac{1}{30480}$$"
      ],
      "text/plain": [
       "1/30480"
      ]
     },
     "execution_count": 422,
     "metadata": {},
     "output_type": "execute_result"
    }
   ],
   "source": [
    "Sum(2**(-7*k)/240,(k,1,oo)).doit()"
   ]
  },
  {
   "cell_type": "markdown",
   "metadata": {},
   "source": [
    "# Escrevendo sem somatório para explicitar os momentos"
   ]
  },
  {
   "cell_type": "code",
   "execution_count": 512,
   "metadata": {},
   "outputs": [
    {
     "data": {
      "image/png": "[encoded data removed]",
      "text/latex": [
       "$$- 2^{k} \\log{\\left (a \\right )} + 2^{k} \\log{\\left (\\frac{\\sinh{\\left (a z \\right )}}{z} \\right )} - \\left\\langle{j}\\right\\rangle z$$"
      ],
      "text/plain": [
       "   k           k    ⎛sinh(a⋅z)⎞                                 \n",
       "- 2 ⋅log(a) + 2 ⋅log⎜─────────⎟ - \\left\\langle{j}\\right\\rangle⋅z\n",
       "                    ⎝    z    ⎠                                 "
      ]
     },
     "execution_count": 512,
     "metadata": {},
     "output_type": "execute_result"
    }
   ],
   "source": [
    "f0 = (-j*z+(2**k)*log(f(z,k))).expand(log)\n",
    "f0"
   ]
  },
  {
   "cell_type": "code",
   "execution_count": 522,
   "metadata": {},
   "outputs": [
    {
     "data": {
      "image/png": "[encoded data removed]",
      "text/latex": [
       "$$- \\left\\langle{j}\\right\\rangle$$"
      ],
      "text/plain": [
       "-\\left\\langle{j}\\right\\rangle"
      ]
     },
     "execution_count": 522,
     "metadata": {},
     "output_type": "execute_result"
    }
   ],
   "source": [
    "f1 = f0.diff(z,1).subs([[a,b/2**(k+1)]])\n",
    "f1 = f1.trigsimp()\n",
    "c1 = f1.limit(z,0)\n",
    "c1"
   ]
  },
  {
   "cell_type": "code",
   "execution_count": 523,
   "metadata": {},
   "outputs": [
    {
     "data": {
      "image/png": "[encoded data removed]",
      "text/latex": [
       "$$2^{k} \\left(\\frac{1}{z^{2}} - \\frac{2^{- 2 k} \\beta^{2}}{4 \\sinh^{2}{\\left (\\frac{2^{- k} \\beta z}{2} \\right )}}\\right)$$"
      ],
      "text/plain": [
       "   ⎛          -2⋅k  2    ⎞\n",
       " k ⎜1        2    ⋅β     ⎟\n",
       "2 ⋅⎜── - ────────────────⎟\n",
       "   ⎜ 2          ⎛ -k    ⎞⎟\n",
       "   ⎜z          2⎜2  ⋅β⋅z⎟⎟\n",
       "   ⎜     4⋅sinh ⎜───────⎟⎟\n",
       "   ⎝            ⎝   2   ⎠⎠"
      ]
     },
     "execution_count": 523,
     "metadata": {},
     "output_type": "execute_result"
    }
   ],
   "source": [
    "f2 = f0.diff(z,2).subs([[a,b/2**(k+1)]])\n",
    "f2 = f2.trigsimp()\n",
    "f2"
   ]
  },
  {
   "cell_type": "code",
   "execution_count": 524,
   "metadata": {},
   "outputs": [
    {
     "data": {
      "image/png": "[encoded data removed]",
      "text/latex": [
       "$$\\frac{\\beta^{2}}{12}$$"
      ],
      "text/plain": [
       " 2\n",
       "β \n",
       "──\n",
       "12"
      ]
     },
     "execution_count": 524,
     "metadata": {},
     "output_type": "execute_result"
    }
   ],
   "source": [
    "c2 = f2.limit(z,0)\n",
    "c2 = Sum(c2,(k,1,oo)).doit()\n",
    "c2"
   ]
  },
  {
   "cell_type": "code",
   "execution_count": 525,
   "metadata": {},
   "outputs": [
    {
     "data": {
      "image/png": "[encoded data removed]",
      "text/latex": [
       "$$- 2^{k} \\left(\\frac{2}{z^{3}} + \\frac{2^{- 3 k} \\beta^{3}}{4 \\tanh{\\left (\\frac{2^{- k} \\beta z}{2} \\right )}} - \\frac{2^{- 3 k} \\beta^{3}}{4 \\tanh^{3}{\\left (\\frac{2^{- k} \\beta z}{2} \\right )}}\\right)$$"
      ],
      "text/plain": [
       "    ⎛          -3⋅k  3           -3⋅k  3    ⎞\n",
       "  k ⎜2        2    ⋅β           2    ⋅β     ⎟\n",
       "-2 ⋅⎜── + ─────────────── - ────────────────⎟\n",
       "    ⎜ 3         ⎛ -k    ⎞          ⎛ -k    ⎞⎟\n",
       "    ⎜z          ⎜2  ⋅β⋅z⎟         3⎜2  ⋅β⋅z⎟⎟\n",
       "    ⎜     4⋅tanh⎜───────⎟   4⋅tanh ⎜───────⎟⎟\n",
       "    ⎝           ⎝   2   ⎠          ⎝   2   ⎠⎠"
      ]
     },
     "execution_count": 525,
     "metadata": {},
     "output_type": "execute_result"
    }
   ],
   "source": [
    "f3 = f0.diff(z,3).subs([[a,b/2**(k+1)]])\n",
    "f3 = f3.trigsimp()\n",
    "f3"
   ]
  },
  {
   "cell_type": "code",
   "execution_count": 526,
   "metadata": {},
   "outputs": [
    {
     "data": {
      "image/png": "[encoded data removed]",
      "text/latex": [
       "$$0$$"
      ],
      "text/plain": [
       "0"
      ]
     },
     "execution_count": 526,
     "metadata": {},
     "output_type": "execute_result"
    }
   ],
   "source": [
    "c3 = f3.limit(z,0)\n",
    "c3"
   ]
  },
  {
   "cell_type": "code",
   "execution_count": 527,
   "metadata": {},
   "outputs": [
    {
     "data": {
      "image/png": "[encoded data removed]",
      "text/latex": [
       "$$2^{k} \\left(\\frac{6}{z^{4}} - \\frac{2^{- 4 k} \\beta^{4}}{8} + \\frac{2^{- 4 k} \\beta^{4}}{2 \\tanh^{2}{\\left (\\frac{2^{- k} \\beta z}{2} \\right )}} - \\frac{3 \\cdot 2^{- 4 k} \\beta^{4}}{8 \\tanh^{4}{\\left (\\frac{2^{- k} \\beta z}{2} \\right )}}\\right)$$"
      ],
      "text/plain": [
       "   ⎛      -4⋅k  4        -4⋅k  4             -4⋅k  4   ⎞\n",
       " k ⎜6    2    ⋅β        2    ⋅β           3⋅2    ⋅β    ⎟\n",
       "2 ⋅⎜── - ──────── + ──────────────── - ────────────────⎟\n",
       "   ⎜ 4      8              ⎛ -k    ⎞          ⎛ -k    ⎞⎟\n",
       "   ⎜z                     2⎜2  ⋅β⋅z⎟         4⎜2  ⋅β⋅z⎟⎟\n",
       "   ⎜                2⋅tanh ⎜───────⎟   8⋅tanh ⎜───────⎟⎟\n",
       "   ⎝                       ⎝   2   ⎠          ⎝   2   ⎠⎠"
      ]
     },
     "execution_count": 527,
     "metadata": {},
     "output_type": "execute_result"
    }
   ],
   "source": [
    "f4 = f0.diff(z,4).subs([[a,b/2**(k+1)]])\n",
    "f4 = f4.trigsimp()\n",
    "f4"
   ]
  },
  {
   "cell_type": "code",
   "execution_count": 548,
   "metadata": {},
   "outputs": [
    {
     "data": {
      "image/png": "[encoded data removed]",
      "text/latex": [
       "$$- \\frac{2^{- 3 k - 3} \\beta^{4}}{15} - \\frac{2^{- 5 k - 3} \\beta^{6} y^{2}}{63} + O\\left(y^{3}\\right)$$"
      ],
      "text/plain": [
       "   -3⋅k - 3  4    -5⋅k - 3  6  2        \n",
       "  2        ⋅β    2        ⋅β ⋅y     ⎛ 3⎞\n",
       "- ──────────── - ─────────────── + O⎝y ⎠\n",
       "       15               63              "
      ]
     },
     "execution_count": 548,
     "metadata": {},
     "output_type": "execute_result"
    }
   ],
   "source": [
    "c4 = f4.subs([[z,I*y]]).series(y,0,3)\n",
    "c4"
   ]
  },
  {
   "cell_type": "code",
   "execution_count": 549,
   "metadata": {},
   "outputs": [
    {
     "data": {
      "image/png": "[encoded data removed]",
      "text/latex": [
       "$$- \\frac{\\beta^{4}}{840}$$"
      ],
      "text/plain": [
       "  4 \n",
       "-β  \n",
       "────\n",
       "840 "
      ]
     },
     "execution_count": 549,
     "metadata": {},
     "output_type": "execute_result"
    }
   ],
   "source": [
    "c4 = Sum(-2**(-3*k-3)*b**4/15,(k,1,oo)).doit()\n",
    "c4"
   ]
  },
  {
   "cell_type": "code",
   "execution_count": 530,
   "metadata": {},
   "outputs": [
    {
     "data": {
      "image/png": "[encoded data removed]",
      "text/latex": [
       "$$- 2^{k} \\left(\\frac{24}{z^{5}} - \\frac{2^{- 5 k} \\beta^{5}}{2 \\tanh{\\left (\\frac{2^{- k} \\beta z}{2} \\right )}} + \\frac{5 \\cdot 2^{- 5 k} \\beta^{5}}{4 \\tanh^{3}{\\left (\\frac{2^{- k} \\beta z}{2} \\right )}} - \\frac{3 \\cdot 2^{- 5 k} \\beta^{5}}{4 \\tanh^{5}{\\left (\\frac{2^{- k} \\beta z}{2} \\right )}}\\right)$$"
      ],
      "text/plain": [
       "    ⎛          -5⋅k  5            -5⋅k  5            -5⋅k  5   ⎞\n",
       "  k ⎜24       2    ⋅β          5⋅2    ⋅β          3⋅2    ⋅β    ⎟\n",
       "-2 ⋅⎜── - ─────────────── + ──────────────── - ────────────────⎟\n",
       "    ⎜ 5         ⎛ -k    ⎞          ⎛ -k    ⎞          ⎛ -k    ⎞⎟\n",
       "    ⎜z          ⎜2  ⋅β⋅z⎟         3⎜2  ⋅β⋅z⎟         5⎜2  ⋅β⋅z⎟⎟\n",
       "    ⎜     2⋅tanh⎜───────⎟   4⋅tanh ⎜───────⎟   4⋅tanh ⎜───────⎟⎟\n",
       "    ⎝           ⎝   2   ⎠          ⎝   2   ⎠          ⎝   2   ⎠⎠"
      ]
     },
     "execution_count": 530,
     "metadata": {},
     "output_type": "execute_result"
    }
   ],
   "source": [
    "f5 = f0.diff(z,5).subs([[a,b/2**(k+1)]])\n",
    "f5 = f5.trigsimp()\n",
    "f5"
   ]
  },
  {
   "cell_type": "code",
   "execution_count": 539,
   "metadata": {},
   "outputs": [
    {
     "data": {
      "image/png": "[encoded data removed]",
      "text/latex": [
       "$$- \\frac{2^{- 6 k - 2} \\beta^{6} z}{63} + O\\left(z^{3}\\right)$$"
      ],
      "text/plain": [
       "   -6⋅k - 2  6          \n",
       "  2        ⋅β ⋅z    ⎛ 3⎞\n",
       "- ────────────── + O⎝z ⎠\n",
       "        63              "
      ]
     },
     "execution_count": 539,
     "metadata": {},
     "output_type": "execute_result"
    }
   ],
   "source": [
    "g5 = 24/z**5+2**(-5*k)*b**5/2*(-coth(a*z)+5*coth(a*z)**3/2-3*coth(a*z)**5/2)\n",
    "g5.subs([[a,b/2**(k+1)]]).series(z,0,3)"
   ]
  },
  {
   "cell_type": "code",
   "execution_count": 540,
   "metadata": {},
   "outputs": [
    {
     "data": {
      "image/png": "[encoded data removed]",
      "text/latex": [
       "$$2^{k} \\left(\\frac{120}{z^{6}} + \\frac{2^{- 6 k} \\beta^{6}}{4} - \\frac{17 \\cdot 2^{- 6 k} \\beta^{6}}{8 \\tanh^{2}{\\left (\\frac{2^{- k} \\beta z}{2} \\right )}} + \\frac{15 \\cdot 2^{- 6 k} \\beta^{6}}{4 \\tanh^{4}{\\left (\\frac{2^{- k} \\beta z}{2} \\right )}} - \\frac{15 \\cdot 2^{- 6 k} \\beta^{6}}{8 \\tanh^{6}{\\left (\\frac{2^{- k} \\beta z}{2} \\right )}}\\right)$$"
      ],
      "text/plain": [
       "   ⎛       -6⋅k  6         -6⋅k  6            -6⋅k  6            -6⋅k  6   ⎞\n",
       " k ⎜120   2    ⋅β      17⋅2    ⋅β         15⋅2    ⋅β         15⋅2    ⋅β    ⎟\n",
       "2 ⋅⎜─── + ──────── - ──────────────── + ──────────────── - ────────────────⎟\n",
       "   ⎜  6      4              ⎛ -k    ⎞          ⎛ -k    ⎞          ⎛ -k    ⎞⎟\n",
       "   ⎜ z                     2⎜2  ⋅β⋅z⎟         4⎜2  ⋅β⋅z⎟         6⎜2  ⋅β⋅z⎟⎟\n",
       "   ⎜                 8⋅tanh ⎜───────⎟   4⋅tanh ⎜───────⎟   8⋅tanh ⎜───────⎟⎟\n",
       "   ⎝                        ⎝   2   ⎠          ⎝   2   ⎠          ⎝   2   ⎠⎠"
      ]
     },
     "execution_count": 540,
     "metadata": {},
     "output_type": "execute_result"
    }
   ],
   "source": [
    "f6 = f0.diff(z,6).subs([[a,b/2**(k+1)]])\n",
    "f6 = f6.trigsimp()\n",
    "f6"
   ]
  },
  {
   "cell_type": "code",
   "execution_count": 546,
   "metadata": {},
   "outputs": [
    {
     "data": {
      "image/png": "[encoded data removed]",
      "text/latex": [
       "$$\\frac{2^{- 6 k} \\beta^{6}}{252} - \\frac{2^{- 8 k - 5} \\beta^{8} z^{2}}{15} + O\\left(z^{3}\\right)$$"
      ],
      "text/plain": [
       " -6⋅k  6    -8⋅k - 5  8  2        \n",
       "2    ⋅β    2        ⋅β ⋅z     ⎛ 3⎞\n",
       "──────── - ─────────────── + O⎝z ⎠\n",
       "  252             15              "
      ]
     },
     "execution_count": 546,
     "metadata": {},
     "output_type": "execute_result"
    }
   ],
   "source": [
    "g6 = 120/z**6 +2**(-6*k)*b**6/4 +2**(-6*k)*b**6/4*(-17*coth(a*z)**2/2+15*coth(a*z)**4-15*coth(a*z)**6/2)\n",
    "g6.subs([[a,b/2**(k+1)]]).series(z,0,3)"
   ]
  },
  {
   "cell_type": "code",
   "execution_count": 581,
   "metadata": {},
   "outputs": [
    {
     "data": {
      "image/png": "[encoded data removed]",
      "text/latex": [
       "$$\\frac{\\beta^{6}}{7812}$$"
      ],
      "text/plain": [
       "  6 \n",
       " β  \n",
       "────\n",
       "7812"
      ]
     },
     "execution_count": 581,
     "metadata": {},
     "output_type": "execute_result"
    }
   ],
   "source": [
    "c6 = Sum(2**k*2**(-6*k)/252*b**6,(k,1,oo)).doit()\n",
    "c6"
   ]
  },
  {
   "cell_type": "code",
   "execution_count": 552,
   "metadata": {},
   "outputs": [
    {
     "data": {
      "image/png": "[encoded data removed]",
      "text/latex": [
       "$$- 2^{k} \\left(\\frac{720}{z^{7}} + \\frac{17 \\cdot 2^{- 7 k} \\beta^{7}}{8 \\tanh{\\left (\\frac{2^{- k} \\beta z}{2} \\right )}} - \\frac{77 \\cdot 2^{- 7 k} \\beta^{7}}{8 \\tanh^{3}{\\left (\\frac{2^{- k} \\beta z}{2} \\right )}} + \\frac{105 \\cdot 2^{- 7 k} \\beta^{7}}{8 \\tanh^{5}{\\left (\\frac{2^{- k} \\beta z}{2} \\right )}} - \\frac{45 \\cdot 2^{- 7 k} \\beta^{7}}{8 \\tanh^{7}{\\left (\\frac{2^{- k} \\beta z}{2} \\right )}}\\right)$$"
      ],
      "text/plain": [
       "    ⎛            -7⋅k  7           -7⋅k  7             -7⋅k  7           -7⋅k \n",
       "  k ⎜720     17⋅2    ⋅β        77⋅2    ⋅β         105⋅2    ⋅β        45⋅2    ⋅\n",
       "-2 ⋅⎜─── + ─────────────── - ──────────────── + ──────────────── - ───────────\n",
       "    ⎜  7         ⎛ -k    ⎞          ⎛ -k    ⎞          ⎛ -k    ⎞          ⎛ -k\n",
       "    ⎜ z          ⎜2  ⋅β⋅z⎟         3⎜2  ⋅β⋅z⎟         5⎜2  ⋅β⋅z⎟         7⎜2  \n",
       "    ⎜      8⋅tanh⎜───────⎟   8⋅tanh ⎜───────⎟   8⋅tanh ⎜───────⎟   8⋅tanh ⎜───\n",
       "    ⎝            ⎝   2   ⎠          ⎝   2   ⎠          ⎝   2   ⎠          ⎝   \n",
       "\n",
       " 7   ⎞\n",
       "β    ⎟\n",
       "─────⎟\n",
       "    ⎞⎟\n",
       "⋅β⋅z⎟⎟\n",
       "────⎟⎟\n",
       "2   ⎠⎠"
      ]
     },
     "execution_count": 552,
     "metadata": {},
     "output_type": "execute_result"
    }
   ],
   "source": [
    "f7 = f0.diff(z,7).subs([[a,b/2**(k+1)]])\n",
    "f7 = f7.trigsimp()\n",
    "f7"
   ]
  },
  {
   "cell_type": "code",
   "execution_count": 566,
   "metadata": {},
   "outputs": [
    {
     "data": {
      "image/png": "[encoded data removed]",
      "text/latex": [
       "$$\\frac{2^{- 8 k} \\beta^{8} x}{240} + O\\left(x^{3}\\right)$$"
      ],
      "text/plain": [
       " -8⋅k  8          \n",
       "2    ⋅β ⋅x    ⎛ 3⎞\n",
       "────────── + O⎝x ⎠\n",
       "   240            "
      ]
     },
     "execution_count": 566,
     "metadata": {},
     "output_type": "execute_result"
    }
   ],
   "source": [
    "f7.args[2].subs([[z,x],[1/tanh(2**(-k)*b*x/2),coth(2**(-k)*b*x/2)]]).series(x,0,3)"
   ]
  },
  {
   "cell_type": "code",
   "execution_count": 567,
   "metadata": {},
   "outputs": [
    {
     "data": {
      "image/png": "[encoded data removed]",
      "text/latex": [
       "$$2^{k} \\left(\\frac{5040}{z^{8}} - \\frac{17 \\cdot 2^{- 8 k} \\beta^{8}}{16} + \\frac{31 \\cdot 2^{- 8 k} \\beta^{8}}{2 \\tanh^{2}{\\left (\\frac{2^{- k} \\beta z}{2} \\right )}} - \\frac{189 \\cdot 2^{- 8 k} \\beta^{8}}{4 \\tanh^{4}{\\left (\\frac{2^{- k} \\beta z}{2} \\right )}} + \\frac{105 \\cdot 2^{- 8 k} \\beta^{8}}{2 \\tanh^{6}{\\left (\\frac{2^{- k} \\beta z}{2} \\right )}} - \\frac{315 \\cdot 2^{- 8 k} \\beta^{8}}{16 \\tanh^{8}{\\left (\\frac{2^{- k} \\beta z}{2} \\right )}}\\right)$$"
      ],
      "text/plain": [
       "   ⎛           -8⋅k  8         -8⋅k  8             -8⋅k  8            -8⋅k  8 \n",
       " k ⎜5040   17⋅2    ⋅β      31⋅2    ⋅β         189⋅2    ⋅β        105⋅2    ⋅β  \n",
       "2 ⋅⎜──── - ─────────── + ──────────────── - ──────────────── + ───────────────\n",
       "   ⎜  8         16              ⎛ -k    ⎞          ⎛ -k    ⎞          ⎛ -k    \n",
       "   ⎜ z                         2⎜2  ⋅β⋅z⎟         4⎜2  ⋅β⋅z⎟         6⎜2  ⋅β⋅z\n",
       "   ⎜                     2⋅tanh ⎜───────⎟   4⋅tanh ⎜───────⎟   2⋅tanh ⎜───────\n",
       "   ⎝                            ⎝   2   ⎠          ⎝   2   ⎠          ⎝   2   \n",
       "\n",
       "            -8⋅k  8  ⎞\n",
       "       315⋅2    ⋅β   ⎟\n",
       "─ - ─────────────────⎟\n",
       "⎞           ⎛ -k    ⎞⎟\n",
       "⎟          8⎜2  ⋅β⋅z⎟⎟\n",
       "⎟   16⋅tanh ⎜───────⎟⎟\n",
       "⎠           ⎝   2   ⎠⎠"
      ]
     },
     "execution_count": 567,
     "metadata": {},
     "output_type": "execute_result"
    }
   ],
   "source": [
    "f8 = f0.diff(z,8).subs([[a,b/2**(k+1)]])\n",
    "f8 = f8.trigsimp()\n",
    "f8"
   ]
  },
  {
   "cell_type": "code",
   "execution_count": 571,
   "metadata": {},
   "outputs": [
    {
     "data": {
      "image/png": "[encoded data removed]",
      "text/latex": [
       "$$\\frac{2^{- 10 k} \\beta^{10} x^{2}}{264} - \\frac{2^{- 8 k} \\beta^{8}}{240} + O\\left(x^{3}\\right)$$"
      ],
      "text/plain": [
       " -10⋅k  10  2    -8⋅k  8        \n",
       "2     ⋅β  ⋅x    2    ⋅β     ⎛ 3⎞\n",
       "───────────── - ──────── + O⎝x ⎠\n",
       "     264          240           "
      ]
     },
     "execution_count": 571,
     "metadata": {},
     "output_type": "execute_result"
    }
   ],
   "source": [
    "f8.args[1].subs([[z,x],[1/tanh(2**(-k)*b*x/2),coth(2**(-k)*b*x/2)]]).series(x,0,3)"
   ]
  },
  {
   "cell_type": "code",
   "execution_count": 582,
   "metadata": {},
   "outputs": [
    {
     "data": {
      "image/png": "[encoded data removed]",
      "text/latex": [
       "$$- \\frac{\\beta^{8}}{30480}$$"
      ],
      "text/plain": [
       "   8 \n",
       " -β  \n",
       "─────\n",
       "30480"
      ]
     },
     "execution_count": 582,
     "metadata": {},
     "output_type": "execute_result"
    }
   ],
   "source": [
    "c8 = Sum(-2**k*2**(-8*k)*b**8/240,(k,1,oo)).doit()\n",
    "c8"
   ]
  },
  {
   "cell_type": "markdown",
   "metadata": {},
   "source": [
    "A série dos momentos até agora é:"
   ]
  },
  {
   "cell_type": "code",
   "execution_count": 576,
   "metadata": {},
   "outputs": [
    {
     "data": {
      "image/png": "[encoded data removed]",
      "text/latex": [
       "$$\\left ( \\frac{\\beta^{2}}{12}, \\quad - \\frac{\\beta^{4}}{840}, \\quad \\frac{\\beta^{6}}{15876}, \\quad - \\frac{\\beta^{8}}{61200}\\right )$$"
      ],
      "text/plain": [
       "⎛ 2    4      6      8 ⎞\n",
       "⎜β   -β      β     -β  ⎟\n",
       "⎜──, ────, ─────, ─────⎟\n",
       "⎝12  840   15876  61200⎠"
      ]
     },
     "execution_count": 576,
     "metadata": {},
     "output_type": "execute_result"
    }
   ],
   "source": [
    "c2,c4,c6,c8"
   ]
  },
  {
   "cell_type": "code",
   "execution_count": 577,
   "metadata": {},
   "outputs": [
    {
     "data": {
      "image/png": "[encoded data removed]",
      "text/latex": [
       "$$- \\frac{441 \\beta^{2}}{1700}$$"
      ],
      "text/plain": [
       "      2 \n",
       "-441⋅β  \n",
       "────────\n",
       "  1700  "
      ]
     },
     "execution_count": 577,
     "metadata": {},
     "output_type": "execute_result"
    }
   ],
   "source": [
    "c8/c6"
   ]
  },
  {
   "cell_type": "code",
   "execution_count": 578,
   "metadata": {},
   "outputs": [
    {
     "data": {
      "image/png": "[encoded data removed]",
      "text/latex": [
       "$$- \\frac{10 \\beta^{2}}{189}$$"
      ],
      "text/plain": [
       "     2 \n",
       "-10⋅β  \n",
       "───────\n",
       "  189  "
      ]
     },
     "execution_count": 578,
     "metadata": {},
     "output_type": "execute_result"
    }
   ],
   "source": [
    "c6/c4"
   ]
  },
  {
   "cell_type": "code",
   "execution_count": 579,
   "metadata": {},
   "outputs": [
    {
     "data": {
      "image/png": "[encoded data removed]",
      "text/latex": [
       "$$2^{k} \\left(\\frac{362880}{z^{10}} + \\frac{31 \\cdot 2^{- 10 k} \\beta^{10}}{4} - \\frac{691 \\cdot 2^{- 10 k} \\beta^{10}}{4 \\tanh^{2}{\\left (\\frac{2^{- k} \\beta z}{2} \\right )}} + \\frac{795 \\cdot 2^{- 10 k} \\beta^{10}}{\\tanh^{4}{\\left (\\frac{2^{- k} \\beta z}{2} \\right )}} - \\frac{11655 \\cdot 2^{- 10 k} \\beta^{10}}{8 \\tanh^{6}{\\left (\\frac{2^{- k} \\beta z}{2} \\right )}} + \\frac{4725 \\cdot 2^{- 10 k} \\beta^{10}}{4 \\tanh^{8}{\\left (\\frac{2^{- k} \\beta z}{2} \\right )}} - \\frac{2835 \\cdot 2^{- 10 k} \\beta^{10}}{8 \\tanh^{10}{\\left (\\frac{2^{- k} \\beta z}{2} \\right )}}\\right)$$"
      ],
      "text/plain": [
       "   ⎛             -10⋅k  10         -10⋅k  10         -10⋅k  10          -10⋅k \n",
       " k ⎜362880   31⋅2     ⋅β      691⋅2     ⋅β      795⋅2     ⋅β     11655⋅2     ⋅\n",
       "2 ⋅⎜────── + ───────────── - ──────────────── + ────────────── - ─────────────\n",
       "   ⎜  10           4                ⎛ -k    ⎞        ⎛ -k    ⎞          ⎛ -k  \n",
       "   ⎜ z                             2⎜2  ⋅β⋅z⎟       4⎜2  ⋅β⋅z⎟         6⎜2  ⋅β\n",
       "   ⎜                         4⋅tanh ⎜───────⎟   tanh ⎜───────⎟   8⋅tanh ⎜─────\n",
       "   ⎝                                ⎝   2   ⎠        ⎝   2   ⎠          ⎝   2 \n",
       "\n",
       " 10         -10⋅k  10           -10⋅k  10 ⎞\n",
       "β     4725⋅2     ⋅β       2835⋅2     ⋅β   ⎟\n",
       "─── + ──────────────── - ─────────────────⎟\n",
       "  ⎞          ⎛ -k    ⎞           ⎛ -k    ⎞⎟\n",
       "⋅z⎟         8⎜2  ⋅β⋅z⎟         10⎜2  ⋅β⋅z⎟⎟\n",
       "──⎟   4⋅tanh ⎜───────⎟   8⋅tanh  ⎜───────⎟⎟\n",
       "  ⎠          ⎝   2   ⎠           ⎝   2   ⎠⎠"
      ]
     },
     "execution_count": 579,
     "metadata": {},
     "output_type": "execute_result"
    }
   ],
   "source": [
    "f10 = f0.diff(z,10).subs([[a,b/2**(k+1)]])\n",
    "f10 = f10.trigsimp()\n",
    "f10"
   ]
  },
  {
   "cell_type": "code",
   "execution_count": 585,
   "metadata": {},
   "outputs": [],
   "source": [
    "f10 = f10.args[1].subs([[z,x],[1/tanh(2**(-k)*b*x/2),coth(2**(-k)*b*x/2)]])"
   ]
  },
  {
   "cell_type": "code",
   "execution_count": 586,
   "metadata": {},
   "outputs": [
    {
     "data": {
      "image/png": "[encoded data removed]",
      "text/latex": [
       "$$- \\frac{691 \\cdot 2^{- 12 k} \\beta^{12} x^{2}}{65520} + \\frac{2^{- 10 k} \\beta^{10}}{132} + O\\left(x^{3}\\right)$$"
      ],
      "text/plain": [
       "       -12⋅k  12  2    -10⋅k  10        \n",
       "  691⋅2     ⋅β  ⋅x    2     ⋅β      ⎛ 3⎞\n",
       "- ───────────────── + ────────── + O⎝x ⎠\n",
       "        65520            132            "
      ]
     },
     "execution_count": 586,
     "metadata": {},
     "output_type": "execute_result"
    }
   ],
   "source": [
    "f10.series(x,0,3)"
   ]
  },
  {
   "cell_type": "code",
   "execution_count": 587,
   "metadata": {},
   "outputs": [
    {
     "data": {
      "image/png": "[encoded data removed]",
      "text/latex": [
       "$$\\frac{\\beta^{10}}{67452}$$"
      ],
      "text/plain": [
       "  10 \n",
       " β   \n",
       "─────\n",
       "67452"
      ]
     },
     "execution_count": 587,
     "metadata": {},
     "output_type": "execute_result"
    }
   ],
   "source": [
    "c10 = Sum(2**k*2**(-10*k)*b**10/132,(k,1,oo)).doit()\n",
    "c10"
   ]
  },
  {
   "cell_type": "code",
   "execution_count": 590,
   "metadata": {},
   "outputs": [
    {
     "data": {
      "text/plain": [
       "'{(1/12)*beta^2, -1/840*beta^4, (1/7812)*beta^6, -1/30480*beta^8, (1/67452)*beta^10}'"
      ]
     },
     "execution_count": 590,
     "metadata": {},
     "output_type": "execute_result"
    }
   ],
   "source": [
    "mathematica_code([c2,c4,c6,c8,c10])"
   ]
  },
  {
   "cell_type": "markdown",
   "metadata": {},
   "source": [
    "Momentos pares até o décimo"
   ]
  },
  {
   "cell_type": "code",
   "execution_count": 752,
   "metadata": {},
   "outputs": [
    {
     "data": {
      "image/png": "[encoded data removed]",
      "text/latex": [
       "$$\\left[\\begin{matrix}- \\left\\langle{j}\\right\\rangle & \\frac{\\beta^{2}}{12} & 0 & - \\frac{\\beta^{4}}{840} & 0 & \\frac{\\beta^{6}}{7812} & 0 & - \\frac{\\beta^{8}}{30480} & 0 & \\frac{\\beta^{10}}{67452}\\end{matrix}\\right]$$"
      ],
      "text/plain": [
       "⎡                                2       4        6         8        10 ⎤\n",
       "⎢                               β      -β        β        -β        β   ⎥\n",
       "⎢-\\left\\langle{j}\\right\\rangle  ──  0  ────  0  ────  0  ─────  0  ─────⎥\n",
       "⎣                               12     840      7812     30480     67452⎦"
      ]
     },
     "execution_count": 752,
     "metadata": {},
     "output_type": "execute_result"
    }
   ],
   "source": [
    "Secnds = Array([-j,b**2*Rational(1,12), 0, b**4*Rational(-1,840), 0, b**6*Rational(1,7812), 0, b**8*Rational(-1,30480), 0, b**10*Rational(1,67452)])\n",
    "Secnds"
   ]
  },
  {
   "cell_type": "markdown",
   "metadata": {},
   "source": [
    "# Construindo o lado dreito da equação"
   ]
  },
  {
   "cell_type": "code",
   "execution_count": 685,
   "metadata": {},
   "outputs": [],
   "source": [
    "logP = log(Pi(z))"
   ]
  },
  {
   "cell_type": "code",
   "execution_count": 815,
   "metadata": {},
   "outputs": [
    {
     "data": {
      "image/png": "[encoded data removed]",
      "text/latex": [
       "$$\\left\\langle{j}\\right\\rangle^{8} + \\frac{7 \\left\\langle{j}\\right\\rangle^{6} \\beta^{2}}{3} + \\frac{11 \\left\\langle{j}\\right\\rangle^{4} \\beta^{4}}{8} + \\frac{305 \\left\\langle{j}\\right\\rangle^{2} \\beta^{6}}{1488} + \\frac{385529 \\beta^{8}}{105826560}$$"
      ],
      "text/plain": [
       "                                                              6  2            \n",
       "                            8   7⋅\\left\\langle{j}\\right\\rangle ⋅β    11⋅\\left\\\n",
       "\\left\\langle{j}\\right\\rangle  + ────────────────────────────────── + ─────────\n",
       "                                                3                             \n",
       "\n",
       "                      4  4                                   2  6           8\n",
       "langle{j}\\right\\rangle ⋅β    305⋅\\left\\langle{j}\\right\\rangle ⋅β    385529⋅β \n",
       "────────────────────────── + ──────────────────────────────────── + ─────────\n",
       "        8                                    1488                   105826560"
      ]
     },
     "execution_count": 815,
     "metadata": {},
     "output_type": "execute_result"
    }
   ],
   "source": [
    "mth = 8\n",
    "m8 = solve(Eq(logP.diff(z,mth).subs([[diff(Pi(z),z,i),(-1)**i*mu[i]] for i in range(mth,0,-1)]+[[Pi(z),1],[mu[1],j]]),Secnds[mth-1]),mu[mth])[0]\n",
    "m8 = m8.subs([[mu[2],m2],[mu[3],m3],[mu[4],m4],[mu[5],m5],[mu[6],m6],[mu[7],m7]]).simplify().expand()\n",
    "m8"
   ]
  },
  {
   "cell_type": "code",
   "execution_count": 825,
   "metadata": {},
   "outputs": [
    {
     "data": {
      "image/png": "[encoded data removed]",
      "text/latex": [
       "$$\\mu_{1} = \\left\\langle{j}\\right\\rangle$$"
      ],
      "text/plain": [
       "\\mu[1] = \\left\\langle{j}\\right\\rangle"
      ]
     },
     "execution_count": 825,
     "metadata": {},
     "output_type": "execute_result"
    }
   ],
   "source": [
    "m1 = j\n",
    "Eq(mu[1],m1)"
   ]
  },
  {
   "cell_type": "code",
   "execution_count": 758,
   "metadata": {},
   "outputs": [
    {
     "data": {
      "image/png": "[encoded data removed]",
      "text/latex": [
       "$$\\mu_{2} = \\left\\langle{j}\\right\\rangle^{2} + \\frac{\\beta^{2}}{12}$$"
      ],
      "text/plain": [
       "                                          2\n",
       "                                     2   β \n",
       "\\mu[2] = \\left\\langle{j}\\right\\rangle  + ──\n",
       "                                         12"
      ]
     },
     "execution_count": 758,
     "metadata": {},
     "output_type": "execute_result"
    }
   ],
   "source": [
    "Eq(mu[2],m2)"
   ]
  },
  {
   "cell_type": "code",
   "execution_count": 769,
   "metadata": {},
   "outputs": [
    {
     "data": {
      "image/png": "[encoded data removed]",
      "text/latex": [
       "$$\\mu_{3} = \\left\\langle{j}\\right\\rangle \\left(\\left\\langle{j}\\right\\rangle^{2} + \\frac{\\beta^{2}}{4}\\right)$$"
      ],
      "text/plain": [
       "                                      ⎛                                 2⎞\n",
       "                                      ⎜                            2   β ⎟\n",
       "\\mu[3] = \\left\\langle{j}\\right\\rangle⋅⎜\\left\\langle{j}\\right\\rangle  + ──⎟\n",
       "                                      ⎝                                4 ⎠"
      ]
     },
     "execution_count": 769,
     "metadata": {},
     "output_type": "execute_result"
    }
   ],
   "source": [
    "Eq(mu[3],m3)"
   ]
  },
  {
   "cell_type": "code",
   "execution_count": 796,
   "metadata": {},
   "outputs": [
    {
     "data": {
      "image/png": "[encoded data removed]",
      "text/latex": [
       "$$\\frac{\\beta^{4}}{48} + x = \\frac{11 \\beta^{4}}{560}$$"
      ],
      "text/plain": [
       " 4           4\n",
       "β        11⋅β \n",
       "── + x = ─────\n",
       "48        560 "
      ]
     },
     "execution_count": 796,
     "metadata": {},
     "output_type": "execute_result"
    }
   ],
   "source": [
    "Eq(3*(m2-j**2)**2+x,11*b**4/560)"
   ]
  },
  {
   "cell_type": "markdown",
   "metadata": {},
   "source": [
    "O que falta para o momento ser gaussiano, o valor é o resultado em $x$"
   ]
  },
  {
   "cell_type": "code",
   "execution_count": 802,
   "metadata": {},
   "outputs": [
    {
     "data": {
      "image/png": "[encoded data removed]",
      "text/latex": [
       "$$\\left [ - \\frac{\\beta^{4}}{840}\\right ]$$"
      ],
      "text/plain": [
       "⎡  4 ⎤\n",
       "⎢-β  ⎥\n",
       "⎢────⎥\n",
       "⎣840 ⎦"
      ]
     },
     "execution_count": 802,
     "metadata": {},
     "output_type": "execute_result"
    }
   ],
   "source": [
    "solve(Eq(3*(m2-j**2)**2+x,11*b**4/560),x)"
   ]
  },
  {
   "cell_type": "code",
   "execution_count": 809,
   "metadata": {},
   "outputs": [
    {
     "data": {
      "image/png": "[encoded data removed]",
      "text/latex": [
       "$$\\mu_{4} = \\left\\langle{j}\\right\\rangle^{4} + \\frac{\\left\\langle{j}\\right\\rangle^{2} \\beta^{2}}{2} + \\frac{11 \\beta^{4}}{560}$$"
      ],
      "text/plain": [
       "                                                                     2  2     \n",
       "                                     4   \\left\\langle{j}\\right\\rangle ⋅β    11\n",
       "\\mu[4] = \\left\\langle{j}\\right\\rangle  + ──────────────────────────────── + ──\n",
       "                                                        2                    5\n",
       "\n",
       "  4\n",
       "⋅β \n",
       "───\n",
       "60 "
      ]
     },
     "execution_count": 809,
     "metadata": {},
     "output_type": "execute_result"
    }
   ],
   "source": [
    "Eq(mu[4],m4)"
   ]
  },
  {
   "cell_type": "code",
   "execution_count": 807,
   "metadata": {},
   "outputs": [
    {
     "data": {
      "image/png": "[encoded data removed]",
      "text/latex": [
       "$$\\mu_{5} = \\left\\langle{j}\\right\\rangle^{5} + \\frac{5 \\left\\langle{j}\\right\\rangle^{3} \\beta^{2}}{6} + \\frac{11 \\left\\langle{j}\\right\\rangle \\beta^{4}}{112}$$"
      ],
      "text/plain": [
       "                                                                       3  2   \n",
       "                                     5   5⋅\\left\\langle{j}\\right\\rangle ⋅β    \n",
       "\\mu[5] = \\left\\langle{j}\\right\\rangle  + ────────────────────────────────── + \n",
       "                                                         6                    \n",
       "\n",
       "                                 4\n",
       "11⋅\\left\\langle{j}\\right\\rangle⋅β \n",
       "──────────────────────────────────\n",
       "               112                "
      ]
     },
     "execution_count": 807,
     "metadata": {},
     "output_type": "execute_result"
    }
   ],
   "source": [
    "Eq(mu[5],m5)"
   ]
  },
  {
   "cell_type": "code",
   "execution_count": 811,
   "metadata": {},
   "outputs": [
    {
     "data": {
      "image/png": "[encoded data removed]",
      "text/latex": [
       "$$\\mu_{6} = \\left\\langle{j}\\right\\rangle^{6} + \\frac{5 \\left\\langle{j}\\right\\rangle^{4} \\beta^{2}}{4} + \\frac{33 \\left\\langle{j}\\right\\rangle^{2} \\beta^{4}}{112} + \\frac{305 \\beta^{6}}{41664}$$"
      ],
      "text/plain": [
       "                                                                       4  2   \n",
       "                                     6   5⋅\\left\\langle{j}\\right\\rangle ⋅β    \n",
       "\\mu[6] = \\left\\langle{j}\\right\\rangle  + ────────────────────────────────── + \n",
       "                                                         4                    \n",
       "\n",
       "                               2  4        6\n",
       "33⋅\\left\\langle{j}\\right\\rangle ⋅β    305⋅β \n",
       "─────────────────────────────────── + ──────\n",
       "                112                   41664 "
      ]
     },
     "execution_count": 811,
     "metadata": {},
     "output_type": "execute_result"
    }
   ],
   "source": [
    "Eq(mu[6],m6)"
   ]
  },
  {
   "cell_type": "code",
   "execution_count": 814,
   "metadata": {},
   "outputs": [
    {
     "data": {
      "image/png": "[encoded data removed]",
      "text/latex": [
       "$$\\mu_{7} = \\left\\langle{j}\\right\\rangle^{7} + \\frac{7 \\left\\langle{j}\\right\\rangle^{5} \\beta^{2}}{4} + \\frac{11 \\left\\langle{j}\\right\\rangle^{3} \\beta^{4}}{16} + \\frac{305 \\left\\langle{j}\\right\\rangle \\beta^{6}}{5952}$$"
      ],
      "text/plain": [
       "                                                                       5  2   \n",
       "                                     7   7⋅\\left\\langle{j}\\right\\rangle ⋅β    \n",
       "\\mu[7] = \\left\\langle{j}\\right\\rangle  + ────────────────────────────────── + \n",
       "                                                         4                    \n",
       "\n",
       "                               3  4                                     6\n",
       "11⋅\\left\\langle{j}\\right\\rangle ⋅β    305⋅\\left\\langle{j}\\right\\rangle⋅β \n",
       "─────────────────────────────────── + ───────────────────────────────────\n",
       "                 16                                   5952               "
      ]
     },
     "execution_count": 814,
     "metadata": {},
     "output_type": "execute_result"
    }
   ],
   "source": [
    "Eq(mu[7],m7)"
   ]
  },
  {
   "cell_type": "code",
   "execution_count": 817,
   "metadata": {},
   "outputs": [
    {
     "data": {
      "image/png": "[encoded data removed]",
      "text/latex": [
       "$$\\mu_{8} = \\frac{105826560 \\left\\langle{j}\\right\\rangle^{8} + 246928640 \\left\\langle{j}\\right\\rangle^{6} \\beta^{2} + 145511520 \\left\\langle{j}\\right\\rangle^{4} \\beta^{4} + 21691600 \\left\\langle{j}\\right\\rangle^{2} \\beta^{6} + 385529 \\beta^{8}}{105826560}$$"
      ],
      "text/plain": [
       "                                               8                              \n",
       "         105826560⋅\\left\\langle{j}\\right\\rangle  + 246928640⋅\\left\\langle{j}\\r\n",
       "\\mu[8] = ─────────────────────────────────────────────────────────────────────\n",
       "                                                                              \n",
       "\n",
       "           6  2                                         4  4                  \n",
       "ight\\rangle ⋅β  + 145511520⋅\\left\\langle{j}\\right\\rangle ⋅β  + 21691600⋅\\left\\\n",
       "──────────────────────────────────────────────────────────────────────────────\n",
       "                   105826560                                                  \n",
       "\n",
       "                      2  6           8\n",
       "langle{j}\\right\\rangle ⋅β  + 385529⋅β \n",
       "──────────────────────────────────────\n",
       "                                      "
      ]
     },
     "execution_count": 817,
     "metadata": {},
     "output_type": "execute_result"
    }
   ],
   "source": [
    "Eq(mu[8],m8.factor())"
   ]
  },
  {
   "cell_type": "code",
   "execution_count": 818,
   "metadata": {},
   "outputs": [
    {
     "data": {
      "image/png": "[encoded data removed]",
      "text/latex": [
       "$$\\left\\langle{j}\\right\\rangle^{8} + \\frac{7 \\left\\langle{j}\\right\\rangle^{6} \\beta^{2}}{3} + \\frac{11 \\left\\langle{j}\\right\\rangle^{4} \\beta^{4}}{8} + \\frac{305 \\left\\langle{j}\\right\\rangle^{2} \\beta^{6}}{1488} + \\frac{385529 \\beta^{8}}{105826560}$$"
      ],
      "text/plain": [
       "                                                              6  2            \n",
       "                            8   7⋅\\left\\langle{j}\\right\\rangle ⋅β    11⋅\\left\\\n",
       "\\left\\langle{j}\\right\\rangle  + ────────────────────────────────── + ─────────\n",
       "                                                3                             \n",
       "\n",
       "                      4  4                                   2  6           8\n",
       "langle{j}\\right\\rangle ⋅β    305⋅\\left\\langle{j}\\right\\rangle ⋅β    385529⋅β \n",
       "────────────────────────── + ──────────────────────────────────── + ─────────\n",
       "        8                                    1488                   105826560"
      ]
     },
     "execution_count": 818,
     "metadata": {},
     "output_type": "execute_result"
    }
   ],
   "source": [
    "m8.simplify()"
   ]
  },
  {
   "cell_type": "code",
   "execution_count": 831,
   "metadata": {},
   "outputs": [
    {
     "data": {
      "image/png": "[encoded data removed]",
      "text/latex": [
       "$$\\left\\langle{j}\\right\\rangle^{4} - 4 \\left\\langle{j}\\right\\rangle^{3} x + 6 \\left\\langle{j}\\right\\rangle^{2} x^{2} - 4 \\left\\langle{j}\\right\\rangle x^{3} + x^{4}$$"
      ],
      "text/plain": [
       "                            4                                 3               \n",
       "\\left\\langle{j}\\right\\rangle  - 4⋅\\left\\langle{j}\\right\\rangle ⋅x + 6⋅\\left\\la\n",
       "\n",
       "                    2  2                                   3    4\n",
       "ngle{j}\\right\\rangle ⋅x  - 4⋅\\left\\langle{j}\\right\\rangle⋅x  + x "
      ]
     },
     "execution_count": 831,
     "metadata": {},
     "output_type": "execute_result"
    }
   ],
   "source": [
    "((x-j)**4).expand()"
   ]
  },
  {
   "cell_type": "code",
   "execution_count": 835,
   "metadata": {},
   "outputs": [
    {
     "data": {
      "image/png": "[encoded data removed]",
      "text/latex": [
       "$$\\frac{132 \\beta^{2}}{35}$$"
      ],
      "text/plain": [
       "     2\n",
       "132⋅β \n",
       "──────\n",
       "  35  "
      ]
     },
     "execution_count": 835,
     "metadata": {},
     "output_type": "execute_result"
    }
   ],
   "source": [
    "simplify(j**4-4*j**3*m1+6*j**2*m2-4*j*m3+m4)*(12/b*2)**2/3"
   ]
  },
  {
   "cell_type": "code",
   "execution_count": null,
   "metadata": {},
   "outputs": [],
   "source": []
  }
 ],
 "metadata": {
  "kernelspec": {
   "display_name": "Python 3",
   "language": "python",
   "name": "python3"
  },
  "language_info": {
   "codemirror_mode": {
    "name": "ipython",
    "version": 3
   },
   "file_extension": ".py",
   "mimetype": "text/x-python",
   "name": "python",
   "nbconvert_exporter": "python",
   "pygments_lexer": "ipython3",
   "version": "3.6.5"
  }
 },
 "nbformat": 4,
 "nbformat_minor": 2
}
