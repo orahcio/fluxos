{
 "cells": [
  {
   "cell_type": "code",
   "execution_count": 14,
   "metadata": {},
   "outputs": [],
   "source": [
    "x <- c(3,15,135)\n",
    "y <- c(2.31, 11.9, 2*60+42)"
   ]
  },
  {
   "cell_type": "code",
   "execution_count": 20,
   "metadata": {},
   "outputs": [],
   "source": [
    "fit <- lm(y ~ x)"
   ]
  },
  {
   "cell_type": "code",
   "execution_count": 22,
   "metadata": {},
   "outputs": [
    {
     "data": {
      "text/plain": [
       "\n",
       "Call:\n",
       "lm(formula = y ~ x)\n",
       "\n",
       "Residuals:\n",
       "      1       2       3 \n",
       " 2.4414 -2.6856  0.2441 \n",
       "\n",
       "Coefficients:\n",
       "            Estimate Std. Error t value Pr(>|t|)  \n",
       "(Intercept) -3.81070    2.76420  -1.379   0.3995  \n",
       "x            1.22642    0.03524  34.803   0.0183 *\n",
       "---\n",
       "Signif. codes:  0 ‘***’ 0.001 ‘**’ 0.01 ‘*’ 0.05 ‘.’ 0.1 ‘ ’ 1\n",
       "\n",
       "Residual standard error: 3.638 on 1 degrees of freedom\n",
       "Multiple R-squared:  0.9992,\tAdjusted R-squared:  0.9984 \n",
       "F-statistic:  1211 on 1 and 1 DF,  p-value: 0.01829\n"
      ]
     },
     "metadata": {},
     "output_type": "display_data"
    }
   ],
   "source": [
    "summary(fit)"
   ]
  },
  {
   "cell_type": "code",
   "execution_count": 35,
   "metadata": {},
   "outputs": [
    {
     "data": {
      "text/html": [
       "<dl class=dl-horizontal>\n",
       "\t<dt>1</dt>\n",
       "\t\t<dd>-3.65115115115133e-05</dd>\n",
       "\t<dt>2</dt>\n",
       "\t\t<dd>0.00405155155155155</dd>\n",
       "\t<dt>3</dt>\n",
       "\t\t<dd>0.0449321821821822</dd>\n",
       "\t<dt>4</dt>\n",
       "\t\t<dd>0.780783533533533</dd>\n",
       "\t<dt>5</dt>\n",
       "\t\t<dd>25.7997294794795</dd>\n",
       "</dl>\n"
      ],
      "text/latex": [
       "\\begin{description*}\n",
       "\\item[1] -3.65115115115133e-05\n",
       "\\item[2] 0.00405155155155155\n",
       "\\item[3] 0.0449321821821822\n",
       "\\item[4] 0.780783533533533\n",
       "\\item[5] 25.7997294794795\n",
       "\\end{description*}\n"
      ],
      "text/markdown": [
       "1\n",
       ":   -3.65115115115133e-052\n",
       ":   0.004051551551551553\n",
       ":   0.04493218218218224\n",
       ":   0.7807835335335335\n",
       ":   25.7997294794795\n",
       "\n"
      ],
      "text/plain": [
       "            1             2             3             4             5 \n",
       "-3.651151e-05  4.051552e-03  4.493218e-02  7.807835e-01  2.579973e+01 "
      ]
     },
     "metadata": {},
     "output_type": "display_data"
    }
   ],
   "source": [
    "predict(fit,data.frame(x=c(x,2295,75735)),type = 'response')/3600"
   ]
  },
  {
   "cell_type": "code",
   "execution_count": 30,
   "metadata": {},
   "outputs": [
    {
     "data": {
      "image/png": "[encoded data removed]",
      "text/plain": [
       "plot without title"
      ]
     },
     "metadata": {},
     "output_type": "display_data"
    }
   ],
   "source": [
    "plot(x,y,xlim = c(0,10), ylim = c(-5,10))\n",
    "abline(fit)"
   ]
  },
  {
   "cell_type": "code",
   "execution_count": 84,
   "metadata": {},
   "outputs": [],
   "source": [
    "x <- c(0.05, 0.1, 0.5, 1, 1.5, 2, 2.5, 3, 4)\n",
    "y <- c(0.0149513, 0.03008007, 0.14720726, 0.2944335, 0.44157792, 0.58912634, 0.73595744, 0.88314893, 1.17753191)"
   ]
  },
  {
   "cell_type": "code",
   "execution_count": 89,
   "metadata": {},
   "outputs": [
    {
     "data": {
      "text/plain": [
       "\n",
       "Formula: y ~ a * x\n",
       "\n",
       "Parameters:\n",
       "   Estimate Std. Error t value Pr(>|t|)    \n",
       "a 2.944e-01  4.322e-05    6811   <2e-16 ***\n",
       "---\n",
       "Signif. codes:  0 ‘***’ 0.001 ‘**’ 0.01 ‘*’ 0.05 ‘.’ 0.1 ‘ ’ 1\n",
       "\n",
       "Residual standard error: 0.0002691 on 8 degrees of freedom\n",
       "\n",
       "Number of iterations to convergence: 1 \n",
       "Achieved convergence tolerance: 1.937e-09\n"
      ]
     },
     "metadata": {},
     "output_type": "display_data"
    }
   ],
   "source": [
    "fit <- nls(y ~ a*x, start=list(a=0.5))\n",
    "summary(fit)"
   ]
  },
  {
   "cell_type": "code",
   "execution_count": 90,
   "metadata": {},
   "outputs": [
    {
     "data": {
      "image/png": "[encoded data removed]",
      "text/plain": [
       "plot without title"
      ]
     },
     "metadata": {},
     "output_type": "display_data"
    }
   ],
   "source": [
    "plot(x,y, log='xy')\n",
    "lines(x,predict(fit))"
   ]
  },
  {
   "cell_type": "code",
   "execution_count": 74,
   "metadata": {},
   "outputs": [
    {
     "data": {
      "text/html": [
       "<strong>a:</strong> 0.029465700060348"
      ],
      "text/latex": [
       "\\textbf{a:} 0.029465700060348"
      ],
      "text/markdown": [
       "**a:** 0.029465700060348"
      ],
      "text/plain": [
       "        a \n",
       "0.0294657 "
      ]
     },
     "metadata": {},
     "output_type": "display_data"
    }
   ],
   "source": [
    "coef(fit)[1]*0.1^coef(fit)[2]"
   ]
  },
  {
   "cell_type": "code",
   "execution_count": 65,
   "metadata": {},
   "outputs": [],
   "source": [
    "?abline"
   ]
  },
  {
   "cell_type": "code",
   "execution_count": 91,
   "metadata": {},
   "outputs": [
    {
     "data": {
      "text/html": [
       "0.288675134594813"
      ],
      "text/latex": [
       "0.288675134594813"
      ],
      "text/markdown": [
       "0.288675134594813"
      ],
      "text/plain": [
       "[1] 0.2886751"
      ]
     },
     "metadata": {},
     "output_type": "display_data"
    }
   ],
   "source": [
    "1/sqrt(12)"
   ]
  },
  {
   "cell_type": "code",
   "execution_count": 73,
   "metadata": {},
   "outputs": [
    {
     "data": {
      "text/html": [
       "<strong>a:</strong> 0.294484039360422"
      ],
      "text/latex": [
       "\\textbf{a:} 0.294484039360422"
      ],
      "text/markdown": [
       "**a:** 0.294484039360422"
      ],
      "text/plain": [
       "       a \n",
       "0.294484 "
      ]
     },
     "metadata": {},
     "output_type": "display_data"
    }
   ],
   "source": [
    "coef(fit)[1]"
   ]
  },
  {
   "cell_type": "code",
   "execution_count": 97,
   "metadata": {},
   "outputs": [
    {
     "data": {
      "text/html": [
       "12.8"
      ],
      "text/latex": [
       "12.8"
      ],
      "text/markdown": [
       "12.8"
      ],
      "text/plain": [
       "[1] 12.8"
      ]
     },
     "metadata": {},
     "output_type": "display_data"
    }
   ],
   "source": [
    "64/5"
   ]
  },
  {
   "cell_type": "code",
   "execution_count": 1,
   "metadata": {},
   "outputs": [],
   "source": [
    "A <- c(24, 16, 96/7, 64/5, 384/31)\n",
    "N <- c(1, 2, 3, 4, 5)"
   ]
  },
  {
   "cell_type": "code",
   "execution_count": 3,
   "metadata": {},
   "outputs": [
    {
     "data": {
      "text/html": [
       "<ol class=list-inline>\n",
       "\t<li>24</li>\n",
       "\t<li>16</li>\n",
       "\t<li>13.7142857142857</li>\n",
       "\t<li>12.8</li>\n",
       "\t<li>12.3870967741935</li>\n",
       "</ol>\n"
      ],
      "text/latex": [
       "\\begin{enumerate*}\n",
       "\\item 24\n",
       "\\item 16\n",
       "\\item 13.7142857142857\n",
       "\\item 12.8\n",
       "\\item 12.3870967741935\n",
       "\\end{enumerate*}\n"
      ],
      "text/markdown": [
       "1. 24\n",
       "2. 16\n",
       "3. 13.7142857142857\n",
       "4. 12.8\n",
       "5. 12.3870967741935\n",
       "\n",
       "\n"
      ],
      "text/plain": [
       "[1] 24.00000 16.00000 13.71429 12.80000 12.38710"
      ]
     },
     "metadata": {},
     "output_type": "display_data"
    }
   ],
   "source": [
    "A"
   ]
  },
  {
   "cell_type": "code",
   "execution_count": 2,
   "metadata": {},
   "outputs": [
    {
     "data": {
      "image/png": "[encoded data removed]",
      "text/plain": [
       "plot without title"
      ]
     },
     "metadata": {},
     "output_type": "display_data"
    }
   ],
   "source": [
    "fit <- nls(A ~ a*N^b, start=list(a=2,b=0.5))\n",
    "plot(N,A,log='')\n",
    "#lines(N,predict(fit))"
   ]
  },
  {
   "cell_type": "code",
   "execution_count": 5,
   "metadata": {},
   "outputs": [
    {
     "data": {
      "text/html": [
       "12.1904761904762"
      ],
      "text/latex": [
       "12.1904761904762"
      ],
      "text/markdown": [
       "12.1904761904762"
      ],
      "text/plain": [
       "[1] 12.19048"
      ]
     },
     "metadata": {},
     "output_type": "display_data"
    }
   ],
   "source": [
    "256/21"
   ]
  },
  {
   "cell_type": "code",
   "execution_count": 6,
   "metadata": {},
   "outputs": [
    {
     "data": {
      "text/html": [
       "12.0000001788139"
      ],
      "text/latex": [
       "12.0000001788139"
      ],
      "text/markdown": [
       "12.0000001788139"
      ],
      "text/plain": [
       "[1] 12"
      ]
     },
     "metadata": {},
     "output_type": "display_data"
    }
   ],
   "source": [
    "268435456/22369621"
   ]
  },
  {
   "cell_type": "code",
   "execution_count": null,
   "metadata": {},
   "outputs": [],
   "source": []
  }
 ],
 "metadata": {
  "kernelspec": {
   "display_name": "R",
   "language": "R",
   "name": "ir"
  },
  "language_info": {
   "codemirror_mode": "r",
   "file_extension": ".r",
   "mimetype": "text/x-r-source",
   "name": "R",
   "pygments_lexer": "r",
   "version": "3.2.3"
  }
 },
 "nbformat": 4,
 "nbformat_minor": 2
}
